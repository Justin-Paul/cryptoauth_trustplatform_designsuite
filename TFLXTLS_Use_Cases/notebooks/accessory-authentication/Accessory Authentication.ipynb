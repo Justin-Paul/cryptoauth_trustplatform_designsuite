{
 "cells": [
  {
   "cell_type": "markdown",
   "metadata": {},
   "source": [
    "# 1.Introduction\n",
    "\n",
    "This Notebook tutorial will allow you to perform Accessory authentication with TrustFLEX and Trust&GO devices."
   ]
  },
  {
   "cell_type": "markdown",
   "metadata": {},
   "source": [
    "## 1.1.Accessory authentication Transactions description\n",
    "\n",
    "The CryptoAuthentication device supports different modes of operation with MAC command. The mode used here is “Move the Challenge to TempKey” where the host sends a random seed to the device and the device generates a nonce (number used once) which incorporates it. The generated nonce here is the challenge. The application sends the MAC command to the device to generate response with the challenge and the symmetric key in it. The generated response is sent to the application and the application performs the same operation done on the device side to generate the response. Finally, the application compares the response from the device and its own calculated response to authenticate. "
   ]
  },
  {
   "cell_type": "markdown",
   "metadata": {},
   "source": [
    "## 1.2.Tutorial Prerequisites:\n",
    "    \n",
    "\n",
    "The following code is runs on python 3.x environment. The folowing modules are also needed to run the example\n",
    "\n",
    "1. cryptoauthlib\n",
    "2. cryptography\n",
    "3. ipywidgets\n",
    "\n",
    "The next step of the tutorial with attempt to load all the necessary modules and their dependencies on your machine. If the above modules are already installed you can safely step over the next Tutorial step.\n",
    "\n",
    "> <font color = green>pip install -U module_name</font>"
   ]
  },
  {
   "cell_type": "code",
   "execution_count": null,
   "metadata": {},
   "outputs": [],
   "source": [
    "!python -m pip install -r ../../../requirements.txt"
   ]
  },
  {
   "cell_type": "markdown",
   "metadata": {},
   "source": [
    "## 1.3. Load the necessary modules and helper functions\n",
    "\n",
    "This Tutorial uses a number of python helper functions that are loaded by the following cell.\n",
    "The below code does the following things:\n",
    "1. Setup of cryptography module\n",
    "2. Adds helper functions to get device name and device type"
   ]
  },
  {
   "cell_type": "code",
   "execution_count": null,
   "metadata": {},
   "outputs": [],
   "source": [
    "from cryptoauthlib import *\n",
    "from cryptoauthlib.iface import *\n",
    "from common import *\n",
    "from accessory_auth_helper import *\n",
    "from cryptography.hazmat.backends import default_backend\n",
    "from cryptography.hazmat.primitives import hashes\n",
    "import argparse,time\n",
    "print(\"Importing modules - Successful\")"
   ]
  },
  {
   "cell_type": "markdown",
   "metadata": {},
   "source": [
    "# 2. Tutorial\n",
    "\n",
    "This tutorial will guide you through the following steps:\n",
    "1. Establish the communication between host (PC) and TrustFLEX\n",
    "2. Generate MAC from device (TrustFLEX)\n",
    "3. Verify Expected MAC on Host"
   ]
  },
  {
   "cell_type": "markdown",
   "metadata": {},
   "source": [
    "## 2.1. Establish the communication between host (PC) and TrustFLEX\n",
    "1. Initialize the library which also loads it\n",
    "2. Check if the correct device is connected to the PC. If the wrong device is connected, a ValueError excpetion will be raised."
   ]
  },
  {
   "cell_type": "markdown",
   "metadata": {},
   "source": [
    "### 2.1.1. Select the CryptoAuthLib Hardware Abstraction layer to KIT USB HID\n"
   ]
  },
  {
   "cell_type": "code",
   "execution_count": null,
   "metadata": {},
   "outputs": [],
   "source": [
    "ATCA_KIT_I2C_IFACE = 1\n",
    "cfg = cfg_ateccx08a_kithid_default()\n",
    "cfg.devtype = get_device_type_id('ATECC608A')\n",
    "cfg.cfg.atcahid.dev_interface = ATCA_KIT_I2C_IFACE\n",
    "cfg.cfg.atcahid.dev_identity = 0x6C #TFLXTLS device I2C address\n",
    "ATCA_SUCCESS = 0\n",
    "print(\"Set devtype as ECC608A - Successful\")"
   ]
  },
  {
   "cell_type": "markdown",
   "metadata": {},
   "source": [
    "### 2.1.2. Establish the connection with TrustFLEX device on the USB dongle and check its type\n",
    "<font color=red>If the next Tutorial step yields an exception, the TrustFLEX is not correctly connected or of the wrong type.</font>"
   ]
  },
  {
   "cell_type": "code",
   "execution_count": null,
   "metadata": {},
   "outputs": [],
   "source": [
    "# Initialize interface\n",
    "assert atcab_init(cfg) == ATCA_SUCCESS, \"Can't connect to the USB dongle\"\n",
    "\n",
    "# Get connected device type\n",
    "info = bytearray(4)\n",
    "assert atcab_info(info) == ATCA_SUCCESS, \"Can't read the ECC608A device information\"\n",
    "dev_type = get_device_type_id(get_device_name(info))\n",
    "\n",
    "# Checking if the connected device matches with selected device\n",
    "if dev_type != cfg.devtype:\n",
    "    assert atcab_release() == ATCA_SUCCESS\n",
    "    raise ValueError('Device not supported')\n",
    "    \n",
    "print(\"Device initialization - Successful\")"
   ]
  },
  {
   "cell_type": "markdown",
   "metadata": {},
   "source": [
    "## 2.2. Generate MAC from TFLXTLS part\n",
    "Generate the MAC with ECC608A device.The MAC is generated with the symmetric key in slot, Random number and with device serial number.The MAC generated from the device uses the Random number generator and the generated MAC is unique and will not repeat in future."
   ]
  },
  {
   "cell_type": "markdown",
   "metadata": {},
   "source": [
    "<center><img src=\"img/accessory_auth_image_source1.png\" alt=\"**Get your Secure Elements here!**\" /></center>"
   ]
  },
  {
   "cell_type": "code",
   "execution_count": null,
   "metadata": {},
   "outputs": [],
   "source": [
    "seed_in = bytearray(20)\n",
    "rand_out = bytearray(32)\n",
    "nonce = bytearray()\n",
    "device_mac = bytearray(32)\n",
    "\n",
    "# Generate the nonce in device and return the random number\n",
    "assert atcab_nonce_rand(seed_in,rand_out) == ATCA_SUCCESS, \"Random nonce from device failed\"\n",
    "\n",
    "# Calculate the nonce value on the host side\n",
    "nonce.extend(rand_out[0:32])\n",
    "nonce.extend(seed_in[0:20])\n",
    "nonce.append(0x16)\n",
    "nonce.append(0)\n",
    "nonce.append(0)\n",
    "digest = hashes.Hash(hashes.SHA256(), backend=default_backend())\n",
    "digest.update(bytes(nonce))\n",
    "nonce = digest.finalize()\n",
    "\n",
    "# Calculate the mac in device with its symmetric diversified key in slot\n",
    "assert atcab_mac(MAC_MODE,SHARED_SECRET_SLOT,0,device_mac) == ATCA_SUCCESS, \"MAC from Accessory device failed\"\n",
    "print(\"MAC Received from Accessory device:\")\n",
    "print(pretty_print_hex(device_mac, indent='    '))"
   ]
  },
  {
   "cell_type": "markdown",
   "metadata": {},
   "source": [
    "## 2.3. Verify Expected MAC on Host\n",
    "Calculate the MAC on the host side.The host with the help of the symmetric key, random nonce and with the TFLXTLS serial number generates the Expected MAC. It then compares the Expected MAC with the MAC sent from TFLXTLS device and executes application after successfull authentication."
   ]
  },
  {
   "cell_type": "markdown",
   "metadata": {},
   "source": [
    "<center><img src=\"img/accessory_auth_image_source2.png\" alt=\"**Get your Secure Elements here!**\" /></center>"
   ]
  },
  {
   "cell_type": "code",
   "execution_count": null,
   "metadata": {},
   "outputs": [],
   "source": [
    "def mac_mac_resp_verify(b):\n",
    "    serial_number = bytearray(9)\n",
    "    host_mac = bytearray()\n",
    "    Symmetric_key = bytearray()\n",
    "\n",
    "    # Symmetric key to be used host mac calculation\n",
    "    Symmetric_key = get_symmetric_key()\n",
    "\n",
    "    #Read the serial number from device\n",
    "    assert atcab_read_serial_number(serial_number) == ATCA_SUCCESS, \"Serial number read from device failed\"\n",
    "\n",
    "    # Calculate the mac on the host side\n",
    "    host_mac.extend(Symmetric_key[0:32])\n",
    "    host_mac.extend(nonce[0:32])\n",
    "    host_mac.append(8)\n",
    "    host_mac.append(MAC_MODE)\n",
    "    host_mac.append(SHARED_SECRET_SLOT)\n",
    "    host_mac.append(0)\n",
    "    host_mac.extend([0 for i in range(11)])\n",
    "    host_mac.append(serial_number[8])\n",
    "    host_mac.extend(serial_number[4:8])\n",
    "    host_mac.extend(serial_number[0:2])\n",
    "    host_mac.extend(serial_number[2:4])\n",
    "    digest = hashes.Hash(hashes.SHA256(), backend=default_backend())\n",
    "    digest.update(bytes(host_mac))\n",
    "    host_mac = digest.finalize()\n",
    "    \n",
    "    #uncomment following line to try wrong mac\n",
    "    #host_mac = bytes(b'00000000000000000000000000000000')\n",
    "\n",
    "    print(\"MAC calculated on host:\")\n",
    "    print(pretty_print_hex(host_mac, indent='    '))\n",
    "\n",
    "    if (device_mac == host_mac):\n",
    "        print('\\nAccessory device authenticated successfully!')\n",
    "        mac_verify.button_style = 'success'\n",
    "    else:\n",
    "        mac_verify.button_style = 'danger'\n",
    "        print('\\Accessory device not authenticated...')\n",
    "        \n",
    "mac_verify = widgets.Button(description = \"Verify MAC\", tooltip = 'MAC & MAC-Response Verify')\n",
    "mac_verify.on_click(mac_mac_resp_verify)\n",
    "display(mac_verify)"
   ]
  }
 ],
 "metadata": {
  "kernelspec": {
   "display_name": "Python 3",
   "language": "python",
   "name": "python3"
  },
  "language_info": {
   "codemirror_mode": {
    "name": "ipython",
    "version": 3
   },
   "file_extension": ".py",
   "mimetype": "text/x-python",
   "name": "python",
   "nbconvert_exporter": "python",
   "pygments_lexer": "ipython3",
   "version": "3.7.0"
  }
 },
 "nbformat": 4,
 "nbformat_minor": 2
}

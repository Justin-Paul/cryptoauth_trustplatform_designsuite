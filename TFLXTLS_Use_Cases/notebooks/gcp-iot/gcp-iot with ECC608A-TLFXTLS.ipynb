{
 "cells": [
  {
   "cell_type": "markdown",
   "metadata": {},
   "source": [
    "# 1.Introduction\n",
    "\n",
    "This Notebook tutorial will allow you to register the device through manifest file and for viewing the output"
   ]
  },
  {
   "cell_type": "markdown",
   "metadata": {},
   "source": [
    "### 1.1.Tutorial Prerequisites:\n",
    "    \n",
    "\n",
    "The following code is runs on python 3.x environment. This step of the tutorial will attempt to load all the necessary modules and their dependencies on your machine. If the above modules are already installed you can safely step over the next Tutorial step.\n",
    "\n",
    "> <font color = green>pip install -U module_name</font>"
   ]
  },
  {
   "cell_type": "code",
   "execution_count": 1,
   "metadata": {
    "scrolled": true
   },
   "outputs": [
    {
     "name": "stdout",
     "output_type": "stream",
     "text": [
      "Requirement already satisfied: awscli in c:\\users\\i18336\\appdata\\local\\programs\\python\\python37-32\\lib\\site-packages (from -r ../../../requirements.txt (line 1)) (1.16.244)\n",
      "Requirement already satisfied: cryptoauthlib>=20190831 in c:\\users\\i18336\\appdata\\local\\programs\\python\\python37-32\\lib\\site-packages (from -r ../../../requirements.txt (line 2)) (20190903)\n",
      "Requirement already satisfied: cryptography>=2.7 in c:\\users\\i18336\\appdata\\local\\programs\\python\\python37-32\\lib\\site-packages (from -r ../../../requirements.txt (line 3)) (2.7)\n",
      "Requirement already satisfied: ipywidgets>=7.5.1 in c:\\users\\i18336\\appdata\\local\\programs\\python\\python37-32\\lib\\site-packages (from -r ../../../requirements.txt (line 4)) (7.5.1)\n",
      "Requirement already satisfied: pyasn1_modules==0.1.5 in c:\\users\\i18336\\appdata\\local\\programs\\python\\python37-32\\lib\\site-packages (from -r ../../../requirements.txt (line 5)) (0.1.5)\n",
      "Requirement already satisfied: pytz>=2018.9 in c:\\users\\i18336\\appdata\\local\\programs\\python\\python37-32\\lib\\site-packages (from -r ../../../requirements.txt (line 6)) (2019.2)\n",
      "Requirement already satisfied: python_jose in c:\\users\\i18336\\appdata\\local\\programs\\python\\python37-32\\lib\\site-packages (from -r ../../../requirements.txt (line 7)) (3.0.1)\n",
      "Requirement already satisfied: boto3 in c:\\users\\i18336\\appdata\\local\\programs\\python\\python37-32\\lib\\site-packages (from -r ../../../requirements.txt (line 8)) (1.9.221)\n",
      "Requirement already satisfied: requests_aws4auth in c:\\users\\i18336\\appdata\\local\\programs\\python\\python37-32\\lib\\site-packages (from -r ../../../requirements.txt (line 9)) (0.9)\n",
      "Requirement already satisfied: google-cloud-pubsub in c:\\users\\i18336\\appdata\\local\\programs\\python\\python37-32\\lib\\site-packages (from -r ../../../requirements.txt (line 10)) (1.0.2)\n",
      "Requirement already satisfied: google-cloud-iot in c:\\users\\i18336\\appdata\\local\\programs\\python\\python37-32\\lib\\site-packages (from -r ../../../requirements.txt (line 11)) (0.3.0)\n",
      "Requirement already satisfied: PyYAML<=5.2,>=3.10; python_version != \"2.6\" in c:\\users\\i18336\\appdata\\local\\programs\\python\\python37-32\\lib\\site-packages (from awscli->-r ../../../requirements.txt (line 1)) (5.1.2)\n",
      "Requirement already satisfied: s3transfer<0.3.0,>=0.2.0 in c:\\users\\i18336\\appdata\\local\\programs\\python\\python37-32\\lib\\site-packages (from awscli->-r ../../../requirements.txt (line 1)) (0.2.1)\n",
      "Requirement already satisfied: docutils<0.16,>=0.10 in c:\\users\\i18336\\appdata\\local\\programs\\python\\python37-32\\lib\\site-packages (from awscli->-r ../../../requirements.txt (line 1)) (0.14)\n",
      "Requirement already satisfied: rsa<=3.5.0,>=3.1.2 in c:\\users\\i18336\\appdata\\local\\programs\\python\\python37-32\\lib\\site-packages (from awscli->-r ../../../requirements.txt (line 1)) (3.4.2)\n",
      "Requirement already satisfied: colorama<=0.3.9,>=0.2.5 in c:\\users\\i18336\\appdata\\local\\programs\\python\\python37-32\\lib\\site-packages (from awscli->-r ../../../requirements.txt (line 1)) (0.3.9)\n",
      "Requirement already satisfied: botocore==1.12.234 in c:\\users\\i18336\\appdata\\local\\programs\\python\\python37-32\\lib\\site-packages (from awscli->-r ../../../requirements.txt (line 1)) (1.12.234)\n",
      "Requirement already satisfied: asn1crypto>=0.21.0 in c:\\users\\i18336\\appdata\\local\\programs\\python\\python37-32\\lib\\site-packages (from cryptography>=2.7->-r ../../../requirements.txt (line 3)) (0.24.0)\n",
      "Requirement already satisfied: six>=1.4.1 in c:\\users\\i18336\\appdata\\local\\programs\\python\\python37-32\\lib\\site-packages (from cryptography>=2.7->-r ../../../requirements.txt (line 3)) (1.11.0)\n",
      "Requirement already satisfied: cffi!=1.11.3,>=1.8 in c:\\users\\i18336\\appdata\\local\\programs\\python\\python37-32\\lib\\site-packages (from cryptography>=2.7->-r ../../../requirements.txt (line 3)) (1.11.5)\n",
      "Requirement already satisfied: traitlets>=4.3.1 in c:\\users\\i18336\\appdata\\local\\programs\\python\\python37-32\\lib\\site-packages (from ipywidgets>=7.5.1->-r ../../../requirements.txt (line 4)) (4.3.2)\n",
      "Requirement already satisfied: ipython>=4.0.0; python_version >= \"3.3\" in c:\\users\\i18336\\appdata\\local\\programs\\python\\python37-32\\lib\\site-packages (from ipywidgets>=7.5.1->-r ../../../requirements.txt (line 4)) (7.6.1)\n",
      "Requirement already satisfied: nbformat>=4.2.0 in c:\\users\\i18336\\appdata\\local\\programs\\python\\python37-32\\lib\\site-packages (from ipywidgets>=7.5.1->-r ../../../requirements.txt (line 4)) (4.4.0)\n",
      "Requirement already satisfied: ipykernel>=4.5.1 in c:\\users\\i18336\\appdata\\local\\programs\\python\\python37-32\\lib\\site-packages (from ipywidgets>=7.5.1->-r ../../../requirements.txt (line 4)) (5.1.1)\n",
      "Requirement already satisfied: widgetsnbextension~=3.5.0 in c:\\users\\i18336\\appdata\\local\\programs\\python\\python37-32\\lib\\site-packages (from ipywidgets>=7.5.1->-r ../../../requirements.txt (line 4)) (3.5.0)\n",
      "Requirement already satisfied: pyasn1<0.4.0,>=0.3.4 in c:\\users\\i18336\\appdata\\local\\programs\\python\\python37-32\\lib\\site-packages (from pyasn1_modules==0.1.5->-r ../../../requirements.txt (line 5)) (0.3.7)\n",
      "Requirement already satisfied: ecdsa<1.0 in c:\\users\\i18336\\appdata\\local\\programs\\python\\python37-32\\lib\\site-packages (from python_jose->-r ../../../requirements.txt (line 7)) (0.13.2)\n",
      "Requirement already satisfied: future<1.0 in c:\\users\\i18336\\appdata\\local\\programs\\python\\python37-32\\lib\\site-packages (from python_jose->-r ../../../requirements.txt (line 7)) (0.17.1)\n",
      "Requirement already satisfied: jmespath<1.0.0,>=0.7.1 in c:\\users\\i18336\\appdata\\local\\programs\\python\\python37-32\\lib\\site-packages (from boto3->-r ../../../requirements.txt (line 8)) (0.9.3)\n",
      "Requirement already satisfied: requests in c:\\users\\i18336\\appdata\\local\\programs\\python\\python37-32\\lib\\site-packages (from requests_aws4auth->-r ../../../requirements.txt (line 9)) (2.19.1)\n",
      "Requirement already satisfied: google-api-core[grpc]<2.0.0dev,>=1.14.0 in c:\\users\\i18336\\appdata\\local\\programs\\python\\python37-32\\lib\\site-packages (from google-cloud-pubsub->-r ../../../requirements.txt (line 10)) (1.14.2)\n",
      "Requirement already satisfied: grpc-google-iam-v1<0.13dev,>=0.12.3 in c:\\users\\i18336\\appdata\\local\\programs\\python\\python37-32\\lib\\site-packages (from google-cloud-pubsub->-r ../../../requirements.txt (line 10)) (0.12.3)\n",
      "Requirement already satisfied: urllib3<1.26,>=1.20; python_version >= \"3.4\" in c:\\users\\i18336\\appdata\\local\\programs\\python\\python37-32\\lib\\site-packages (from botocore==1.12.234->awscli->-r ../../../requirements.txt (line 1)) (1.23)\n",
      "Requirement already satisfied: python-dateutil<3.0.0,>=2.1; python_version >= \"2.7\" in c:\\users\\i18336\\appdata\\local\\programs\\python\\python37-32\\lib\\site-packages (from botocore==1.12.234->awscli->-r ../../../requirements.txt (line 1)) (2.7.3)\n",
      "Requirement already satisfied: pycparser in c:\\users\\i18336\\appdata\\local\\programs\\python\\python37-32\\lib\\site-packages (from cffi!=1.11.3,>=1.8->cryptography>=2.7->-r ../../../requirements.txt (line 3)) (2.18)\n",
      "Requirement already satisfied: decorator in c:\\users\\i18336\\appdata\\local\\programs\\python\\python37-32\\lib\\site-packages (from traitlets>=4.3.1->ipywidgets>=7.5.1->-r ../../../requirements.txt (line 4)) (4.4.0)\n",
      "Requirement already satisfied: ipython-genutils in c:\\users\\i18336\\appdata\\local\\programs\\python\\python37-32\\lib\\site-packages (from traitlets>=4.3.1->ipywidgets>=7.5.1->-r ../../../requirements.txt (line 4)) (0.2.0)\n",
      "Requirement already satisfied: backcall in c:\\users\\i18336\\appdata\\local\\programs\\python\\python37-32\\lib\\site-packages (from ipython>=4.0.0; python_version >= \"3.3\"->ipywidgets>=7.5.1->-r ../../../requirements.txt (line 4)) (0.1.0)\n",
      "Requirement already satisfied: pygments in c:\\users\\i18336\\appdata\\local\\programs\\python\\python37-32\\lib\\site-packages (from ipython>=4.0.0; python_version >= \"3.3\"->ipywidgets>=7.5.1->-r ../../../requirements.txt (line 4)) (2.4.2)\n",
      "Requirement already satisfied: setuptools>=18.5 in c:\\users\\i18336\\appdata\\local\\programs\\python\\python37-32\\lib\\site-packages (from ipython>=4.0.0; python_version >= \"3.3\"->ipywidgets>=7.5.1->-r ../../../requirements.txt (line 4)) (39.0.1)\n",
      "Requirement already satisfied: pickleshare in c:\\users\\i18336\\appdata\\local\\programs\\python\\python37-32\\lib\\site-packages (from ipython>=4.0.0; python_version >= \"3.3\"->ipywidgets>=7.5.1->-r ../../../requirements.txt (line 4)) (0.7.5)\n",
      "Requirement already satisfied: prompt-toolkit<2.1.0,>=2.0.0 in c:\\users\\i18336\\appdata\\local\\programs\\python\\python37-32\\lib\\site-packages (from ipython>=4.0.0; python_version >= \"3.3\"->ipywidgets>=7.5.1->-r ../../../requirements.txt (line 4)) (2.0.9)\n",
      "Requirement already satisfied: jedi>=0.10 in c:\\users\\i18336\\appdata\\local\\programs\\python\\python37-32\\lib\\site-packages (from ipython>=4.0.0; python_version >= \"3.3\"->ipywidgets>=7.5.1->-r ../../../requirements.txt (line 4)) (0.14.0)\n",
      "Requirement already satisfied: jupyter-core in c:\\users\\i18336\\appdata\\local\\programs\\python\\python37-32\\lib\\site-packages (from nbformat>=4.2.0->ipywidgets>=7.5.1->-r ../../../requirements.txt (line 4)) (4.5.0)\n",
      "Requirement already satisfied: jsonschema!=2.5.0,>=2.4 in c:\\users\\i18336\\appdata\\local\\programs\\python\\python37-32\\lib\\site-packages (from nbformat>=4.2.0->ipywidgets>=7.5.1->-r ../../../requirements.txt (line 4)) (3.0.1)\n",
      "Requirement already satisfied: tornado>=4.2 in c:\\users\\i18336\\appdata\\local\\programs\\python\\python37-32\\lib\\site-packages (from ipykernel>=4.5.1->ipywidgets>=7.5.1->-r ../../../requirements.txt (line 4)) (6.0.3)\n",
      "Requirement already satisfied: jupyter-client in c:\\users\\i18336\\appdata\\local\\programs\\python\\python37-32\\lib\\site-packages (from ipykernel>=4.5.1->ipywidgets>=7.5.1->-r ../../../requirements.txt (line 4)) (5.2.4)\n",
      "Requirement already satisfied: notebook>=4.4.1 in c:\\users\\i18336\\appdata\\local\\programs\\python\\python37-32\\lib\\site-packages (from widgetsnbextension~=3.5.0->ipywidgets>=7.5.1->-r ../../../requirements.txt (line 4)) (5.7.8)\n",
      "Requirement already satisfied: certifi>=2017.4.17 in c:\\users\\i18336\\appdata\\local\\programs\\python\\python37-32\\lib\\site-packages (from requests->requests_aws4auth->-r ../../../requirements.txt (line 9)) (2018.8.24)\n",
      "Requirement already satisfied: idna<2.8,>=2.5 in c:\\users\\i18336\\appdata\\local\\programs\\python\\python37-32\\lib\\site-packages (from requests->requests_aws4auth->-r ../../../requirements.txt (line 9)) (2.7)\n",
      "Requirement already satisfied: chardet<3.1.0,>=3.0.2 in c:\\users\\i18336\\appdata\\local\\programs\\python\\python37-32\\lib\\site-packages (from requests->requests_aws4auth->-r ../../../requirements.txt (line 9)) (3.0.4)\n",
      "Requirement already satisfied: googleapis-common-protos<2.0dev,>=1.6.0 in c:\\users\\i18336\\appdata\\local\\programs\\python\\python37-32\\lib\\site-packages (from google-api-core[grpc]<2.0.0dev,>=1.14.0->google-cloud-pubsub->-r ../../../requirements.txt (line 10)) (1.6.0)\n",
      "Requirement already satisfied: protobuf>=3.4.0 in c:\\users\\i18336\\appdata\\local\\programs\\python\\python37-32\\lib\\site-packages (from google-api-core[grpc]<2.0.0dev,>=1.14.0->google-cloud-pubsub->-r ../../../requirements.txt (line 10)) (3.10.0)\n",
      "Requirement already satisfied: google-auth<2.0dev,>=0.4.0 in c:\\users\\i18336\\appdata\\local\\programs\\python\\python37-32\\lib\\site-packages (from google-api-core[grpc]<2.0.0dev,>=1.14.0->google-cloud-pubsub->-r ../../../requirements.txt (line 10)) (1.6.3)\n",
      "Requirement already satisfied: grpcio<2.0dev,>=1.8.2; extra == \"grpc\" in c:\\users\\i18336\\appdata\\local\\programs\\python\\python37-32\\lib\\site-packages (from google-api-core[grpc]<2.0.0dev,>=1.14.0->google-cloud-pubsub->-r ../../../requirements.txt (line 10)) (1.24.1)\n",
      "Requirement already satisfied: wcwidth in c:\\users\\i18336\\appdata\\local\\programs\\python\\python37-32\\lib\\site-packages (from prompt-toolkit<2.1.0,>=2.0.0->ipython>=4.0.0; python_version >= \"3.3\"->ipywidgets>=7.5.1->-r ../../../requirements.txt (line 4)) (0.1.7)\n",
      "Requirement already satisfied: parso>=0.3.0 in c:\\users\\i18336\\appdata\\local\\programs\\python\\python37-32\\lib\\site-packages (from jedi>=0.10->ipython>=4.0.0; python_version >= \"3.3\"->ipywidgets>=7.5.1->-r ../../../requirements.txt (line 4)) (0.5.0)\n",
      "Requirement already satisfied: attrs>=17.4.0 in c:\\users\\i18336\\appdata\\local\\programs\\python\\python37-32\\lib\\site-packages (from jsonschema!=2.5.0,>=2.4->nbformat>=4.2.0->ipywidgets>=7.5.1->-r ../../../requirements.txt (line 4)) (18.2.0)\n",
      "Requirement already satisfied: pyrsistent>=0.14.0 in c:\\users\\i18336\\appdata\\local\\programs\\python\\python37-32\\lib\\site-packages (from jsonschema!=2.5.0,>=2.4->nbformat>=4.2.0->ipywidgets>=7.5.1->-r ../../../requirements.txt (line 4)) (0.15.2)\n",
      "Requirement already satisfied: pyzmq>=13 in c:\\users\\i18336\\appdata\\local\\programs\\python\\python37-32\\lib\\site-packages (from jupyter-client->ipykernel>=4.5.1->ipywidgets>=7.5.1->-r ../../../requirements.txt (line 4)) (18.0.2)\n",
      "Requirement already satisfied: prometheus-client in c:\\users\\i18336\\appdata\\local\\programs\\python\\python37-32\\lib\\site-packages (from notebook>=4.4.1->widgetsnbextension~=3.5.0->ipywidgets>=7.5.1->-r ../../../requirements.txt (line 4)) (0.7.1)\n",
      "Requirement already satisfied: jinja2 in c:\\users\\i18336\\appdata\\local\\programs\\python\\python37-32\\lib\\site-packages (from notebook>=4.4.1->widgetsnbextension~=3.5.0->ipywidgets>=7.5.1->-r ../../../requirements.txt (line 4)) (2.10.1)\n",
      "Requirement already satisfied: Send2Trash in c:\\users\\i18336\\appdata\\local\\programs\\python\\python37-32\\lib\\site-packages (from notebook>=4.4.1->widgetsnbextension~=3.5.0->ipywidgets>=7.5.1->-r ../../../requirements.txt (line 4)) (1.5.0)\n",
      "Requirement already satisfied: nbconvert in c:\\users\\i18336\\appdata\\local\\programs\\python\\python37-32\\lib\\site-packages (from notebook>=4.4.1->widgetsnbextension~=3.5.0->ipywidgets>=7.5.1->-r ../../../requirements.txt (line 4)) (5.5.0)\n",
      "Requirement already satisfied: terminado>=0.8.1 in c:\\users\\i18336\\appdata\\local\\programs\\python\\python37-32\\lib\\site-packages (from notebook>=4.4.1->widgetsnbextension~=3.5.0->ipywidgets>=7.5.1->-r ../../../requirements.txt (line 4)) (0.8.2)\n",
      "Requirement already satisfied: cachetools>=2.0.0 in c:\\users\\i18336\\appdata\\local\\programs\\python\\python37-32\\lib\\site-packages (from google-auth<2.0dev,>=0.4.0->google-api-core[grpc]<2.0.0dev,>=1.14.0->google-cloud-pubsub->-r ../../../requirements.txt (line 10)) (3.1.1)\n",
      "Requirement already satisfied: MarkupSafe>=0.23 in c:\\users\\i18336\\appdata\\local\\programs\\python\\python37-32\\lib\\site-packages (from jinja2->notebook>=4.4.1->widgetsnbextension~=3.5.0->ipywidgets>=7.5.1->-r ../../../requirements.txt (line 4)) (1.1.1)\n",
      "Requirement already satisfied: bleach in c:\\users\\i18336\\appdata\\local\\programs\\python\\python37-32\\lib\\site-packages (from nbconvert->notebook>=4.4.1->widgetsnbextension~=3.5.0->ipywidgets>=7.5.1->-r ../../../requirements.txt (line 4)) (3.1.0)\n",
      "Requirement already satisfied: mistune>=0.8.1 in c:\\users\\i18336\\appdata\\local\\programs\\python\\python37-32\\lib\\site-packages (from nbconvert->notebook>=4.4.1->widgetsnbextension~=3.5.0->ipywidgets>=7.5.1->-r ../../../requirements.txt (line 4)) (0.8.4)\n",
      "Requirement already satisfied: entrypoints>=0.2.2 in c:\\users\\i18336\\appdata\\local\\programs\\python\\python37-32\\lib\\site-packages (from nbconvert->notebook>=4.4.1->widgetsnbextension~=3.5.0->ipywidgets>=7.5.1->-r ../../../requirements.txt (line 4)) (0.3)\n",
      "Requirement already satisfied: testpath in c:\\users\\i18336\\appdata\\local\\programs\\python\\python37-32\\lib\\site-packages (from nbconvert->notebook>=4.4.1->widgetsnbextension~=3.5.0->ipywidgets>=7.5.1->-r ../../../requirements.txt (line 4)) (0.4.2)\n",
      "Requirement already satisfied: pandocfilters>=1.4.1 in c:\\users\\i18336\\appdata\\local\\programs\\python\\python37-32\\lib\\site-packages (from nbconvert->notebook>=4.4.1->widgetsnbextension~=3.5.0->ipywidgets>=7.5.1->-r ../../../requirements.txt (line 4)) (1.4.2)\n",
      "Requirement already satisfied: defusedxml in c:\\users\\i18336\\appdata\\local\\programs\\python\\python37-32\\lib\\site-packages (from nbconvert->notebook>=4.4.1->widgetsnbextension~=3.5.0->ipywidgets>=7.5.1->-r ../../../requirements.txt (line 4)) (0.6.0)\n",
      "Requirement already satisfied: pywinpty>=0.5; os_name == \"nt\" in c:\\users\\i18336\\appdata\\local\\programs\\python\\python37-32\\lib\\site-packages (from terminado>=0.8.1->notebook>=4.4.1->widgetsnbextension~=3.5.0->ipywidgets>=7.5.1->-r ../../../requirements.txt (line 4)) (0.5.5)\n",
      "Requirement already satisfied: webencodings in c:\\users\\i18336\\appdata\\local\\programs\\python\\python37-32\\lib\\site-packages (from bleach->nbconvert->notebook>=4.4.1->widgetsnbextension~=3.5.0->ipywidgets>=7.5.1->-r ../../../requirements.txt (line 4)) (0.5.1)\n"
     ]
    }
   ],
   "source": [
    "!python -m pip install -r ../../../requirements.txt"
   ]
  },
  {
   "cell_type": "markdown",
   "metadata": {},
   "source": [
    "### 1.2. Load the necessary modules and helper functions"
   ]
  },
  {
   "cell_type": "code",
   "execution_count": 2,
   "metadata": {
    "scrolled": false
   },
   "outputs": [],
   "source": [
    "from at_gui import *\n",
    "from load_manifest import *\n",
    "from ipywidgets import widgets\n",
    "from IPython.display import display\n",
    "import json\n",
    "from cryptoauthlib import *\n",
    "from ipywidgets import FileUpload"
   ]
  },
  {
   "cell_type": "markdown",
   "metadata": {},
   "source": [
    "### 1.3. Configure GCP account credentials\n",
    "\n",
    "Its important to have GCP account already setup and have the informations ready so that the device can be registered. \n",
    "The registry id, region id, credentials for uploading the manifest file and credentials for viewing the uploaded data are to be configured in the below step."
   ]
  },
  {
   "cell_type": "markdown",
   "metadata": {},
   "source": [
    "<center><img src=\"img\\reg_region.png\" width=\"800\" alt=\"**Set the registry and region!**\" /></center>"
   ]
  },
  {
   "cell_type": "code",
   "execution_count": 3,
   "metadata": {},
   "outputs": [],
   "source": [
    "registry_id = \"karthi_regid\"\n",
    "region_id = \"us-central1\"\n",
    "manifest_credential_file = '../../../Docs/iot-manifest.json'\n",
    "dataview_credential_file = '../../../Docs/data-view.json'"
   ]
  },
  {
   "cell_type": "markdown",
   "metadata": {},
   "source": [
    "## 1.4 Load Manifest File"
   ]
  },
  {
   "cell_type": "code",
   "execution_count": 4,
   "metadata": {},
   "outputs": [
    {
     "data": {
      "application/vnd.jupyter.widget-view+json": {
       "model_id": "a2bcb8e09601420f91bd8c6cb4e59303",
       "version_major": 2,
       "version_minor": 0
      },
      "text/plain": [
       "FileUpload(value={}, accept='*.json', description='Upload')"
      ]
     },
     "metadata": {},
     "output_type": "display_data"
    }
   ],
   "source": [
    "manifest = FileUpload(accept='*.json', multiple=False)\n",
    "display(manifest)"
   ]
  },
  {
   "cell_type": "markdown",
   "metadata": {},
   "source": [
    "## 1.5 Load Validation Certificate"
   ]
  },
  {
   "cell_type": "code",
   "execution_count": 5,
   "metadata": {},
   "outputs": [
    {
     "data": {
      "application/vnd.jupyter.widget-view+json": {
       "model_id": "98d1ec1ea91244fda7b178168c2b544e",
       "version_major": 2,
       "version_minor": 0
      },
      "text/plain": [
       "FileUpload(value={}, accept='*.pem', description='Upload')"
      ]
     },
     "metadata": {},
     "output_type": "display_data"
    }
   ],
   "source": [
    "validator = FileUpload(accept='*.pem', multiple=False)\n",
    "display(validator)"
   ]
  },
  {
   "cell_type": "markdown",
   "metadata": {},
   "source": [
    "## 1.6 Upload Manifest Entries\n",
    "This step registers the device to the register id of the GCP cloud."
   ]
  },
  {
   "cell_type": "code",
   "execution_count": 6,
   "metadata": {},
   "outputs": [],
   "source": [
    "def upload_manifest_cal(b):\n",
    "    manifest_data = json.loads(manifest.data[0])\n",
    "    validation_certificate = validator.data[0]\n",
    "    gcp_upload_manifest(registry_id, region_id, manifest_credential_file, validation_certificate, manifest_data)\n",
    "    upload_manifest.button_style = 'success'\n",
    "        \n",
    "upload_manifest = widgets.Button(description = \"Upload manifest to GCP\")\n",
    "upload_manifest.on_click(upload_manifest_cal)"
   ]
  },
  {
   "cell_type": "markdown",
   "metadata": {},
   "source": [
    "Before running the last step, target hardware should be compiled with the GCP and wifi credentials. Once, the target hardware is programmed and connected to cloud, run the next cell, which pops up a gui to view the LED status of the board"
   ]
  },
  {
   "cell_type": "markdown",
   "metadata": {},
   "source": [
    "### 1.7 Run gcp-gui script"
   ]
  },
  {
   "cell_type": "code",
   "execution_count": 7,
   "metadata": {
    "scrolled": false
   },
   "outputs": [
    {
     "data": {
      "application/vnd.jupyter.widget-view+json": {
       "model_id": "f88c7dce5d8243fc927c7a47f85462a6",
       "version_major": 2,
       "version_minor": 0
      },
      "text/plain": [
       "HBox(children=(Button(description='Upload manifest to GCP', style=ButtonStyle()), Button(description='GCP GUI'…"
      ]
     },
     "metadata": {},
     "output_type": "display_data"
    }
   ],
   "source": [
    "def execute_gcp_gui(b):\n",
    "    run_gcp_gui(dataview_credential_file)\n",
    "    gcp_gui.button_style = 'success'\n",
    "        \n",
    "gcp_gui = widgets.Button(description = \"GCP GUI\")\n",
    "gcp_gui.on_click(execute_gcp_gui)\n",
    "\n",
    "display(widgets.HBox((upload_manifest, gcp_gui)))"
   ]
  }
 ],
 "metadata": {
  "kernelspec": {
   "display_name": "Python 3",
   "language": "python",
   "name": "python3"
  },
  "language_info": {
   "codemirror_mode": {
    "name": "ipython",
    "version": 3
   },
   "file_extension": ".py",
   "mimetype": "text/x-python",
   "name": "python",
   "nbconvert_exporter": "python",
   "pygments_lexer": "ipython3",
   "version": "3.7.0"
  }
 },
 "nbformat": 4,
 "nbformat_minor": 2
}

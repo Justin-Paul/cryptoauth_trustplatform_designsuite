{
 "cells": [
  {
   "cell_type": "markdown",
   "metadata": {},
   "source": [
    "# 1.Introduction\n",
    "\n",
    "This Notebook tutorial will allow you to perform Public Key rotation securely on your TrustFLEX device."
   ]
  },
  {
   "cell_type": "markdown",
   "metadata": {},
   "source": [
    "## 1.1.Tutorial Prerequisites:\n",
    "    \n",
    "\n",
    "The code runs on python 3.x environment. Folowing python modules are needed to run the example\n",
    "\n",
    "1. cryptoauthlib\n",
    "2. cryptography\n",
    "3. ipywidgets\n",
    "\n",
    "The next step of the tutorial with attempt to load all the necessary modules and their dependencies on your machine. If the above modules are already installed you can safely step over the next Tutorial step.\n",
    "\n",
    "> <font color = green>pip install -U module_name</font>"
   ]
  },
  {
   "cell_type": "code",
   "execution_count": null,
   "metadata": {
    "scrolled": true
   },
   "outputs": [],
   "source": [
    "!python -m pip install -r ../../../requirements.txt"
   ]
  },
  {
   "cell_type": "markdown",
   "metadata": {},
   "source": [
    "## 1.2. Load the necessary modules and helper functions\n",
    "\n",
    "This Tutorial uses a number of python helper functions that are loaded by the following cell.\n",
    "The below code does the following things:\n",
    "1. Setup of cryptography module\n",
    "2. Add helper functions to get device name and device type"
   ]
  },
  {
   "cell_type": "code",
   "execution_count": null,
   "metadata": {
    "scrolled": true
   },
   "outputs": [],
   "source": [
    "from cryptoauthlib import *\n",
    "from cryptoauthlib.iface import *\n",
    "import os\n",
    "from common import *\n",
    "from public_key_rotation_helper import *\n",
    "from cryptography.hazmat.backends import default_backend\n",
    "from cryptography.hazmat.primitives import hashes\n",
    "import argparse,time\n",
    "import binascii\n",
    "from cryptoauthlib.device import *\n",
    "from cryptoauthlib.library import ctypes_to_bytes"
   ]
  },
  {
   "cell_type": "markdown",
   "metadata": {},
   "source": [
    "# 2. Tutorial\n",
    "\n",
    "The CryptoAuthentication device supports updating the public key after it has been validated. The public keys that are intended to rotate securely should be stored in slots marked as PubInvalid. \n",
    "\n",
    "The slot validation and invalidation is the process in the which the authenticity of the slot will be verified using its digest and signature provided by validation authority. Once its the authenticated, slot can be marked as validated or invalidated.\n",
    "\n",
    "Once the key is validated a new key cannot be written before it is invalidated.\n",
    "\n",
    "Secure Public key rotation is a multi step process,\n",
    "1. Establish the communication between host(PC) and TrustFLEX\n",
    "2. Generating a Validation Authority Key pair\n",
    "3. Rotate new public key\n",
    "4. Validate and verify rotated public key is usability"
   ]
  },
  {
   "cell_type": "markdown",
   "metadata": {},
   "source": [
    "## 2.1. Establish the communication between host (PC) and TrustFLEX\n",
    "1. Initialize the library which also loads it\n",
    "2. Check if the correct device is connected to the PC. If the wrong device is connected, a ValueError excpetion will be raised."
   ]
  },
  {
   "cell_type": "markdown",
   "metadata": {},
   "source": [
    "### 2.1.1. Select the CryptoAuthLib Hardware Abstraction layer to KIT USB HID"
   ]
  },
  {
   "cell_type": "code",
   "execution_count": null,
   "metadata": {
    "scrolled": true
   },
   "outputs": [],
   "source": [
    "ATCA_KIT_I2C_IFACE = 1\n",
    "cfg = cfg_ateccx08a_kithid_default()\n",
    "cfg.devtype = get_device_type_id('ATECC608A')\n",
    "cfg.cfg.atcahid.dev_interface = ATCA_KIT_I2C_IFACE\n",
    "cfg.cfg.atcahid.dev_identity = 0x6C #TFLXTLS device I2C address\n",
    "ATCA_SUCCESS = 0\n",
    "print(\"Set devtype as ECC608A - Successful\")"
   ]
  },
  {
   "cell_type": "markdown",
   "metadata": {},
   "source": [
    "### 2.1.2. Establish the connection with TrustFLEX device on the USB dongle and check its type\n",
    "<font color=red>If the next Tutorial step yields an exception, the ECC608A is not correctly connected or of the wrong type.</font>"
   ]
  },
  {
   "cell_type": "code",
   "execution_count": null,
   "metadata": {
    "scrolled": true
   },
   "outputs": [],
   "source": [
    "# Initialize interface\n",
    "assert atcab_init(cfg) == ATCA_SUCCESS, \"Can't connect to the USB dongle\"\n",
    "\n",
    "# Get connected device type\n",
    "info = bytearray(4)\n",
    "assert atcab_info(info) == ATCA_SUCCESS, \"Can't read the ECC608A device information\"\n",
    "dev_type = get_device_type_id(get_device_name(info))\n",
    "\n",
    "# Checking if the connected device matches with selected device\n",
    "if dev_type != cfg.devtype:\n",
    "    assert atcab_release() == ATCA_SUCCESS\n",
    "    raise ValueError('Device not supported')\n",
    "    \n",
    "print(\"Device initialization - Successful\")"
   ]
  },
  {
   "cell_type": "markdown",
   "metadata": {},
   "source": [
    "## 2.2.Generating a Validation Authority key pair\n",
    "The most important step is to have the Validation Authority ECC P256 key pair. The key pair can be generated using many of the options available like openssl (or) python modules etc..,. The private key should be securely stored by OEM and the corresponding public key should be written to TrustFLEX devices.\n",
    "\n",
    "<font color=red>This step is already perfomed part of resource generation using TFLXTLS_resource_generation\\Crypto Resource Generator.ipynb. </font> This key pair will be used for this public key rotation. \n",
    "\n",
    "<font color = green>The keys are generated here using python module and is stored in computer's hard disk, this is not secure and is not recommended for actual production. In actual production environment these keys need to be stored in a secure storage as depitected below.</font>"
   ]
  },
  {
   "cell_type": "markdown",
   "metadata": {},
   "source": [
    "<center><img src=\"img/1.png\" alt=\"**Get your Secure Elements here!**\" /></center>"
   ]
  },
  {
   "cell_type": "markdown",
   "metadata": {},
   "source": [
    "### 2.3 Rotate new public key\n",
    "The PubInvalid slots update is possible only after invalidating the slot i.e. only invalidated slots are allowed to write."
   ]
  },
  {
   "cell_type": "markdown",
   "metadata": {},
   "source": [
    "### 2.3.a Generating a new public key\n",
    "Generate a new key pair for system to rotate the existing public key with this new one. The new pubic key will be authorized by the validation authority. It calculates the new public keys digest and signs the same."
   ]
  },
  {
   "cell_type": "markdown",
   "metadata": {},
   "source": [
    "<center><img src=\"img/2-3-a.png\" alt=\"**Get your Secure Elements here!**\" /></center>"
   ]
  },
  {
   "cell_type": "code",
   "execution_count": null,
   "metadata": {},
   "outputs": [],
   "source": [
    "def generate_key_pair(b):\n",
    "    generate_new_rotate_public_key_pair()\n",
    "    rotating_key_pair_generate.button_style = 'success'\n",
    "    print ('Generated new rotating public key pair\\n')\n",
    "\n",
    "rotating_key_pair_generate = widgets.Button(description = \"Gen Rotating key pair\", tooltip = 'Generate new rotating private/public key pair')\n",
    "rotating_key_pair_generate.on_click(generate_key_pair)"
   ]
  },
  {
   "cell_type": "markdown",
   "metadata": {},
   "source": [
    "### 2.3.b Authorize public key\n",
    "To validate or invalidate, its required to have Public keys digest and signature provided by validation authority. This ensures the key is coming from the right source. Validation authority calculates the digest and signs it. Authority public key on the product verifies the same as part of validate/invalidate process."
   ]
  },
  {
   "cell_type": "markdown",
   "metadata": {},
   "source": [
    "<center><img src=\"img/2-3-b.png\" alt=\"**Get your Secure Elements here!**\" /></center>"
   ]
  },
  {
   "cell_type": "code",
   "execution_count": null,
   "metadata": {},
   "outputs": [],
   "source": [
    "nonce = os.urandom(32)\n",
    "rotating_public_key_digest = bytearray(32)\n",
    "signature = bytearray(64)\n",
    "\n",
    "def Authority_key_validate_rotate_public_key(b):\n",
    "    global signature\n",
    "    global nonce\n",
    "    \n",
    "    print ('Signing the rotating key digest with the Authority Private Key\\n')\n",
    "    authority_private_key = get_validating_authority_key()\n",
    "    rotating_private_key = get_rotating_key()\n",
    "    rotating_public_key = rotating_private_key.public_key().public_bytes(encoding=Encoding.X962, format=PublicFormat.UncompressedPoint)[1:]\n",
    "    \n",
    "\n",
    "    rotating_public_key_digest = public_key_digest(nonce, rotating_public_key)\n",
    "    signature = sign_host(rotating_public_key_digest, authority_private_key)\n",
    "    Authorise.button_style = 'success'\n",
    "\n",
    "        \n",
    "    resource_generate()\n",
    "        \n",
    "Authorise = widgets.Button(description = \"Authorize key\", tooltip = 'Authorise the public key')\n",
    "Authorise.on_click(Authority_key_validate_rotate_public_key)"
   ]
  },
  {
   "cell_type": "markdown",
   "metadata": {},
   "source": [
    "### 2.3.c Update public key\n",
    "If a Public key is already stored in the slot and is validated, unless its invalidated it is not possible to overwrite the slot. Once it is invalidated, the new pubic key can be written to slot."
   ]
  },
  {
   "cell_type": "markdown",
   "metadata": {},
   "source": [
    "### 2.3.d Validate the rotating public key\n",
    "The new public key is updated after invalidating the existing key. Once the new key is written to the slot, its important to validate it. The successful validation restricts further writes to the slot until its invalidated. Also, after validating the slot can be used for cryptographic operations. \n",
    "\n",
    "The validation authority public key in the device verifies the signature to validate the slot."
   ]
  },
  {
   "cell_type": "markdown",
   "metadata": {},
   "source": [
    "<center><img src=\"img/2-3-d.png\" alt=\"**Get your Secure Elements here!**\" /></center>"
   ]
  },
  {
   "cell_type": "code",
   "execution_count": null,
   "metadata": {
    "scrolled": true
   },
   "outputs": [],
   "source": [
    "def rotate_public_key_write_and_validate(b):\n",
    "    valid_buf = bytearray(4)\n",
    "    global signature\n",
    "    global nonce\n",
    "    \n",
    "    assert atcab_read_zone(ATCA_ZONE_DATA, rotating_key_slot, 0, 0, valid_buf, 4) == ATCA_SUCCESS\n",
    "\n",
    "    if(valid_buf[0] >> 4 == 0x05):\n",
    "        print ('Already Rotating Public key slot is validated,so invalidating the slot\\n')\n",
    "        assert public_key_invalidate() == 1\n",
    "        print ('Invalidated the slot\\n')\n",
    "\n",
    "    rotating_private_key = get_rotating_key()\n",
    "    rotating_public_key = rotating_private_key.public_key().public_bytes(encoding=Encoding.X962, format=PublicFormat.UncompressedPoint)[1:]\n",
    "    assert atcab_write_pubkey(rotating_key_slot,rotating_public_key) == ATCA_SUCCESS\n",
    "    print ('Rotating Public Key is written to device\\n')\n",
    "\n",
    "    assert public_key_validate_from_authority(nonce,signature) == 1\n",
    "    \n",
    "    print ('Rotating Public Key is validated with authority signed signature\\n')\n",
    "    write_and_validate_key.button_style = 'success'\n",
    "\n",
    "write_and_validate_key = widgets.Button(description = \"Validate key\", tooltip = 'Write and validate rotating public key')\n",
    "write_and_validate_key.on_click(rotate_public_key_write_and_validate)"
   ]
  },
  {
   "cell_type": "markdown",
   "metadata": {},
   "source": [
    "## 2.4. Verify the rotating public key\n",
    "This step verifies the rotating public written to device is validated and can be used for cryptographic operations.\n",
    "The rotating private key signs a message on the host and is verified with the rotating public in slot"
   ]
  },
  {
   "cell_type": "markdown",
   "metadata": {},
   "source": [
    "<center><img src=\"img/2-4.png\" alt=\"**Get your Secure Elements here!**\" /></center>"
   ]
  },
  {
   "cell_type": "code",
   "execution_count": null,
   "metadata": {
    "scrolled": true
   },
   "outputs": [],
   "source": [
    "def verify_rotate_public_key(b):\n",
    "    is_verified_status = AtcaReference(False)\n",
    "\n",
    "    message = os.urandom(32)\n",
    "    print ('Signing with the Rotating Private Key\\n')\n",
    "    rotating_private_key = get_rotating_key()\n",
    "    signature = sign_host(message,rotating_private_key)\n",
    "    status = atcab_verify_stored(message, signature, rotating_key_slot, is_verified_status)\n",
    "\n",
    "    if(is_verified_status == True):\n",
    "        print(\"Verified the Rotating Public key\\n\")\n",
    "        verify.button_style = 'success'\n",
    "\n",
    "    else:\n",
    "        print(\"Verify failed\")\n",
    "        verify.button_style = 'danger'\n",
    "    public_key_invalidate()\n",
    "        \n",
    "verify = widgets.Button(description = \"Verify key\", tooltip = 'Verify key')\n",
    "verify.on_click(verify_rotate_public_key)\n",
    "display(widgets.HBox((rotating_key_pair_generate, Authorise, write_and_validate_key, verify)))"
   ]
  }
 ],
 "metadata": {
  "kernelspec": {
   "display_name": "Python 3",
   "language": "python",
   "name": "python3"
  },
  "language_info": {
   "codemirror_mode": {
    "name": "ipython",
    "version": 3
   },
   "file_extension": ".py",
   "mimetype": "text/x-python",
   "name": "python",
   "nbconvert_exporter": "python",
   "pygments_lexer": "ipython3",
   "version": "3.7.2"
  }
 },
 "nbformat": 4,
 "nbformat_minor": 2
}

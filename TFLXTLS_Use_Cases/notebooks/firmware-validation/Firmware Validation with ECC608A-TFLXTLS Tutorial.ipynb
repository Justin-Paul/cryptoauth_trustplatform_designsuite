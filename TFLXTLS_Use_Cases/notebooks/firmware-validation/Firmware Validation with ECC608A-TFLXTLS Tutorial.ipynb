{
 "cells": [
  {
   "cell_type": "markdown",
   "metadata": {},
   "source": [
    "# 1.Introduction\n",
    "\n",
    "This Notebook tutorial will allow you to add firmware validation capability to your TrustFLEX (ATECC608A) device and test it with your PC"
   ]
  },
  {
   "cell_type": "markdown",
   "metadata": {
    "slideshow": {
     "slide_type": "-"
    }
   },
   "source": [
    "## 1.1.Firmware validation Transactions description\n",
    "\n",
    "Secureboot is a new command on this device compared to earlier secure elements from Microchip. The feature assist the MCU to identify fraudulent code installed on it. When this command support is implemented, the MCU can send either the digest or signature or both to the ATECC608A. Then, the ATECC608A validates this information and responds to host either with Success/Fail or with MAC value.\n",
    "\n",
    "<font color=red>This example is made to work only with TrustFLEX device. TrustFLEX devices come preconfigured but allow some further customization which this Tutorial will leverage. Refer to the TrustFLEX datasheet on www.microchip.com</font>"
   ]
  },
  {
   "cell_type": "markdown",
   "metadata": {},
   "source": [
    "## 1.2.Tutorial Prerequisites:\n",
    "    \n",
    "\n",
    "The following code is runs on python 3.x environment. The folowing modules are also needed to run the example\n",
    "\n",
    "1. cryptoauthlib\n",
    "2. cryptography\n",
    "3. ipywidgets\n",
    "\n",
    "The next step of the tutorial with attempt to load all the necessary modules and their dependencies on your machine. If the above modules are already installed you can safely step over the next Tutorial step.\n",
    "\n",
    "> <font color = green>pip install -U module_name</font>"
   ]
  },
  {
   "cell_type": "code",
   "execution_count": null,
   "metadata": {
    "scrolled": true
   },
   "outputs": [],
   "source": [
    "!python -m pip install -r ../../../requirements.txt"
   ]
  },
  {
   "cell_type": "markdown",
   "metadata": {},
   "source": [
    "## 1.3. Load the necessary modules and helper functions\n",
    "\n",
    "This Tutorial uses a number of python helper functions that are loaded by the following cell.\n",
    "The below code does the following things:\n",
    "1. Setup of cryptography module\n",
    "2. Adds helper functions to get device name and device type"
   ]
  },
  {
   "cell_type": "code",
   "execution_count": null,
   "metadata": {
    "scrolled": true
   },
   "outputs": [],
   "source": [
    "import os, fnmatch, binascii\n",
    "import ipywidgets as widgets\n",
    "from ipywidgets import FileUpload\n",
    "import cryptography\n",
    "from cryptoauthlib import *\n",
    "from common import *\n",
    "from sboot_helper import *\n",
    "from IPython.core.display import display\n",
    "import hexrec.records as hr\n",
    "import hexrec.blocks as hb\n",
    "from cryptography.hazmat.primitives import serialization, hashes\n",
    "from cryptography.hazmat.backends import default_backend\n",
    "from cryptography.hazmat.primitives.asymmetric import ec, utils\n",
    "import warnings\n",
    "warnings.filterwarnings('ignore')\n",
    "\n",
    "# Setup cryptography \n",
    "crypto_be = cryptography.hazmat.backends.default_backend()\n",
    "print(\"Importing modules - Successful\")"
   ]
  },
  {
   "cell_type": "markdown",
   "metadata": {},
   "source": [
    "# 2. Tutorial\n",
    "Firmware validation support helps in avoiding the unauthorized firmware execution on a given system. The ability to securely upgrade the Microcontroller firmware starts with ensuring that the initial firmware has not been tampered with.\n",
    "To have this functionality, once the firmware implementation is completed, it will be signed by the OEM signer to make the image authentic. On the product side, this application will be verified using OEM signers public key to ensure the authenticity. \n",
    "\n",
    "The notebook provides various steps involved to implement this using TrustFLEX device. Steps associated are,\n",
    "1. Establish the communication between host (PC) and TrustFLEX\n",
    "2. Generating a Key pair (optional - If resources are already generated, this step is not required)\n",
    "    * a. Device provisioning:load the firmware validation public key into the TrustFLEX reserved slot\n",
    "3. Sign the firmware\n",
    "4. Update the firmware to product\n",
    "5. Verify the firmware"
   ]
  },
  {
   "cell_type": "markdown",
   "metadata": {},
   "source": [
    "## 2.1. Establish the communication between host (PC) and TrustFLEX\n",
    "1. Initialize the library which also loads it\n",
    "2. Check if the correct device is connected to the PC. If the wrong device is connected, a ValueError excpetion will be raised."
   ]
  },
  {
   "cell_type": "markdown",
   "metadata": {},
   "source": [
    "### 2.1.1. Select the CryptoAuthLib Hardware Abstraction layer to KIT USB HID"
   ]
  },
  {
   "cell_type": "code",
   "execution_count": null,
   "metadata": {
    "scrolled": true
   },
   "outputs": [],
   "source": [
    "ATCA_KIT_I2C_IFACE = 1\n",
    "cfg = cfg_ateccx08a_kithid_default()\n",
    "cfg.devtype = get_device_type_id('ATECC608A')\n",
    "cfg.cfg.atcahid.dev_interface = ATCA_KIT_I2C_IFACE\n",
    "cfg.cfg.atcahid.dev_identity = 0x6C #TFLXTLS device I2C address\n",
    "ATCA_SUCCESS = 0\n",
    "print(\"Set devtype as ECC608A - Successful\")"
   ]
  },
  {
   "cell_type": "markdown",
   "metadata": {},
   "source": [
    "### 2.1.2. Establish the connection with TrustFLEX device on the USB dongle and check its type\n",
    "<font color=red>If the next Tutorial step yields an exception, the TrustFLEX is not correctly connected or of the wrong type.</font>"
   ]
  },
  {
   "cell_type": "code",
   "execution_count": null,
   "metadata": {
    "scrolled": true
   },
   "outputs": [],
   "source": [
    "# Initialize interface\n",
    "assert atcab_init(cfg) == ATCA_SUCCESS, \"Can't connect to the USB dongle\"\n",
    "\n",
    "# Get connected device type\n",
    "info = bytearray(4)\n",
    "assert atcab_info(info) == ATCA_SUCCESS, \"Can't read the ECC608A device information\"\n",
    "dev_type = get_device_type_id(get_device_name(info))\n",
    "\n",
    "# Checking if the connected device matches with selected device\n",
    "if dev_type != cfg.devtype:\n",
    "    assert atcab_release() == ATCA_SUCCESS\n",
    "    raise ValueError('Device not supported')\n",
    "    \n",
    "print(\"Device initialization - Successful\")"
   ]
  },
  {
   "cell_type": "markdown",
   "metadata": {},
   "source": [
    "## 2.2. Generating a firmware signing key pair\n",
    "\n",
    "The most important step for firmware validation is having an ECC P256 key pair. The key pair can be generated using many of the options available like openssl (or) python modules etc..,. The private key will sign the image, the associated public key will verify the signed image.\n",
    "\n",
    "<font color=red>This step is already perfomed part of resource generation using TFLXTLS_resource_generation\\Crypto Resource Generator.ipynb. </font> This key pair will be used for sign/verify operations in the steps to come. \n",
    "\n",
    "<font color = green>The keys are generated here using python module and is stored in computer's hard disk, this is not secure and is not recommended for actual production. In actual production environment these keys need to be stored in a secure storage as depitected below.</font>"
   ]
  },
  {
   "cell_type": "markdown",
   "metadata": {},
   "source": [
    "<center><img src=\"img\\firmware_validation_1.png\" alt=\"**Get your Secure Elements here!**\" /></center>"
   ]
  },
  {
   "cell_type": "markdown",
   "metadata": {},
   "source": [
    "The following cell reads the firmware signing key pair generated and prints the associated public key"
   ]
  },
  {
   "cell_type": "code",
   "execution_count": null,
   "metadata": {
    "scrolled": true
   },
   "outputs": [],
   "source": [
    "key_file = '../../../TFLXTLS_resource_generation/slot_15_ecc_key_pair.pem'\n",
    "with open(key_file, 'rb') as f:\n",
    "    # Load the public key from key file\n",
    "    priv_key = serialization.load_pem_private_key(\n",
    "            data=f.read(),\n",
    "            password=None,\n",
    "            backend=default_backend())\n",
    "    public_key = priv_key.public_key().public_numbers().encode_point()[1:]\n",
    "\n",
    "print(\"Public Key:\")\n",
    "print(pretty_print_hex(public_key, indent='    '))"
   ]
  },
  {
   "cell_type": "markdown",
   "metadata": {},
   "source": [
    "## 2.2.a Device Provisioning: Load the firmware signing public key into TrustFLEX device\n",
    "\n",
    "The public key generated in [section 2.2](#2.2.-Generating-a-firmware-signing-key-pair) needs to be loaded into TrustFLEX device. This public key will be used to verify the signed image in the steps to follow. \n",
    "\n",
    "The TrustFLEX device comes preconfigured. The secure boot public key is expected to be loaded into the slot #15. Please refer to TrustFLEX datasheet on www.microchip.com website for detailed slot organization. \n",
    "\n",
    "In addition, the device is configured for FullDigest secure boot operation, which means after first successful secure boot, digest is stored and on subsequent boots, the signature verification will be skipped and the device will perform only a digest comparison. Therefore, only the firmware validation public key will need to be uploaded into TrustFLEX. After this step, you will end up with a system consisting of the following cryptographic assets\n",
    "\n",
    "<font color=red>This step is already perfomed part of resource generation using TFLXTLS_resource_generation\\Crypto Resource Generator.ipynb. </font>"
   ]
  },
  {
   "cell_type": "markdown",
   "metadata": {},
   "source": [
    "<center><img src=\"img/firmware_validation_2.png\" alt=\"**Get your Secure Elements here!**\" /></center>"
   ]
  },
  {
   "cell_type": "markdown",
   "metadata": {},
   "source": [
    "## 2.3. Sign the firmware\n",
    "\n",
    "Once the target firmware development is complete, firmware needs to be secured by signing its digest with the private key generated in section [2.2](#2.2.-Generating-a-Firmware-Signing-key-pair). \n",
    "\n",
    "In this step the following things need to be done:\n",
    "1. Get the firmware \n",
    "2. Hash the firmware with the SHA256 algorithm\n",
    "3. sign the digest\n",
    "\n",
    "<font color=purple>slot_15_ecc_key_pair.pem file created in section [2.2](#2.2.-Generating-a-firmware-signing-key-pair) is required to run the following code.</font>\n",
    "\n",
    "The following block diagram provides the high level flow of signing operation on the OEM side."
   ]
  },
  {
   "cell_type": "markdown",
   "metadata": {},
   "source": [
    "<center><img src=\"img/firmware_validation_3.png\" alt=\"**Get your Secure Elements here!**\" /></center>"
   ]
  },
  {
   "cell_type": "markdown",
   "metadata": {},
   "source": [
    "### Load firmware validation binary (HEX)"
   ]
  },
  {
   "cell_type": "code",
   "execution_count": null,
   "metadata": {},
   "outputs": [],
   "source": [
    "firmvalid_img_object = FileUpload(accept='*.hex', multiple=False)\n",
    "display(firmvalid_img_object)"
   ]
  },
  {
   "cell_type": "markdown",
   "metadata": {},
   "source": [
    "### Load application binary (HEX)"
   ]
  },
  {
   "cell_type": "code",
   "execution_count": null,
   "metadata": {},
   "outputs": [],
   "source": [
    "app_img_object = FileUpload(accept='*.hex', multiple=False)\n",
    "display(app_img_object)"
   ]
  },
  {
   "cell_type": "markdown",
   "metadata": {},
   "source": [
    "### Combining HEX files and apending signature"
   ]
  },
  {
   "cell_type": "code",
   "execution_count": null,
   "metadata": {},
   "outputs": [],
   "source": [
    "combine_and_sign = widgets.Button(description = \"Combine HEX\")\n",
    "\n",
    "def combine_hex(b):\n",
    "    combine_sign_hex(firmvalid_img_object, app_img_object)\n",
    "    \n",
    "combine_and_sign.on_click(combine_hex)\n",
    "display(combine_and_sign)"
   ]
  },
  {
   "cell_type": "markdown",
   "metadata": {},
   "source": [
    "## 2.4 Update the firmware to product\n",
    "This step upgrades the new firmware image digest to Product secure element. The digest and signature generated in the previous step will be provided to secure element using Secure boot command.  with option set to store (Full Copy) on successful validation of the digest and signature.\n",
    "\n",
    "### Bus obfuscation\n",
    "To ensure the digest is protected on the bus, its possible to obfuscate it while sending on the bus. <strong>IO Protection Key</strong> helps in encrypting the data.\n",
    "\n",
    "On the TrustFLEX device Slot6 is configured to hold the IO protection key. This slot is configured to Never read and option to lock after writing the key. This is a unique key on the given setup. Every host and device pair agrees on a common key during first power up. Once the pair agrees on, this slot will be locked to avoid further updates. This ensures only this host and device pair knows the key. \n",
    "\n",
    "Any compromise of this key by the host, limits the impact to only this pair. All other host and device security remains intact."
   ]
  },
  {
   "cell_type": "markdown",
   "metadata": {},
   "source": [
    "<center><img src=\"img/firmware_validation_5.png\" alt=\"**Get your Secure Elements here!**\" /></center>"
   ]
  },
  {
   "cell_type": "markdown",
   "metadata": {},
   "source": [
    "<strong>Note:</strong> A click button is provided at the end of the notebook to upgrade the image. This is done to easily access the upgrade and verify operations together."
   ]
  },
  {
   "cell_type": "markdown",
   "metadata": {},
   "source": [
    "## 2.5 Verify the application image\n",
    "\n",
    "This step checks the application to execute is valid or not by issuing Secure boot command to secure element."
   ]
  },
  {
   "cell_type": "markdown",
   "metadata": {
    "scrolled": false
   },
   "source": [
    "<center><img src=\"img/firmware_validation_4.png\" alt=\"**Get your Secure Elements here!**\" /></center>"
   ]
  },
  {
   "cell_type": "markdown",
   "metadata": {},
   "source": [
    "Below code feeds required parameters for secureboot operation on TrustFLEX device. On receiving this, TrustFLEX performs digest store or comparison based on the mode."
   ]
  },
  {
   "cell_type": "code",
   "execution_count": null,
   "metadata": {},
   "outputs": [],
   "source": [
    "firmware_update = widgets.Button(description = \"Firmware Update\", tooltip = 'To update digest/signature using Secureboot command')\n",
    "firmware_verify = widgets.Button(description = \"Firmware Verify\", tooltip = 'To Verify using Secureboot command')\n",
    "\n",
    "io_prot_key = get_symmetric_key('../../../TFLXTLS_resource_generation/slot_6_secret_key.pem')\n",
    "\n",
    "def secureboot_update(b):\n",
    "# Generating a random number to use\n",
    "    digest, signature = get_digest_signature()\n",
    "    host_random = os.urandom(32)\n",
    "    is_verified = AtcaReference(False)\n",
    "    # In real application, this step should be carried ONLY on firmware upgrade\n",
    "    print('Perform Application upgrade request... ')\n",
    "    atcab_secureboot_mac(SECUREBOOT_MODE_FULL_COPY, digest, signature, host_random, io_prot_key, is_verified)\n",
    "    if 1 == bool(is_verified.value):\n",
    "        print('Secureboot Update Success...')\n",
    "        firmware_update.button_style = 'success'\n",
    "    else:\n",
    "        firmware_update.button_style = 'danger'\n",
    "        print('Secureboot Update failed...')\n",
    "\n",
    "def secureboot_verify(b):\n",
    "    # Generating a random number to use\n",
    "    digest, signature = get_digest_signature()\n",
    "    host_random = os.urandom(32)\n",
    "    is_verified = AtcaReference(False)\n",
    "    # Perform Secureboot operation on the application file\n",
    "    print('Perform Application validation request... ')\n",
    "    assert atcab_secureboot_mac(SECUREBOOT_MODE_FULL_STORE, digest, signature, host_random, io_prot_key, is_verified) == ATCA_SUCCESS\n",
    "    if 1 == bool(is_verified.value):\n",
    "        print('Secureboot Verify Success...')\n",
    "        firmware_verify.button_style = 'success'\n",
    "    else:\n",
    "        firmware_verify.button_style = 'danger'\n",
    "        print('Secureboot Verify failed...')\n",
    "\n",
    "firmware_update.on_click(secureboot_update)\n",
    "firmware_verify.on_click(secureboot_verify)\n",
    "display(widgets.HBox((firmware_update, firmware_verify)))"
   ]
  }
 ],
 "metadata": {
  "kernelspec": {
   "display_name": "Python 3",
   "language": "python",
   "name": "python3"
  },
  "language_info": {
   "codemirror_mode": {
    "name": "ipython",
    "version": 3
   },
   "file_extension": ".py",
   "mimetype": "text/x-python",
   "name": "python",
   "nbconvert_exporter": "python",
   "pygments_lexer": "ipython3",
   "version": "3.7.2"
  }
 },
 "nbformat": 4,
 "nbformat_minor": 2
}

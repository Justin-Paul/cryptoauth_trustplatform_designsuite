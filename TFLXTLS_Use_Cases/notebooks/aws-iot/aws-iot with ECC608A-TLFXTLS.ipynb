{
 "cells": [
  {
   "cell_type": "markdown",
   "metadata": {},
   "source": [
    "# 1.Introduction\n",
    "\n",
    "This Notebook tutorial will allow you to setup AWS account for aws-iot example"
   ]
  },
  {
   "cell_type": "markdown",
   "metadata": {},
   "source": [
    "### 1.1.Tutorial Prerequisites:\n",
    "    \n",
    "\n",
    "The following code is runs on python 3.x environment. This step of the tutorial will attempt to load all the necessary modules and their dependencies on your machine. If the above modules are already installed you can safely step over the next Tutorial step.\n",
    "\n",
    "> <font color = green>pip install -U module_name</font>"
   ]
  },
  {
   "cell_type": "code",
   "execution_count": null,
   "metadata": {
    "scrolled": true
   },
   "outputs": [],
   "source": [
    "!python -m pip install -r ../../../requirements.txt"
   ]
  },
  {
   "cell_type": "markdown",
   "metadata": {},
   "source": [
    "### 1.2. Load the necessary modules and helper functions"
   ]
  },
  {
   "cell_type": "code",
   "execution_count": null,
   "metadata": {
    "scrolled": false
   },
   "outputs": [],
   "source": [
    "from aws_helper import *\n",
    "from aws_register_signer import *\n",
    "from aws_interact_gui import *\n",
    "from ipywidgets import widgets\n",
    "from IPython.display import display\n",
    "from tkinter import Tk, filedialog"
   ]
  },
  {
   "cell_type": "markdown",
   "metadata": {},
   "source": [
    "### 1.3. Configure AWS account credentials\n",
    "Its important to have AWS account already setup and AWS local client is provided with account/profile details. "
   ]
  },
  {
   "cell_type": "code",
   "execution_count": null,
   "metadata": {
    "scrolled": true
   },
   "outputs": [],
   "source": [
    "radio_button = widgets.RadioButtons(\n",
    "    options=['Rest of the world', 'China'],\n",
    "    value= 'Rest of the world',\n",
    "    description='Select region',\n",
    "    disabled=False\n",
    ")\n",
    "\n",
    "def configure_region(b):\n",
    "    if b['type'] == 'change' and b['name'] == 'value':\n",
    "        if(b['new'] == 'Rest of the world'):\n",
    "            print(\"Setting the aws client credential to rest of the world...\\r\\n\")\n",
    "            configure_aws_rest_of_the_world()\n",
    "        if(b['new'] == 'China'):\n",
    "            print(\"Setting the aws client credential to china...\\r\\n\")\n",
    "            configure_aws_china()\n",
    "\n",
    "radio_button.observe(configure_region)\n",
    "configure_aws_rest_of_the_world()"
   ]
  },
  {
   "cell_type": "markdown",
   "metadata": {},
   "source": [
    "### 1.4. Register the Signer module to AWS account\n",
    "This step of the tutorial will register the signer generated during resource generation step to AWS registered account."
   ]
  },
  {
   "cell_type": "code",
   "execution_count": null,
   "metadata": {
    "scrolled": false
   },
   "outputs": [],
   "source": [
    "def execute_register_signer(b):\n",
    "    aws_register_signer()\n",
    "    register_signer.button_style = 'success'\n",
    "        \n",
    "register_signer = widgets.Button(description = \"Register signer\")\n",
    "register_signer.on_click(execute_register_signer)"
   ]
  },
  {
   "cell_type": "markdown",
   "metadata": {},
   "source": [
    "Clicking the 'Register signer' button will trigger signer registration and it should display device endpoint like <strong>Hostname:xxxxxx.iot.xxxx.amazon.com</strong>\n",
    "\n",
    "This host name i.e. xxxxxx.iot.xxxx.amazon.com should be copied to embedded application to make sure target hardware connects to this account.\n",
    "\n",
    "Before running the last step, target hardware should be compiled with this host name and wifi credentials. Once, the target hardware is programmed and connected to cloud, run the next cell, which pops up a gui to control LED on the board "
   ]
  },
  {
   "cell_type": "markdown",
   "metadata": {},
   "source": [
    "### 1.5 Run aws-gui script"
   ]
  },
  {
   "cell_type": "code",
   "execution_count": null,
   "metadata": {
    "scrolled": false
   },
   "outputs": [],
   "source": [
    "def execute_aws_gui(b):\n",
    "    aws_interact_gui()\n",
    "    aws_gui.button_style = 'success'\n",
    "        \n",
    "aws_gui = widgets.Button(description = \"AWS GUI\")\n",
    "aws_gui.on_click(execute_aws_gui)\n",
    "\n",
    "display(radio_button)\n",
    "display(widgets.HBox((register_signer, aws_gui)))"
   ]
  }
 ],
 "metadata": {
  "kernelspec": {
   "display_name": "Python 3",
   "language": "python",
   "name": "python3"
  },
  "language_info": {
   "codemirror_mode": {
    "name": "ipython",
    "version": 3
   },
   "file_extension": ".py",
   "mimetype": "text/x-python",
   "name": "python",
   "nbconvert_exporter": "python",
   "pygments_lexer": "ipython3",
   "version": "3.7.3"
  }
 },
 "nbformat": 4,
 "nbformat_minor": 2
}

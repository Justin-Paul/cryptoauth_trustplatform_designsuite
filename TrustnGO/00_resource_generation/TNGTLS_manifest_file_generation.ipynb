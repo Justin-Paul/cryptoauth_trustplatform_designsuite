{
 "cells": [
  {
   "cell_type": "markdown",
   "metadata": {},
   "source": [
    "# Introduction\n",
    "<font color = green> <strong>MUST READ:</strong></font> The secure element manifest format is designed to convey the unique information about a secure elements including unique ID (e.g. serial number), public keys, and certificates. The signed manifest file generated can be used to register the device to cloud providers.\n",
    "\n",
    "This Notebook generates the Manifest file for the connected device, Signer certificate to sign the file entries and signs the Manifest file. On completing it generates 2 files, .json is the signed device Manifest file and .crt is the signers certificate.\n",
    "\n",
    "Before running this Notebook,\n",
    "1. Make sure CryptoAuth Trust Platform is having factory reset program"
   ]
  },
  {
   "cell_type": "markdown",
   "metadata": {},
   "source": [
    "### Prerequisites:\n",
    "This step of the tutorial will attempt to load all the necessary modules and their dependencies on your machine. If the modules are already installed you can safely step over the next Tutorial step."
   ]
  },
  {
   "cell_type": "markdown",
   "metadata": {},
   "source": [
    "<font color = orange> <strong>Note</strong></font> \n",
    "1. Installation time for prerequisites depends upon system and network speed.\n",
    "2. Installing prerequisites for the first time takes more time and watch the kernel status for progress. Following image helps to locate the Kernel status,\n",
    "<center><img src=\"../../assets/notebook/img/kerner_status.png\" alt=\"**Check Kernel Status**\" /></center>\n",
    "\n",
    "\n",
    "3. Installing prerequisites gives the following error and it can be safely ignored. Functionality remains unaffected.\n",
    "    - <font color = orange> azure-cli 2.0.76 has requirement colorama~=0.4.1, but you'll have colorama 0.3.9 which is incompatible.</font>\n",
    "    - <font color = orange> azure-cli 2.0.76 has requirement pytz==2019.1, but you'll have pytz 2019.3 which is incompatible. </font>"
   ]
  },
  {
   "cell_type": "code",
   "execution_count": null,
   "metadata": {
    "scrolled": true
   },
   "outputs": [],
   "source": [
    "import sys, os\n",
    "\n",
    "home_path = os.path.dirname(os.path.dirname(os.path.realpath(os.getcwd())))\n",
    "module_path = os.path.join(home_path, 'assets', 'python')\n",
    "if not module_path in sys.path:\n",
    "    sys.path.append(module_path)\n",
    "\n",
    "from requirements_helper import requirements_installer\n",
    "obj = requirements_installer(os.path.join(home_path, 'assets', 'requirements.txt'))\n",
    "from trustplatform import program_flash\n",
    "programmer = program_flash()"
   ]
  },
  {
   "cell_type": "markdown",
   "metadata": {},
   "source": [
    "### Setup Modules and Hardware\n",
    "This step loads the required modules and helper functions to perform the resource generation sequence. It also \n",
    "1. Initializes the interface with TNGTLS hardware and establishes commmunication with TNGTLS.\n",
    "2. Performs device initialization to verify the actual device attached"
   ]
  },
  {
   "cell_type": "code",
   "execution_count": null,
   "metadata": {
    "scrolled": false
   },
   "outputs": [],
   "source": [
    "####################################### Load Modules\n",
    "from cryptoauthlib import *\n",
    "from common import *\n",
    "from manifest_generation_helper import *\n",
    "import warnings\n",
    "warnings.filterwarnings('ignore')\n",
    "print('Importing modules - Successful')\n",
    "\n",
    "####################################### Initialize interface\n",
    "cfg = cfg_ateccx08a_kithid_default()\n",
    "cfg.devtype = get_device_type_id('ATECC608A')\n",
    "cfg.cfg.atcahid.dev_interface = ATCAKitType.ATCA_KIT_I2C_IFACE\n",
    "cfg.cfg.atcahid.dev_identity = 0x6A #TNGTLS device I2C address\n",
    "assert_msg = \"Check switch position on CryptoAuth Trust Platform board, verify connections\"\n",
    "if atcab_init(cfg) != ATCA_SUCCESS:\n",
    "    # Check for CryptoAuth Trust Platform connection and default factory reset image\n",
    "    status = programmer.check_for_factory_program()\n",
    "    assert status == True, status\n",
    "    assert atcab_init(cfg) == ATCA_SUCCESS, assert_msg\n",
    "\n",
    "####################################### Verify attached device\n",
    "# Get connected device type\n",
    "info = bytearray(4)\n",
    "assert_msg = \"Cannot read the TNGTLS device information, Verify device connections on Trust Platform\"\n",
    "assert atcab_info(info) == ATCA_SUCCESS, assert_msg\n",
    "dev_type = get_device_type_id(get_device_name(info))\n",
    "# Checking if the connected device matches with selected device\n",
    "if dev_type != cfg.devtype:\n",
    "    print('Device is not TNGTLS, Connect TNGTLS device')\n",
    "    assert atcab_release() == ATCA_SUCCESS, 'atcab_release failed... Rerun Notebook'\n",
    "\n",
    "print('Device initialization - Successful')"
   ]
  },
  {
   "cell_type": "markdown",
   "metadata": {},
   "source": [
    "### Generate the Manifest file\n",
    "This step assists to perform\n",
    "1. Create Manifest signing key and Certificate\n",
    "2. Create Manifest file and Sign\n",
    "\n",
    "<font color = green> <strong>Note:</strong></font> Manifests downloaded from Microchip Direct will be signed by Microchip\n",
    "\n",
    "<font color=red>If the next step yields an exception, the ECC608A is not correctly connected or of the wrong type.</font> \n",
    "\n",
    "This step can take a little bit of time as all the certificates are extracted. "
   ]
  },
  {
   "cell_type": "code",
   "execution_count": null,
   "metadata": {
    "scrolled": false
   },
   "outputs": [],
   "source": [
    "logger_cert = create_log_signer()\n",
    "print('---------------------------------------------')\n",
    "manifest_data, manifest_name = tng_data()"
   ]
  }
 ],
 "metadata": {
  "kernelspec": {
   "display_name": "Python 3",
   "language": "python",
   "name": "python3"
  },
  "language_info": {
   "codemirror_mode": {
    "name": "ipython",
    "version": 3
   },
   "file_extension": ".py",
   "mimetype": "text/x-python",
   "name": "python",
   "nbconvert_exporter": "python",
   "pygments_lexer": "ipython3",
   "version": "3.7.4"
  }
 },
 "nbformat": 4,
 "nbformat_minor": 2
}

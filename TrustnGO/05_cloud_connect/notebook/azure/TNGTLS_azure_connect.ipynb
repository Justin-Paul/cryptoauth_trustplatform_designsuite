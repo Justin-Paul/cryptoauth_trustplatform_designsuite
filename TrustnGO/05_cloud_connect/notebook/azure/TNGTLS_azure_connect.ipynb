{
 "cells": [
  {
   "cell_type": "markdown",
   "metadata": {},
   "source": [
    "# Introduction\n",
    "\n",
    "<font color = green> <strong>MUST READ:</strong></font> This Notebook tutorial will allow you to setup with Azure account for Azure connection using TNGTLS. By using this Notebook, its possible to update account credentials to Azure cli, Register the Signer and device.\n",
    "\n",
    "Before running this Notebook, \n",
    "1. <font><strong>docs/Azure_iot_hub_details.csv</strong></font> file should have updated with azure iot hub name.\n",
    "2. Make sure CryptoAuth Trust Platform is having factory reset program"
   ]
  },
  {
   "cell_type": "markdown",
   "metadata": {},
   "source": [
    "### 1.1.Tutorial Prerequisites:\n",
    "    \n",
    "\n",
    "The following code is runs on python 3.x environment. This step of the tutorial will attempt to load all the necessary modules and their dependencies on your machine. If the above modules are already installed you can safely step over the next Tutorial step.\n",
    "\n",
    "> <font color = green>pip install -U module_name</font>"
   ]
  },
  {
   "cell_type": "markdown",
   "metadata": {},
   "source": [
    "<font color = orange> <strong>Note</strong></font> \n",
    "1. Installation time for prerequisites depends upon system and network speed.\n",
    "2. Installing prerequisites for the first time takes more time and watch the kernel status for progress. Following image helps to locate the Kernel status,\n",
    "<center><img src=\"../../../../assets/notebook/img/kerner_status.png\" alt=\"**Check Kernel Status**\" /></center>\n",
    "\n",
    "\n",
    "3. Installing prerequisites gives the following error and it can be safely ignored. Functionality remains unaffected.\n",
    "    - <font color = orange> azure-cli 2.0.76 has requirement colorama~=0.4.1, but you'll have colorama 0.3.9 which is incompatible.</font>\n",
    "    - <font color = orange> azure-cli 2.0.76 has requirement pytz==2019.1, but you'll have pytz 2019.3 which is incompatible. </font>\n",
    "    - <font color = orange> Extension 'azure-cli-iot-ext' is already installed. </font>"
   ]
  },
  {
   "cell_type": "code",
   "execution_count": null,
   "metadata": {
    "scrolled": true
   },
   "outputs": [],
   "source": [
    "import sys, os\n",
    "\n",
    "home_path = os.path.dirname(os.path.dirname(os.path.dirname(os.path.dirname(os.path.realpath(os.getcwd())))))\n",
    "module_path = os.path.join(home_path, 'assets', 'python')\n",
    "if not module_path in sys.path:\n",
    "    sys.path.append(module_path)\n",
    "\n",
    "from requirements_helper import requirements_installer\n",
    "obj = requirements_installer(os.path.join(home_path, 'assets', 'requirements.txt'))"
   ]
  },
  {
   "cell_type": "code",
   "execution_count": null,
   "metadata": {},
   "outputs": [],
   "source": [
    "!az extension add --name azure-cli-iot-ext"
   ]
  },
  {
   "cell_type": "markdown",
   "metadata": {},
   "source": [
    "### Load the necessary modules and helper functions"
   ]
  },
  {
   "cell_type": "code",
   "execution_count": null,
   "metadata": {
    "scrolled": false
   },
   "outputs": [],
   "source": [
    "from helper_azure import *\n",
    "from ipywidgets import *\n",
    "from IPython.display import display\n",
    "from tkinter import Tk, filedialog\n",
    "from cryptoauthlib import *\n",
    "from cryptoauthlib.iface import *\n",
    "import binascii\n",
    "\n",
    "from trustplatform import *\n",
    "\n",
    "print(\"Importing modules - Successful\")\n",
    "\n",
    "#TFLXTLS device I2C address 0x6C; #TNGTLS device I2C address 0x6A; \n",
    "common_helper.connect_to_secure_element('ATECC608A', ATCAKitType.ATCA_KIT_I2C_IFACE, 0x6A)\n",
    "print(\"Device initialization - Successful\")\n",
    "\n",
    "# Request the Serial Number\n",
    "serial_number = bytearray(9)\n",
    "assert atcab_read_serial_number(serial_number) == Status.ATCA_SUCCESS\n",
    "device_reg_id = binascii.hexlify(serial_number).decode(\"utf-8\").upper()\n",
    "print (\"Device ID: {}\".format(device_reg_id))\n",
    "\n",
    "# Verify Certificate support for Azure connection\n",
    "unsupported_otp = \"Rsuy5YJh\"\n",
    "otpcode = bytearray(32)\n",
    "ATCA_ZONE_OTP = 1\n",
    "assert atcab_read_zone(ATCA_ZONE_OTP, 0, 0, 0, otpcode, 32) == Status.ATCA_SUCCESS\n",
    "assert unsupported_otp != otpcode[:8].decode('utf-8'), \"TNGTLS connected doesnt support Azure connection! Try with another TNGTLS device\""
   ]
  },
  {
   "cell_type": "markdown",
   "metadata": {},
   "source": [
    "The following steps assist to perform\n",
    "    1. Azure account login\n",
    "    2. Registering the Device\n",
    "\n",
    "#### Azure account login (1. Account Login)\n",
    "This helps to update user Azure credentials to Azure-cli. Azure-cli will be used for any interactions with Azure cloud from the PC.This can be skipped if the azure login update to azure cli is already done.\n",
    "\n",
    "#### Register the Device (2. Register device)\n",
    "This will register the device ID of the TNGTLS to Azure iot hub account. For registering TNGTLS device, its required to provide Manifest file and associated verification certificate. If Manifest file and verification certificates are not available, run the Trust&GO resource generation to generate. Load Manifest and Validation certs before clicking the 'Register device' button. This should register the devices in Manifest file to Azure cloud. "
   ]
  },
  {
   "cell_type": "markdown",
   "metadata": {},
   "source": [
    "### 1. Azure account login\n",
    "This step helps to initialise the Azure cli tools with azure account credentials."
   ]
  },
  {
   "cell_type": "code",
   "execution_count": null,
   "metadata": {},
   "outputs": [],
   "source": [
    "def execute_azure_login(b):\n",
    "    Azure_login.button_style = azure_account_login()\n",
    "    \n",
    "Azure_login = widgets.Button(description = \"Azure login\")\n",
    "Azure_login.on_click(execute_azure_login)"
   ]
  },
  {
   "cell_type": "markdown",
   "metadata": {},
   "source": [
    "### 3. Register Device ID from Manifest\n",
    "This step of the tutorial registers the device ID to the Azure IOT Hub."
   ]
  },
  {
   "cell_type": "code",
   "execution_count": null,
   "metadata": {
    "scrolled": true
   },
   "outputs": [],
   "source": [
    "def execute_device_register(b):\n",
    "    reg_device.button_style = ''\n",
    "    if not manifest_file.data or not validation_cert.data:\n",
    "        print('Step2a & Step2b should be executed first before proceeding to this step\\r\\n')\n",
    "        return None\n",
    "    register_device(json.loads(manifest_file.data[0]), validation_cert.data[0])\n",
    "\n",
    "manifest_file = FileUpload(description='Step2a. Load Manifest JSON File', accept='.json', layout=widgets.Layout(width='auto'), multiple=False)\n",
    "validation_cert = FileUpload(description='Step2b. Load Validation CERT File', accept='.crt', layout=widgets.Layout(width='auto'), multiple=False)\n",
    "reg_device = widgets.Button(description = \"Step2. Register device\", layout=widgets.Layout(width='auto'))\n",
    "reg_device.on_click(execute_device_register)\n",
    "\n",
    "display(widgets.HBox((Azure_login, widgets.VBox((manifest_file, validation_cert, reg_device)))))"
   ]
  }
 ],
 "metadata": {
  "kernelspec": {
   "display_name": "Python 3",
   "language": "python",
   "name": "python3"
  },
  "language_info": {
   "codemirror_mode": {
    "name": "ipython",
    "version": 3
   },
   "file_extension": ".py",
   "mimetype": "text/x-python",
   "name": "python",
   "nbconvert_exporter": "python",
   "pygments_lexer": "ipython3",
   "version": "3.7.7"
  }
 },
 "nbformat": 4,
 "nbformat_minor": 2
}

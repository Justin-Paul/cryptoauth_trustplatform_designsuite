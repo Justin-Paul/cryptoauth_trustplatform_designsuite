{
 "cells": [
  {
   "cell_type": "markdown",
   "metadata": {},
   "source": [
    "# 1.1 Introduction\n",
    "The secure element manifest format is designed to convey the unique information about a secure elements including unique ID (e.g. serial number), public keys, and certificates. The signed manifest file\n",
    "generated can be used to register the device to cloud providers."
   ]
  },
  {
   "cell_type": "markdown",
   "metadata": {},
   "source": [
    "## 1.2.Tutorial Prerequisites:\n",
    "    \n",
    "\n",
    "The following code is runs on python 3.x environment. The folowing modules are also needed to run the example\n",
    "\n",
    "1. cryptoauthlib\n",
    "2. cryptography\n",
    "\n",
    "The next step of the tutorial with attempt to load all the necessary modules and their dependencies on your machine. If the above modules are already installed you can safely step over the next Tutorial step.\n",
    "\n",
    "> <font color = green>pip install -U module_name</font>"
   ]
  },
  {
   "cell_type": "code",
   "execution_count": null,
   "metadata": {},
   "outputs": [],
   "source": [
    "!python -m pip install -r ../../requirements.txt"
   ]
  },
  {
   "cell_type": "markdown",
   "metadata": {},
   "source": [
    "## 1.3. Load the necessary modules and helper functions\n",
    "\n",
    "This Tutorial uses a number of python helper functions that are loaded by the following cell.\n",
    "The below code does the following things:\n",
    "1. Setup of cryptography module\n",
    "2. Adds helper functions to get device name and device type"
   ]
  },
  {
   "cell_type": "code",
   "execution_count": null,
   "metadata": {},
   "outputs": [],
   "source": [
    "from cryptoauthlib import *\n",
    "from common import *\n",
    "from manifest_generation_helper import *\n",
    "from IPython.display import HTML"
   ]
  },
  {
   "cell_type": "markdown",
   "metadata": {},
   "source": [
    "# 2. Tutorial\n",
    "\n",
    "This tutorial will guide you through the following steps:\n",
    "1. Establish the communication between the host (PC) and the ECC608A\n",
    "2. Generate the Manifest file\n"
   ]
  },
  {
   "cell_type": "markdown",
   "metadata": {},
   "source": [
    "## 2.1. Establish the communication between the host (PC) and the ECC608A\n",
    "1. Initialize the library which also loads it\n",
    "2. Check if the correct device is connected to the PC. If the wrong device is connected, a ValueError excpetion will be raised."
   ]
  },
  {
   "cell_type": "markdown",
   "metadata": {},
   "source": [
    "### 2.1.1. Select the CryptoAuthLib Hardware Abstraction layer to KIT USB HID"
   ]
  },
  {
   "cell_type": "code",
   "execution_count": null,
   "metadata": {},
   "outputs": [],
   "source": [
    "cfg = cfg_ateccx08a_kithid_default()\n",
    "cfg.devtype = get_device_type_id('ATECC608A')\n",
    "cfg.cfg.atcahid.dev_interface = ATCAKitType.ATCA_KIT_I2C_IFACE\n",
    "cfg.cfg.atcahid.dev_identity = 0x6A #TNGTLS device I2C address\n",
    "print(\"Set devtype as ECC608A - Successfull\")"
   ]
  },
  {
   "cell_type": "markdown",
   "metadata": {},
   "source": [
    "### 2.1.2. Establish the connection with the ECC608A-TNGTLS device on the USB dongle and check its type\n",
    "<font color=red>If the next Tutorial step yields an exception, the ECC608A is not correctly connected or of the wrong type.</font>"
   ]
  },
  {
   "cell_type": "code",
   "execution_count": null,
   "metadata": {},
   "outputs": [],
   "source": [
    "# Initialize interface\n",
    "assert atcab_init(cfg) == ATCA_SUCCESS, \"Can't connect to the USB dongle\"\n",
    "\n",
    "# Get connected device type\n",
    "info = bytearray(4)\n",
    "assert atcab_info(info) == ATCA_SUCCESS, \"Can't read the ECC608A device information\"\n",
    "dev_type = get_device_type_id(get_device_name(info))\n",
    "\n",
    "# Checking if the connected device matches with selected device\n",
    "if dev_type != cfg.devtype:\n",
    "    assert atcab_release() == ATCA_SUCCESS\n",
    "    raise ValueError('Device not supported')\n",
    "    \n",
    "print(\"Device initialization - Successful\")"
   ]
  },
  {
   "cell_type": "markdown",
   "metadata": {},
   "source": [
    "## 2.2. Generate the Manifest file\n"
   ]
  },
  {
   "cell_type": "markdown",
   "metadata": {},
   "source": [
    "### 2.2.1. Create a signing key and certificate that will be used to sign entries in a manifest\n",
    "Manifests downloaded from Microchip Direct will be signed by Microchip"
   ]
  },
  {
   "cell_type": "code",
   "execution_count": null,
   "metadata": {
    "scrolled": true
   },
   "outputs": [],
   "source": [
    "logger_cert = create_log_signer()"
   ]
  },
  {
   "cell_type": "markdown",
   "metadata": {},
   "source": [
    "### 2.2.2. Create the manifest file from the extracted device information\n",
    "This step can take a little bit of time as all the certificates are extracted.\n",
    "\n",
    "<font color=red>If the next Tutorial step yields an exception, the ECC608A is not correctly connected or of the wrong type.</font>"
   ]
  },
  {
   "cell_type": "code",
   "execution_count": null,
   "metadata": {
    "scrolled": true
   },
   "outputs": [],
   "source": [
    "manifest_data, manifest_name = tng_data()"
   ]
  },
  {
   "cell_type": "markdown",
   "metadata": {},
   "source": [
    "### 2.2.3 Download Artifacts"
   ]
  },
  {
   "cell_type": "code",
   "execution_count": null,
   "metadata": {},
   "outputs": [],
   "source": [
    "def create_download_link(file_data, file_name, title):  \n",
    "    b64 = base64.b64encode(file_data)\n",
    "    payload = b64.decode()\n",
    "    html = '<a download=\"{filename}\" href=\"data:text/csv;base64,{payload}\" target=\"_blank\">{title}</a>'\n",
    "    html = html.format(payload=payload,title=title,filename=file_name)\n",
    "    return HTML(html)"
   ]
  },
  {
   "cell_type": "markdown",
   "metadata": {},
   "source": [
    "#### 2.2.3.1 Download Manifest\n",
    "Click the generated link to download the manifest"
   ]
  },
  {
   "cell_type": "code",
   "execution_count": null,
   "metadata": {},
   "outputs": [],
   "source": [
    "create_download_link(manifest_data, manifest_name, 'Download Manifest')"
   ]
  },
  {
   "cell_type": "markdown",
   "metadata": {},
   "source": [
    "#### 2.2.3.2 Download Verification Certificate\n",
    "Click the generate link to download the manifest validation certificate"
   ]
  },
  {
   "cell_type": "code",
   "execution_count": null,
   "metadata": {},
   "outputs": [],
   "source": [
    "create_download_link(logger_cert, 'logger.pem', 'Download Logger Certificate')"
   ]
  }
 ],
 "metadata": {
  "kernelspec": {
   "display_name": "Python 3",
   "language": "python",
   "name": "python3"
  },
  "language_info": {
   "codemirror_mode": {
    "name": "ipython",
    "version": 3
   },
   "file_extension": ".py",
   "mimetype": "text/x-python",
   "name": "python",
   "nbconvert_exporter": "python",
   "pygments_lexer": "ipython3",
   "version": "3.7.0"
  }
 },
 "nbformat": 4,
 "nbformat_minor": 2
}

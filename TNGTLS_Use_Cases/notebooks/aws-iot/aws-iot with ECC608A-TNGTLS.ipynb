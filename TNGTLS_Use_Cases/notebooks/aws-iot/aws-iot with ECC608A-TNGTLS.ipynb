{
 "cells": [
  {
   "cell_type": "markdown",
   "metadata": {},
   "source": [
    "# 1.Introduction\n",
    "\n",
    "This Notebook tutorial will allow you to load a TNG manifest into aws-iot to enable device connectivity"
   ]
  },
  {
   "cell_type": "markdown",
   "metadata": {},
   "source": [
    "## 1.1.Tutorial Prerequisites:\n",
    "    \n",
    "\n",
    "The following code is runs on python 3.x environment. This step of the tutorial will attempt to load all the necessary modules and their dependencies on your machine. If the above modules are already installed you can safely step over the next Tutorial step.\n",
    "\n",
    "> <font color = green>pip install -U module_name</font>"
   ]
  },
  {
   "cell_type": "code",
   "execution_count": null,
   "metadata": {
    "scrolled": true
   },
   "outputs": [],
   "source": [
    "!python -m pip install -r ../../../requirements.txt"
   ]
  },
  {
   "cell_type": "markdown",
   "metadata": {},
   "source": [
    "## 1.2. Load the necessary modules and helper functions\n",
    "\n",
    "This Tutorial uses a number of python helper functions that are loaded by the following cell.\n",
    "The below code does the following things:\n",
    "1. Setup of cryptography module\n",
    "2. Adds helper functions to get device name and device type"
   ]
  },
  {
   "cell_type": "code",
   "execution_count": null,
   "metadata": {},
   "outputs": [],
   "source": [
    "import json\n",
    "from cryptoauthlib import *\n",
    "from MicrochipManifestHandler import *\n",
    "from ipywidgets import FileUpload\n",
    "from ipywidgets import widgets\n",
    "from aws_helper import *"
   ]
  },
  {
   "cell_type": "markdown",
   "metadata": {},
   "source": [
    "## 1.3 Configure AWS account credentials\n",
    "These steps can be skipped if the aws account has been configured with user credentials(Access key, Secret Access key and region) and jump to section  \"1.4 Load Manifest File\""
   ]
  },
  {
   "cell_type": "markdown",
   "metadata": {},
   "source": [
    "Check if credentials have been configured"
   ]
  },
  {
   "cell_type": "code",
   "execution_count": null,
   "metadata": {},
   "outputs": [],
   "source": [
    "!aws configure list"
   ]
  },
  {
   "cell_type": "markdown",
   "metadata": {},
   "source": [
    "If the above does not have an entry for access_key or secret key the next steps will have to be run"
   ]
  },
  {
   "cell_type": "markdown",
   "metadata": {},
   "source": [
    "#### Set the AWS access key, Secret access key and region"
   ]
  },
  {
   "cell_type": "code",
   "execution_count": null,
   "metadata": {},
   "outputs": [],
   "source": [
    "access_key = input('Enter Access key\\n\\r')\n",
    "configure_aws_access_key(access_key)\n",
    "secret_key = input('Enter Secret access key\\n\\r')\n",
    "configure_aws_secret_access_key(secret_key)\n",
    "region = input('Enter region\\n\\r')\n",
    "configure_aws_configure_region(region)"
   ]
  },
  {
   "cell_type": "markdown",
   "metadata": {},
   "source": [
    "## 1.4 Load Manifest File"
   ]
  },
  {
   "cell_type": "code",
   "execution_count": null,
   "metadata": {},
   "outputs": [],
   "source": [
    "manifest = FileUpload(accept='*.json', multiple=False)\n",
    "display(manifest)"
   ]
  },
  {
   "cell_type": "markdown",
   "metadata": {},
   "source": [
    "## 1.5 Load Validation Certificate"
   ]
  },
  {
   "cell_type": "code",
   "execution_count": null,
   "metadata": {},
   "outputs": [],
   "source": [
    "validator = FileUpload(accept='*.pem', multiple=False)\n",
    "display(validator)"
   ]
  },
  {
   "cell_type": "markdown",
   "metadata": {},
   "source": [
    "## 1.6 Upload Manifest Entries\n",
    "The policy name must be supplied here as the first parameter to invoke_import_manifest. In this case the policy name is 'Default'. If the policy is already created this step can be skipped. Otherwise execute the following to create a 'Default' policy for \"things\"."
   ]
  },
  {
   "cell_type": "code",
   "execution_count": null,
   "metadata": {},
   "outputs": [],
   "source": [
    "check_and_install_policy('Default')"
   ]
  },
  {
   "cell_type": "markdown",
   "metadata": {},
   "source": [
    "#### Upload the manifest and create \"things\" with the device id"
   ]
  },
  {
   "cell_type": "code",
   "execution_count": null,
   "metadata": {
    "scrolled": true
   },
   "outputs": [],
   "source": [
    "manifest_data = json.loads(manifest.data[0])\n",
    "validation_certificate = validator.data[0]\n",
    "\n",
    "def upload_manifest_cal(b):\n",
    "    invoke_import_manifest('Default', manifest_data, validation_certificate)\n",
    "    upload_manifest.button_style = 'success'\n",
    "        \n",
    "upload_manifest = widgets.Button(description = \"Upload manifest to AWS\")\n",
    "upload_manifest.on_click(upload_manifest_cal)"
   ]
  },
  {
   "cell_type": "markdown",
   "metadata": {},
   "source": [
    "## 1.7 Check the manifest was uploaded successfully"
   ]
  },
  {
   "cell_type": "code",
   "execution_count": null,
   "metadata": {},
   "outputs": [],
   "source": [
    "def verify_manifest_cal(b):\n",
    "    invoke_validate_manifest_import(manifest_data, validation_certificate)\n",
    "    verify_manifest.button_style = 'success'\n",
    "        \n",
    "verify_manifest = widgets.Button(description = \"Verify the uploaded manifest\")\n",
    "verify_manifest.on_click(verify_manifest_cal)\n",
    "\n",
    "display(widgets.HBox((upload_manifest, verify_manifest)))"
   ]
  },
  {
   "cell_type": "code",
   "execution_count": null,
   "metadata": {},
   "outputs": [],
   "source": []
  }
 ],
 "metadata": {
  "kernelspec": {
   "display_name": "Python 3",
   "language": "python",
   "name": "python3"
  },
  "language_info": {
   "codemirror_mode": {
    "name": "ipython",
    "version": 3
   },
   "file_extension": ".py",
   "mimetype": "text/x-python",
   "name": "python",
   "nbconvert_exporter": "python",
   "pygments_lexer": "ipython3",
   "version": "3.7.3"
  }
 },
 "nbformat": 4,
 "nbformat_minor": 2
}

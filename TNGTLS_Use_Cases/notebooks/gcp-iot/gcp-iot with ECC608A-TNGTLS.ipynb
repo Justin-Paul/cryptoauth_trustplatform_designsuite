{
 "cells": [
  {
   "cell_type": "markdown",
   "metadata": {},
   "source": [
    "# 1.Introduction\n",
    "\n",
    "This Notebook tutorial will allow you to register the device through manifest file and for viewing the output"
   ]
  },
  {
   "cell_type": "markdown",
   "metadata": {},
   "source": [
    "### 1.1.Tutorial Prerequisites:\n",
    "    \n",
    "\n",
    "The following code is runs on python 3.x environment. This step of the tutorial will attempt to load all the necessary modules and their dependencies on your machine. If the above modules are already installed you can safely step over the next Tutorial step.\n",
    "\n",
    "> <font color = green>pip install -U module_name</font>"
   ]
  },
  {
   "cell_type": "code",
   "execution_count": null,
   "metadata": {
    "scrolled": true
   },
   "outputs": [],
   "source": [
    "!python -m pip install -r ../../../requirements.txt"
   ]
  },
  {
   "cell_type": "markdown",
   "metadata": {},
   "source": [
    "### 1.2. Load the necessary modules and helper functions"
   ]
  },
  {
   "cell_type": "code",
   "execution_count": null,
   "metadata": {
    "scrolled": false
   },
   "outputs": [],
   "source": [
    "from at_gui import *\n",
    "from load_manifest import *\n",
    "from ipywidgets import widgets\n",
    "from IPython.display import display\n",
    "import json\n",
    "from cryptoauthlib import *\n",
    "from ipywidgets import FileUpload"
   ]
  },
  {
   "cell_type": "markdown",
   "metadata": {},
   "source": [
    "### 1.3. Configure GCP account credentials\n",
    "\n",
    "Its important to have GCP account already setup and have the informations ready so that the device can be registered. \n",
    "The registry id, region id, credentials for uploading the manifest file and credentials for viewing the uploaded data are to be configured in the below step."
   ]
  },
  {
   "cell_type": "markdown",
   "metadata": {},
   "source": [
    "<center><img src=\"img\\reg_region.png\" width=\"800\" alt=\"**Set the registry and region!**\" /></center>"
   ]
  },
  {
   "cell_type": "code",
   "execution_count": null,
   "metadata": {},
   "outputs": [],
   "source": [
    "registry_id = \"karthi_regid\"\n",
    "region_id = \"us-central1\"\n",
    "manifest_credential_file = '../../../Docs/iot-manifest.json'\n",
    "dataview_credential_file = '../../../Docs/data-view.json'"
   ]
  },
  {
   "cell_type": "markdown",
   "metadata": {},
   "source": [
    "## 1.4 Load Manifest File"
   ]
  },
  {
   "cell_type": "code",
   "execution_count": null,
   "metadata": {},
   "outputs": [],
   "source": [
    "manifest = FileUpload(accept='*.json', multiple=False)\n",
    "display(manifest)"
   ]
  },
  {
   "cell_type": "markdown",
   "metadata": {},
   "source": [
    "## 1.5 Load Validation Certificate"
   ]
  },
  {
   "cell_type": "code",
   "execution_count": null,
   "metadata": {},
   "outputs": [],
   "source": [
    "validator = FileUpload(accept='*.pem', multiple=False)\n",
    "display(validator)"
   ]
  },
  {
   "cell_type": "markdown",
   "metadata": {},
   "source": [
    "## 1.6 Upload Manifest Entries\n",
    "This step registers the device to the register id of the GCP cloud."
   ]
  },
  {
   "cell_type": "code",
   "execution_count": null,
   "metadata": {},
   "outputs": [],
   "source": [
    "def upload_manifest_cal(b):\n",
    "    manifest_data = json.loads(manifest.data[0])\n",
    "    validation_certificate = validator.data[0]\n",
    "    gcp_upload_manifest(registry_id, region_id, manifest_credential_file, validation_certificate, manifest_data)\n",
    "    upload_manifest.button_style = 'success'\n",
    "        \n",
    "upload_manifest = widgets.Button(description = \"Upload manifest to GCP\")\n",
    "upload_manifest.on_click(upload_manifest_cal)"
   ]
  },
  {
   "cell_type": "markdown",
   "metadata": {},
   "source": [
    "Before running the last step, target hardware should be compiled with the GCP and wifi credentials. Once, the target hardware is programmed and connected to cloud, run the next cell, which pops up a gui to view the LED status of the board"
   ]
  },
  {
   "cell_type": "markdown",
   "metadata": {},
   "source": [
    "### 1.7 Run gcp-gui script"
   ]
  },
  {
   "cell_type": "code",
   "execution_count": null,
   "metadata": {
    "scrolled": false
   },
   "outputs": [],
   "source": [
    "def execute_gcp_gui(b):\n",
    "    run_gcp_gui(dataview_credential_file)\n",
    "    gcp_gui.button_style = 'success'\n",
    "        \n",
    "gcp_gui = widgets.Button(description = \"GCP GUI\")\n",
    "gcp_gui.on_click(execute_gcp_gui)\n",
    "\n",
    "display(widgets.HBox((upload_manifest, gcp_gui)))"
   ]
  }
 ],
 "metadata": {
  "kernelspec": {
   "display_name": "Python 3",
   "language": "python",
   "name": "python3"
  },
  "language_info": {
   "codemirror_mode": {
    "name": "ipython",
    "version": 3
   },
   "file_extension": ".py",
   "mimetype": "text/x-python",
   "name": "python",
   "nbconvert_exporter": "python",
   "pygments_lexer": "ipython3",
   "version": "3.7.2"
  }
 },
 "nbformat": 4,
 "nbformat_minor": 2
}

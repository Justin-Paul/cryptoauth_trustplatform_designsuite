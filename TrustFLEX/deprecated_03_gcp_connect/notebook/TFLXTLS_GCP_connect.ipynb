{
 "cells": [
  {
   "cell_type": "markdown",
   "metadata": {},
   "source": [
    "# Introduction\n",
    "<font color = green> <strong>MUST READ:</strong></font> This Notebook tutorial will allow you to register a TFLXTLS manifest file into Google Cloud Platform (GCP) account to enable device connectivity. To run this Notebook successfuly, its required to have GCP credentials updated in this Notebook, Manifest file and Manifest file Signer are generated, and Manifest file is Signed by Manifest signer. The Manifest file related steps will be taken care by TFLXTLS Manifest File Generation Notebook.\n",
    "\n",
    "Before running this Notebook\n",
    "1. Have GCP account credentials located in docs folder as GCP_test_account_credentials.csv\n",
    "2. Have manifest and dataview credentials located in Docs folder as iot-manifest.json and data-view.json\n",
    "3. Run TFLXTLS Manifest File Generation Notebook to ensure Manifest file generated and signed"
   ]
  },
  {
   "cell_type": "markdown",
   "metadata": {},
   "source": [
    "### Prerequisites:\n",
    "This step of the tutorial will attempt to load all the necessary modules and their dependencies on your machine. If the modules are already installed you can safely step over the next Tutorial step."
   ]
  },
  {
   "cell_type": "markdown",
   "metadata": {},
   "source": [
    "<font color = orange> <strong>Note</strong></font> \n",
    "1. Installation time for prerequisites depends upon system and network speed.\n",
    "2. Installing prerequisites for the first time takes more time and watch the kernel status for progress. Following image helps to locate the Kernel status,\n",
    "<center><img src=\"../../../assets/notebook/img/kerner_status.png\" alt=\"**Check Kernel Status**\" /></center>\n",
    "\n",
    "\n",
    "3. Installing prerequisites gives the following error and it can be safely ignored. Functionality remains unaffected.\n",
    "    - <font color = orange> azure-cli 2.0.76 has requirement colorama~=0.4.1, but you'll have colorama 0.3.9 which is incompatible.</font>\n",
    "    - <font color = orange> azure-cli 2.0.76 has requirement pytz==2019.1, but you'll have pytz 2019.3 which is incompatible. </font>"
   ]
  },
  {
   "cell_type": "code",
   "execution_count": 1,
   "metadata": {
    "scrolled": true
   },
   "outputs": [
    {
     "name": "stdout",
     "output_type": "stream",
     "text": [
      "Checking module (1 of 17): awscli\n",
      "-----------------------------------------\n",
      "Checking module (2 of 17): cryptoauthlib\n",
      "-----------------------------------------\n",
      "Checking module (3 of 17): cryptography\n",
      "-----------------------------------------\n",
      "Checking module (4 of 17): ipywidgets\n",
      "-----------------------------------------\n",
      "Checking module (5 of 17): pyasn1-modules\n",
      "-----------------------------------------\n",
      "Checking module (6 of 17): asn1crypto\n",
      "-----------------------------------------\n",
      "Checking module (7 of 17): pytz\n",
      "-----------------------------------------\n",
      "Checking module (8 of 17): python-jose\n",
      "-----------------------------------------\n",
      "Checking module (9 of 17): pyOpenSSL\n",
      "-----------------------------------------\n",
      "Checking module (10 of 17): boto3\n",
      "-----------------------------------------\n",
      "Checking module (11 of 17): requests-aws4auth\n",
      "-----------------------------------------\n",
      "Checking module (12 of 17): hexrec\n",
      "-----------------------------------------\n",
      "Checking module (13 of 17): hidapi\n",
      "-----------------------------------------\n",
      "Checking module (14 of 17): google-cloud-pubsub\n",
      "-----------------------------------------\n",
      "Checking module (15 of 17): google-cloud-iot\n",
      "-----------------------------------------\n",
      "Checking module (16 of 17): azure-cli\n",
      "-----------------------------------------\n",
      "Checking module (17 of 17): azure-cli-extension\n",
      "-----------------------------------------\n",
      "Completed checking/installing package dependencies\r\n",
      "\n"
     ]
    }
   ],
   "source": [
    "import sys, os\n",
    "\n",
    "home_path = os.path.dirname(os.path.dirname(os.path.dirname(os.path.realpath(os.getcwd()))))\n",
    "module_path = os.path.join(home_path, 'assets', 'python')\n",
    "if not module_path in sys.path:\n",
    "    sys.path.append(module_path)\n",
    "\n",
    "from requirements_helper import requirements_installer\n",
    "obj = requirements_installer(os.path.join(home_path, 'assets', 'requirements.txt'))"
   ]
  },
  {
   "cell_type": "markdown",
   "metadata": {},
   "source": [
    "### Load the necessary modules and helper functions\n",
    "This step loads the required modules and helper functions to perform the required operations."
   ]
  },
  {
   "cell_type": "code",
   "execution_count": 2,
   "metadata": {
    "scrolled": false
   },
   "outputs": [],
   "source": [
    "import json\n",
    "from at_gui import *\n",
    "from load_manifest import *\n",
    "from IPython.display import display\n",
    "from ipywidgets import *"
   ]
  },
  {
   "cell_type": "markdown",
   "metadata": {},
   "source": [
    "The following steps assist to perform\n",
    "1. Manifest file upload to GCP account\n",
    "2. Triggering the GCP-GUI to control connected device\n",
    "\n",
    "#### File navigation for Manifest file and certificate (1. Upload Manifest file)\n",
    "This button helps to load the Manifest file to GCP account. To be able to upload successfully, its required to provide devices Manifest file and Manifest file Signer certificate. \n",
    "\n",
    "#### Trigger GCP GUI (2. GCP GUI)\n",
    "Before running this step, target hardware should be compiled with the above host name and wifi credentials. Once, the target hardware is programmed and connected to cloud, click this button to pops up a GUI. This GUI can be used to monitor the LED status."
   ]
  },
  {
   "cell_type": "code",
   "execution_count": 3,
   "metadata": {},
   "outputs": [
    {
     "data": {
      "application/vnd.jupyter.widget-view+json": {
       "model_id": "8b2dd7dfadf74195ae3fd7698bbec1c2",
       "version_major": 2,
       "version_minor": 0
      },
      "text/plain": [
       "VBox(children=(FileUpload(value={}, accept='*.json', description='Step1a. Load Manifest JSON File', layout=Lay…"
      ]
     },
     "metadata": {},
     "output_type": "display_data"
    },
    {
     "name": "stdout",
     "output_type": "stream",
     "text": [
      "--------------------------------------\n",
      "Before clicking GCP GUI its required to have Manifest file uploaded and Connecting embedded project to cloud by using host details and wifi credentials. Click below GCP GUI button ONLY after establishing connection with Cloud\n"
     ]
    },
    {
     "data": {
      "application/vnd.jupyter.widget-view+json": {
       "model_id": "2b34e5409021452bba725c13e7585db3",
       "version_major": 2,
       "version_minor": 0
      },
      "text/plain": [
       "Button(description='GCP GUI', style=ButtonStyle())"
      ]
     },
     "metadata": {},
     "output_type": "display_data"
    },
    {
     "name": "stdout",
     "output_type": "stream",
     "text": [
      "--------------------------------------\n",
      "Converting Manifest\n",
      "\n",
      "Loading Manifest\n",
      "\n",
      "Device registered succesfully\n"
     ]
    }
   ],
   "source": [
    "manifest_credential_file = '../../../docs/iot-manifest.json'\n",
    "dataview_credential_file = '../../../docs/data-view.json'\n",
    "\n",
    "manifest_file = FileUpload(description='Step1a. Load Manifest JSON File', accept='*.json', layout=widgets.Layout(width='auto'), multiple=False)\n",
    "validation_cert = FileUpload(description='Step1b. Load Validation CERT File', accept='*.json', layout=widgets.Layout(width='auto'), multiple=False)\n",
    "manifest_upload = widgets.Button(description = \"Step1c. Upload Manifest File\", layout=widgets.Layout(width='auto'))\n",
    "v = widgets.VBox((manifest_file, validation_cert, manifest_upload))\n",
    "\n",
    "def upload_manifest_callback(b):\n",
    "    if not manifest_file.data or not validation_cert.data:\n",
    "        print('Step1a & Step1b should be executed first before proceeding to this step\\r\\n')\n",
    "        return None\n",
    "    manifest_data = json.loads(manifest_file.data[0])\n",
    "    validation_certificate = validation_cert.data[0]\n",
    "    if not os.path.isfile(manifest_credential_file):\n",
    "        print(\"iot-manifest.json file not present in docs folder.The file should be created with proper credentials\")\n",
    "        return None\n",
    "    if gcp_upload_manifest(manifest_credential_file, validation_certificate, manifest_data) :\n",
    "        manifest_upload.button_style = 'success'\n",
    "    else:\n",
    "        manifest_upload.button_style = 'danger'\n",
    "    \n",
    "def execute_gcp_gui(b):\n",
    "    if not os.path.isfile(dataview_credential_file) :\n",
    "        print(\"data-view.json file not present in docs folder.The file should be created from the GCP account\")\n",
    "        return None\n",
    "    run_gcp_gui(dataview_credential_file)\n",
    "    gcp_gui.button_style = 'success'\n",
    "    \n",
    "manifest_upload.on_click(upload_manifest_callback)\n",
    "gcp_gui = widgets.Button(description = \"GCP GUI\")\n",
    "gcp_gui.on_click(execute_gcp_gui)\n",
    "\n",
    "display(widgets.VBox((manifest_file, validation_cert, manifest_upload)))\n",
    "print('--------------------------------------')\n",
    "print('Before clicking GCP GUI its required to have Manifest file uploaded and \\\n",
    "Connecting embedded project to cloud by using host details and wifi credentials. \\\n",
    "Click below GCP GUI button ONLY after establishing connection with Cloud')\n",
    "display(gcp_gui) \n",
    "print('--------------------------------------')"
   ]
  }
 ],
 "metadata": {
  "kernelspec": {
   "display_name": "Python 3",
   "language": "python",
   "name": "python3"
  },
  "language_info": {
   "codemirror_mode": {
    "name": "ipython",
    "version": 3
   },
   "file_extension": ".py",
   "mimetype": "text/x-python",
   "name": "python",
   "nbconvert_exporter": "python",
   "pygments_lexer": "ipython3",
   "version": "3.7.7"
  }
 },
 "nbformat": 4,
 "nbformat_minor": 2
}

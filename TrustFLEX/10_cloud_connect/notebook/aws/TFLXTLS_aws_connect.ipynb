{
 "cells": [
  {
   "cell_type": "markdown",
   "metadata": {},
   "source": [
    "# Introduction\n",
    "\n",
    "<font color = green> <strong>MUST READ:</strong></font> This Notebook tutorial will allow you to setup and interact with AWS account for aws-iot example. By using this Notebook, its possible to update account credentials to AWS-CLI, Register the Signer and Interact with device using GUI.\n",
    "\n",
    "Before running this Notebook, \n",
    "1. <font><strong>docs/AWS Test account credentials.csv</strong></font> file should have updated with User credentials to be used.\n",
    "2. Run TFLXTLS Resource Generator.ipynb notebook to ensure root and signer certificates are generated"
   ]
  },
  {
   "cell_type": "markdown",
   "metadata": {},
   "source": [
    "### Prerequisites:\n",
    "This step of the tutorial will attempt to load all the necessary modules and their dependencies on your machine. If the modules are already installed you can safely step over the next Tutorial step."
   ]
  },
  {
   "cell_type": "markdown",
   "metadata": {},
   "source": [
    "<font color = orange> <strong>Note</strong></font> \n",
    "1. Installation time for prerequisites depends upon system and network speed.\n",
    "2. Installing prerequisites for the first time takes more time and watch the kernel status for progress. Following image helps to locate the Kernel status,\n",
    "<center><img src=\"../../../../assets/notebook/img/kerner_status.png\" alt=\"**Check Kernel Status**\" /></center>\n",
    "\n",
    "\n",
    "3. Installing prerequisites gives the following error and it can be safely ignored. Functionality remains unaffected.\n",
    "    - <font color = orange> azure-cli 2.0.76 has requirement colorama~=0.4.1, but you'll have colorama 0.3.9 which is incompatible.</font>\n",
    "    - <font color = orange> azure-cli 2.0.76 has requirement pytz==2019.1, but you'll have pytz 2019.3 which is incompatible. </font>"
   ]
  },
  {
   "cell_type": "code",
   "execution_count": null,
   "metadata": {
    "scrolled": true
   },
   "outputs": [],
   "source": [
    "import sys, os\n",
    "\n",
    "home_path = os.path.dirname(os.path.dirname(os.path.dirname(os.path.dirname(os.path.realpath(os.getcwd())))))\n",
    "module_path = os.path.join(home_path, 'assets', 'python')\n",
    "if not module_path in sys.path:\n",
    "    sys.path.append(module_path)\n",
    "\n",
    "from requirements_helper import requirements_installer\n",
    "obj = requirements_installer(os.path.join(home_path, 'assets', 'requirements.txt'))"
   ]
  },
  {
   "cell_type": "markdown",
   "metadata": {},
   "source": [
    "### Load the necessary modules and helper functions\n",
    "This step loads the required modules and helper functions to perform the required operations."
   ]
  },
  {
   "cell_type": "code",
   "execution_count": null,
   "metadata": {
    "scrolled": false
   },
   "outputs": [],
   "source": [
    "from helper_aws import *\n",
    "from aws_register_signer import *\n",
    "from gui_aws import *\n",
    "from ipywidgets import widgets\n",
    "from IPython.display import display"
   ]
  },
  {
   "cell_type": "markdown",
   "metadata": {},
   "source": [
    "The following steps assist to perform\n",
    "    1. Updating AWS account credentials\n",
    "    2. Registering the Signer module\n",
    "    3. Triggering the AWS GUI to control connected device\n",
    "\n",
    "#### Updating AWS account credentials (1. Config AWS-CLI)\n",
    "This button helps to update user AWS credentials to AWS-CLI. These will be used for any interactions with AWS cloud from the PC. This is an option button to execute. This can be skipped if configuration displayed is correct for the User account.\n",
    "\n",
    "#### Registering the Signer module (2. Register signer)\n",
    "This button will register the signer generated during resource generation step to AWS registered account. Clicking the 'Register signer' button will trigger signer registration and it should display device endpoint like <strong>Hostname: xxxxxx.iot.xxxx.amazon.com</strong>. This host name should be copied to embedded application to make sure target hardware connects to this account. \n",
    "\n",
    "#### Trigger AWS GUI (3. AWS GUI)\n",
    "Before running this step, target hardware should be compiled with the above host name and wifi credentials. Once, the target hardware is programmed and connected to cloud, click this button to pops up a GUI. This GUI can be used to control the LED on the hardware."
   ]
  },
  {
   "cell_type": "code",
   "execution_count": null,
   "metadata": {
    "scrolled": false
   },
   "outputs": [],
   "source": [
    "text = widgets.Text(value='', description='AWS User Region:', style={'description_width': '150px'})\n",
    "def get_user_region(b):\n",
    "    config_aws_cli.button_style = configure_aws_cli(text.value)\n",
    "    print('--------------------------------------')\n",
    "def execute_aws_configure(b):\n",
    "    display(text)\n",
    "    text.on_submit(get_user_region)\n",
    "def execute_register_signer(b):\n",
    "    if not os.path.isfile(os.path.join(home_path, 'TrustFLEX', '00_resource_generation', 'signer_FFFF.crt')):\n",
    "        print(\"No signer certificate found...TrustFLEX resource_generation notebook has to be run before running this notebook\")\n",
    "        return None\n",
    "    aws_register_signer()\n",
    "    register_signer.button_style = 'success'\n",
    "    print('--------------------------------------\\r\\n')\n",
    "def execute_aws_gui(b):\n",
    "    if not os.path.isfile(os.path.join(home_path, 'TrustFLEX', '00_resource_generation', 'kit-info.json')):\n",
    "        print(\"TrustFLEX resource_generation notebook has to be run before running this notebook\")\n",
    "        return None\n",
    "    aws_interact_gui()\n",
    "    aws_gui.button_style = 'success'\n",
    "    \n",
    "tooltip = 'Its optional, Run only if credentials are different from listed'\n",
    "config_aws_cli = widgets.Button(description = \"Step1. Config AWS-CLI\", tooltip = tooltip, layout=widgets.Layout(width='auto'))\n",
    "config_aws_cli.on_click(execute_aws_configure)\n",
    "tooltip = 'Ensure credentials are correct before running this'\n",
    "register_signer = widgets.Button(description = \"Step2. Register signer\", tooltip = tooltip, layout=widgets.Layout(width='auto'))\n",
    "register_signer.on_click(execute_register_signer)\n",
    "tooltip = \"\"\"Before running this, Signer should be registered,\n",
    "and Embedded project connected to Cloud\"\"\"\n",
    "aws_gui = widgets.Button(description = \"AWS GUI\", tooltip = tooltip)\n",
    "aws_gui.on_click(execute_aws_gui)\n",
    "\n",
    "list_current_configuration()\n",
    "print('--------------------------------------')\n",
    "display(widgets.HBox((config_aws_cli, register_signer)))\n",
    "print('--------------------------------------')\n",
    "print('Before clicking AWS GUI its required to have signer registered and \\\n",
    "Connecting embedded project to cloud by using host name and wifi credentials. \\\n",
    "Click below AWS GUI button ONLY after establishing connection with Cloud')\n",
    "display(aws_gui) "
   ]
  }
 ],
 "metadata": {
  "kernelspec": {
   "display_name": "Python 3",
   "language": "python",
   "name": "python3"
  },
  "language_info": {
   "codemirror_mode": {
    "name": "ipython",
    "version": 3
   },
   "file_extension": ".py",
   "mimetype": "text/x-python",
   "name": "python",
   "nbconvert_exporter": "python",
   "pygments_lexer": "ipython3",
   "version": "3.7.0"
  }
 },
 "nbformat": 4,
 "nbformat_minor": 2
}

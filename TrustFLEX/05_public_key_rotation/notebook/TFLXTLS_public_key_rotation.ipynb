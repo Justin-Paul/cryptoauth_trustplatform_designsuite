{
 "cells": [
  {
   "cell_type": "markdown",
   "metadata": {},
   "source": [
    "# Introduction\n",
    "<font color = green> <strong>MUST READ:</strong></font> This Notebook tutorial will allow you to perform Public Key rotation securely on TFLXTLS device.\n",
    "\n",
    "The CryptoAuthentication device supports updating the public key after it has been validated. The public keys that are intended to rotate securely should be stored in slots marked as PubInvalid. \n",
    "\n",
    "The slot validation and invalidation is the process in the which the authenticity of the slot will be verified using its digest and signature provided by validation authority. Once its the authenticated, slot can be marked as validated or invalidated.\n",
    "\n",
    "Once the key is validated a new key cannot be written before it is invalidated.\n",
    "\n",
    "Secure Public key rotation is a multi step process,\n",
    "1. Establish the communication between host(PC) and TrustFLEX\n",
    "2. Generating a Validation Authority Key pair\n",
    "3. Rotate new public key\n",
    "4. Validate and verify rotated public key is usability\n",
    "\n",
    "Before running this Notebook,\n",
    "1. Make sure CryptoAuth Trust Platform is having factory reset program"
   ]
  },
  {
   "cell_type": "markdown",
   "metadata": {},
   "source": [
    "### Prerequisites:\n",
    "This step of the tutorial will attempt to load all the necessary modules and their dependencies on your machine. If the modules are already installed you can safely step over the next Tutorial step."
   ]
  },
  {
   "cell_type": "markdown",
   "metadata": {},
   "source": [
    "<font color = orange> <strong>Note</strong></font> \n",
    "1. Installation time for prerequisites depends upon system and network speed.\n",
    "2. Installing prerequisites for the first time takes more time and watch the kernel status for progress. Following image helps to locate the Kernel status,\n",
    "<center><img src=\"../../../assets/notebook/img/kerner_status.png\" alt=\"**Check Kernel Status**\" /></center>\n",
    "\n",
    "\n",
    "\n",
    "3. Installing prerequisites gives the following error and it can be safely ignored. Functionality remains unaffected.\n",
    "    - <font color = orange> azure-cli 2.0.76 has requirement colorama~=0.4.1, but you'll have colorama 0.3.9 which is incompatible.</font>\n",
    "    - <font color = orange> azure-cli 2.0.76 has requirement pytz==2019.1, but you'll have pytz 2019.3 which is incompatible. </font>"
   ]
  },
  {
   "cell_type": "code",
   "execution_count": null,
   "metadata": {
    "scrolled": true
   },
   "outputs": [],
   "source": [
    "import sys, os\n",
    "\n",
    "home_path = os.path.dirname(os.path.dirname(os.path.dirname(os.path.realpath(os.getcwd()))))\n",
    "module_path = os.path.join(home_path, 'assets', 'python')\n",
    "if not module_path in sys.path:\n",
    "    sys.path.append(module_path)\n",
    "\n",
    "from requirements_helper import requirements_installer\n",
    "obj = requirements_installer(os.path.join(home_path, 'assets', 'requirements.txt'))\n",
    "from trustplatform import program_flash\n",
    "programmer = program_flash()"
   ]
  },
  {
   "cell_type": "markdown",
   "metadata": {},
   "source": [
    "### Setup Modules and Hardware\n",
    "This step loads the required modules and helper functions to perform the resource generation sequence. It also \n",
    "1. Initializes the interface with TFLXTLS hardware and establishes commmunication with TFLXTLS.\n",
    "2. Performs device initialization to verify the actual device attached"
   ]
  },
  {
   "cell_type": "code",
   "execution_count": null,
   "metadata": {
    "scrolled": true
   },
   "outputs": [],
   "source": [
    "import os\n",
    "import argparse,time\n",
    "import binascii\n",
    "import warnings\n",
    "\n",
    "from cryptoauthlib import *\n",
    "from public_key_rotation_helper import *\n",
    "from cryptography.hazmat.backends import default_backend\n",
    "from cryptography.hazmat.primitives import hashes\n",
    "from cryptoauthlib.device import *\n",
    "from cryptoauthlib.library import ctypes_to_bytes\n",
    "from trustplatform import *\n",
    "\n",
    "layout=widgets.Layout(width='auto')\n",
    "warnings.filterwarnings('ignore')\n",
    "print(\"Importing modules - Successful\")\n",
    "\n",
    "#TFLXTLS device I2C address 0x6C; #TNGTLS device I2C address 0x6A; \n",
    "common_helper.connect_to_secure_element('ATECC608A', ATCAKitType.ATCA_KIT_I2C_IFACE, 0x6C)\n",
    "print(\"Device initialization - Successful\")"
   ]
  },
  {
   "cell_type": "markdown",
   "metadata": {},
   "source": [
    "### Generating a Validation Authority key pair\n",
    "The most important step is to have the Validation Authority ECC P256 key pair. The key pair can be generated using many of the options available like openssl (or) python modules etc..,. The private key should be securely stored by OEM and the corresponding public key should be written to TFLXTLS devices.\n",
    "\n",
    "<font color=red>This step is already perfomed part of resource generation using TFLXTLS_resource_generation\\TFLXTLS Resource Generator.ipynb. </font> This key pair will be used for this public key rotation. \n",
    "\n",
    "<font color = green>The keys are generated here using python module and is stored in computer's hard disk, this is not secure and is not recommended for actual production. In actual production environment these keys need to be stored in a secure storage as depitected below.</font>"
   ]
  },
  {
   "cell_type": "markdown",
   "metadata": {},
   "source": [
    "<center><img src=\"img/1.png\" alt=\"**Get your Secure Elements here!**\" /></center>"
   ]
  },
  {
   "cell_type": "markdown",
   "metadata": {},
   "source": [
    "### Rotate new public key\n",
    "The PubInvalid slots update is possible only after invalidating the slot i.e. only invalidated slots are allowed to write."
   ]
  },
  {
   "cell_type": "markdown",
   "metadata": {},
   "source": [
    "#### a. Generating a new public key\n",
    "Generate a new key pair for system to rotate the existing public key with this new one. The new pubic key will be authorized by the validation authority. It calculates the new public keys digest and signs the same."
   ]
  },
  {
   "cell_type": "markdown",
   "metadata": {},
   "source": [
    "<center><img src=\"img/2-3-a.png\" alt=\"**Get your Secure Elements here!**\" /></center>"
   ]
  },
  {
   "cell_type": "code",
   "execution_count": null,
   "metadata": {},
   "outputs": [],
   "source": [
    "def generate_key_pair(b):\n",
    "    print ('\\nGenerate new rotating public key pair...', end='')\n",
    "    generate_new_rotate_public_key_pair()\n",
    "    rotating_key_pair_generate.button_style = 'success'\n",
    "    print('OK')\n",
    "\n",
    "rotating_key_pair_generate = widgets.Button(description = \"Step1. Gen Rotating key pair\", \n",
    "    tooltip = 'Generate new rotating private/public key pair', layout=layout)\n",
    "rotating_key_pair_generate.on_click(generate_key_pair)"
   ]
  },
  {
   "cell_type": "markdown",
   "metadata": {},
   "source": [
    "#### b. Authorize public key\n",
    "To validate or invalidate, its required to have Public keys digest and signature provided by validation authority. This ensures the key is coming from the right source. Validation authority calculates the digest and signs it. Authority public key on the product verifies the same as part of validate/invalidate process."
   ]
  },
  {
   "cell_type": "markdown",
   "metadata": {},
   "source": [
    "<center><img src=\"img/2-3-b.png\" alt=\"**Get your Secure Elements here!**\" /></center>"
   ]
  },
  {
   "cell_type": "code",
   "execution_count": null,
   "metadata": {},
   "outputs": [],
   "source": [
    "nonce = os.urandom(32)\n",
    "rotating_public_key_digest = bytearray(32)\n",
    "signature = bytearray(64)\n",
    "\n",
    "def Authority_key_validate_rotate_public_key(b):\n",
    "    global signature\n",
    "    global nonce\n",
    "    \n",
    "    print ('\\nSign the rotating key digest with the Authority Private Key...', end='')\n",
    "    authority_private_key = get_validating_authority_key()\n",
    "    rotating_private_key = get_rotating_key()\n",
    "    rotating_public_key = rotating_private_key.public_key().public_bytes(encoding=Encoding.X962, format=PublicFormat.UncompressedPoint)[1:]\n",
    "    rotating_public_key_digest = public_key_digest(nonce, rotating_public_key)\n",
    "    signature = sign_host(rotating_public_key_digest, authority_private_key)\n",
    "    print('OK')\n",
    "    Authorize.button_style = 'success'\n",
    "    \n",
    "    resource_generate()\n",
    "        \n",
    "Authorize = widgets.Button(description ='Step2. Authorize new key', \n",
    "    tooltip='Authorize the new public key generated', layout=layout)\n",
    "Authorize.on_click(Authority_key_validate_rotate_public_key)"
   ]
  },
  {
   "cell_type": "markdown",
   "metadata": {},
   "source": [
    "#### c. Update public key\n",
    "If a Public key is already stored in the slot and is validated, unless its invalidated it is not possible to overwrite the slot. Once it is invalidated, the new pubic key can be written to slot."
   ]
  },
  {
   "cell_type": "markdown",
   "metadata": {},
   "source": [
    "#### d. Validate the rotating public key\n",
    "The new public key is updated after invalidating the existing key. Once the new key is written to the slot, its important to validate it. The successful validation restricts further writes to the slot until its invalidated. Also, after validating the slot can be used for cryptographic operations. \n",
    "\n",
    "The validation authority public key in the device verifies the signature to validate the slot."
   ]
  },
  {
   "cell_type": "markdown",
   "metadata": {},
   "source": [
    "<center><img src=\"img/2-3-d.png\" alt=\"**Get your Secure Elements here!**\" /></center>"
   ]
  },
  {
   "cell_type": "code",
   "execution_count": null,
   "metadata": {
    "scrolled": true
   },
   "outputs": [],
   "source": [
    "def rotate_public_key_write_and_validate(b):\n",
    "    valid_buf = bytearray(4)\n",
    "    global signature\n",
    "    global nonce\n",
    "    \n",
    "    print('\\nInvalidate public key slot...', end='')\n",
    "    assert atcab_read_zone(ATCA_ZONE_DATA, rotating_key_slot, 0, 0, valid_buf, 4) == Status.ATCA_SUCCESS\n",
    "    if(valid_buf[0] >> 4 == 0x05):\n",
    "        assert public_key_invalidate() == 1\n",
    "    print ('OK')\n",
    "\n",
    "    print('Write rotating public key to device...', end='')\n",
    "    rotating_private_key = get_rotating_key()\n",
    "    rotating_public_key = rotating_private_key.public_key().public_bytes(encoding=Encoding.X962, format=PublicFormat.UncompressedPoint)[1:]\n",
    "    assert atcab_write_pubkey(rotating_key_slot,rotating_public_key) == Status.ATCA_SUCCESS, 'Writing Public Key failed'\n",
    "    print('OK')\n",
    "    \n",
    "    print ('Validate rotating public key with Authority signature...', end='')\n",
    "    assert public_key_validate_from_authority(nonce, signature)\n",
    "    print('OK')  \n",
    "    write_and_validate_key.button_style = 'success'\n",
    "\n",
    "write_and_validate_key = widgets.Button(description='Step3. Validate Slot for Rotation', \n",
    "    tooltip='Write and validate rotating public key', layout=layout)\n",
    "write_and_validate_key.on_click(rotate_public_key_write_and_validate)"
   ]
  },
  {
   "cell_type": "markdown",
   "metadata": {},
   "source": [
    "### Verify the rotating public key\n",
    "This step verifies the rotating public written to device is validated and can be used for cryptographic operations.\n",
    "The rotating private key signs a message on the host and is verified with the rotating public in slot"
   ]
  },
  {
   "cell_type": "markdown",
   "metadata": {},
   "source": [
    "<center><img src=\"img/2-4.png\" alt=\"**Get your Secure Elements here!**\" /></center>"
   ]
  },
  {
   "cell_type": "code",
   "execution_count": null,
   "metadata": {
    "scrolled": true
   },
   "outputs": [],
   "source": [
    "def verify_rotate_public_key(b):\n",
    "    is_verified_status = AtcaReference(False)\n",
    "\n",
    "    message = os.urandom(32)\n",
    "    print ('\\nSign with the rotating private Key...', end='')\n",
    "    rotating_private_key = get_rotating_key()\n",
    "    signature = sign_host(message,rotating_private_key)\n",
    "    print('OK')\n",
    "\n",
    "    print('Verify the rotating public key...', end='')\n",
    "    status = atcab_verify_stored(message, signature, rotating_key_slot, is_verified_status)\n",
    "    if(is_verified_status == True):\n",
    "        print('Success')\n",
    "        verify.button_style = 'success'\n",
    "    else:\n",
    "        print('Failed')\n",
    "        verify.button_style = 'danger'\n",
    "\n",
    "    public_key_invalidate()\n",
    "        \n",
    "verify = widgets.Button(description = \"Step4. Verify using Rotated key\", \n",
    "    tooltip='Perform Verify with rotated Public Key', layout=layout)\n",
    "verify.on_click(verify_rotate_public_key)\n",
    "display(widgets.VBox((rotating_key_pair_generate, Authorize, write_and_validate_key, verify)))"
   ]
  }
 ],
 "metadata": {
  "kernelspec": {
   "display_name": "Python 3",
   "language": "python",
   "name": "python3"
  },
  "language_info": {
   "codemirror_mode": {
    "name": "ipython",
    "version": 3
   },
   "file_extension": ".py",
   "mimetype": "text/x-python",
   "name": "python",
   "nbconvert_exporter": "python",
   "pygments_lexer": "ipython3",
   "version": "3.7.7"
  }
 },
 "nbformat": 4,
 "nbformat_minor": 2
}

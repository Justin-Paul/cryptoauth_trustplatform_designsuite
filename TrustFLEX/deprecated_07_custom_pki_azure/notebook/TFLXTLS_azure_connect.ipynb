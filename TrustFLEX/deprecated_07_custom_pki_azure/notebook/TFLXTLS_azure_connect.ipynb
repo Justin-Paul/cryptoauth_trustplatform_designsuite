{
 "cells": [
  {
   "cell_type": "markdown",
   "metadata": {},
   "source": [
    "# Introduction\n",
    "\n",
    "<font color = green> <strong>MUST READ:</strong></font> This Notebook tutorial will allow you to setup with Azure account for custom_pki_azure example. By using this Notebook, its possible to update account credentials to Azure cli, Register the Signer and device.\n",
    "\n",
    "Before running this Notebook, \n",
    "1. <font><strong>docs/Azure_iot_hub_details.csv</strong></font> file should have updated with azure iot hub name.\n",
    "2. Run TFLXTLS Resource Generator.ipynb notebook to ensure root and signer certificates are generated.\n",
    "3. Make sure CryptoAuth Trust Platform is having factory reset program"
   ]
  },
  {
   "cell_type": "markdown",
   "metadata": {},
   "source": [
    "### 1.1.Tutorial Prerequisites:\n",
    "    \n",
    "\n",
    "The following code is runs on python 3.x environment. This step of the tutorial will attempt to load all the necessary modules and their dependencies on your machine. If the above modules are already installed you can safely step over the next Tutorial step.\n",
    "\n",
    "> <font color = green>pip install -U module_name</font>"
   ]
  },
  {
   "cell_type": "markdown",
   "metadata": {},
   "source": [
    "<font color = orange> <strong>Note</strong></font> \n",
    "1. Installation time for prerequisites depends upon system and network speed.\n",
    "2. Installing prerequisites for the first time takes more time and watch the kernel status for progress. Following image helps to locate the Kernel status,\n",
    "<center><img src=\"../../../assets/notebook/img/kerner_status.png\" alt=\"**Check Kernel Status**\" /></center>\n",
    "\n",
    "\n",
    "3. Installing prerequisites gives the following error and it can be safely ignored. Functionality remains unaffected.\n",
    "    - <font color = orange> azure-cli 2.0.76 has requirement colorama~=0.4.1, but you'll have colorama 0.3.9 which is incompatible.</font>\n",
    "    - <font color = orange> azure-cli 2.0.76 has requirement pytz==2019.1, but you'll have pytz 2019.3 which is incompatible. </font>\n",
    "    - <font color = orange> The extension azure-cli-iot-ext is not installed. </font>\n",
    "    - <font color = orange> Extension 'azure-iot' is already installed.</font>\n",
    "    "
   ]
  },
  {
   "cell_type": "code",
   "execution_count": 1,
   "metadata": {},
   "outputs": [
    {
     "name": "stderr",
     "output_type": "stream",
     "text": [
      "The extension azure-cli-iot-ext is not installed.\n",
      "Extension 'azure-iot' is already installed.\n"
     ]
    }
   ],
   "source": [
    "!az extension remove --name azure-cli-iot-ext\n",
    "!az extension add --name azure-iot"
   ]
  },
  {
   "cell_type": "code",
   "execution_count": 2,
   "metadata": {
    "scrolled": true
   },
   "outputs": [
    {
     "name": "stdout",
     "output_type": "stream",
     "text": [
      "Checking module (1 of 17): awscli\n",
      "-----------------------------------------\n",
      "Checking module (2 of 17): cryptoauthlib\n",
      "-----------------------------------------\n",
      "Checking module (3 of 17): cryptography\n",
      "-----------------------------------------\n",
      "Checking module (4 of 17): ipywidgets\n",
      "-----------------------------------------\n",
      "Checking module (5 of 17): pyasn1-modules\n",
      "-----------------------------------------\n",
      "Checking module (6 of 17): asn1crypto\n",
      "-----------------------------------------\n",
      "Checking module (7 of 17): pytz\n",
      "-----------------------------------------\n",
      "Checking module (8 of 17): python-jose\n",
      "-----------------------------------------\n",
      "Checking module (9 of 17): pyOpenSSL\n",
      "-----------------------------------------\n",
      "Checking module (10 of 17): boto3\n",
      "-----------------------------------------\n",
      "Checking module (11 of 17): requests-aws4auth\n",
      "-----------------------------------------\n",
      "Checking module (12 of 17): hexrec\n",
      "-----------------------------------------\n",
      "Checking module (13 of 17): hidapi\n",
      "-----------------------------------------\n",
      "Checking module (14 of 17): google-cloud-pubsub\n",
      "-----------------------------------------\n",
      "Checking module (15 of 17): google-cloud-iot\n",
      "-----------------------------------------\n",
      "Checking module (16 of 17): azure-cli\n",
      "-----------------------------------------\n",
      "Checking module (17 of 17): azure-cli-extension\n",
      "-----------------------------------------\n",
      "Completed checking/installing package dependencies\r\n",
      "\n"
     ]
    }
   ],
   "source": [
    "import sys, os\n",
    "\n",
    "home_path = os.path.dirname(os.path.dirname(os.path.dirname(os.path.realpath(os.getcwd()))))\n",
    "module_path = os.path.join(home_path, 'assets', 'python')\n",
    "if not module_path in sys.path:\n",
    "    sys.path.append(module_path)\n",
    "\n",
    "from requirements_helper import requirements_installer\n",
    "obj = requirements_installer(os.path.join(home_path, 'assets', 'requirements.txt'))"
   ]
  },
  {
   "cell_type": "markdown",
   "metadata": {},
   "source": [
    "### Load the necessary modules and helper functions"
   ]
  },
  {
   "cell_type": "code",
   "execution_count": 3,
   "metadata": {
    "scrolled": false
   },
   "outputs": [
    {
     "name": "stdout",
     "output_type": "stream",
     "text": [
      "Importing modules - Successful\n",
      "Checking for Factory Program\n",
      "\tCryptoAuth Trust Platform Factory Program image is not found!\n",
      "\tProgramming Factory Program image...\n",
      "Device initialization - Successful\n",
      "\n",
      "Device ID: sn0123BCE5492A5B4701\n"
     ]
    }
   ],
   "source": [
    "from azure_register_signer import *\n",
    "from ipywidgets import *\n",
    "from IPython.display import display\n",
    "from tkinter import Tk, filedialog\n",
    "from cryptoauthlib import *\n",
    "from cryptoauthlib.iface import *\n",
    "import binascii\n",
    "\n",
    "from trustplatform import *\n",
    "\n",
    "print(\"Importing modules - Successful\")\n",
    "\n",
    "#TFLXTLS device I2C address 0x6C; #TNGTLS device I2C address 0x6A; \n",
    "common_helper.connect_to_secure_element('ATECC608A', ATCAKitType.ATCA_KIT_I2C_IFACE, 0x6C)\n",
    "print(\"Device initialization - Successful\")\n",
    "\n",
    "# Request the Serial Number\n",
    "serial_number = bytearray(9)\n",
    "assert atcab_read_serial_number(serial_number) == Status.ATCA_SUCCESS\n",
    "\n",
    "device_reg_id = \"sn\"+ binascii.hexlify(serial_number).decode(\"utf-8\").upper()\n",
    "print (\"\\r\\nDevice ID: {}\".format(device_reg_id))"
   ]
  },
  {
   "cell_type": "markdown",
   "metadata": {},
   "source": [
    "The following steps assist to perform\n",
    "    1. Azure account login\n",
    "    2. Registering the Signer module\n",
    "    3. Registering the Device\n",
    "\n",
    "#### Azure account login (1. Account Login)\n",
    "This helps to update user Azure credentials to Azure-cli. Azure-cli will be used for any interactions with Azure cloud from the PC.This can be skipped if the azure login update to azure cli is already done.\n",
    "\n",
    "#### Registering the Signer module (2. Register signer)\n",
    "This will register the signer generated during resource generation step to Azure iot hub account. Clicking the 'Register signer' button will trigger signer registration. \n",
    "\n",
    "#### Register the Device (3. Register device)\n",
    "This will register the device ID of the TrustFLEX to Azure iot hub account. Clicking the 'Register device' button will trigger device registration. "
   ]
  },
  {
   "cell_type": "markdown",
   "metadata": {},
   "source": [
    "### 1. Azure account login\n",
    "This step helps to initialise the Azure cli tools with azure account credentials."
   ]
  },
  {
   "cell_type": "code",
   "execution_count": 4,
   "metadata": {},
   "outputs": [],
   "source": [
    "def execute_azure_login(b):\n",
    "    Azure_login.button_style = azure_account_login()\n",
    "    \n",
    "Azure_login = widgets.Button(description = \"Azure login\")\n",
    "Azure_login.on_click(execute_azure_login)"
   ]
  },
  {
   "cell_type": "markdown",
   "metadata": {},
   "source": [
    "### 2. Register Signer Certificate\n",
    "This step of the tutorial registers the signer certificate to the Azure IOT Hub.\n",
    "\n",
    "<font color = green> MUST READ:</font> The Signer name should be unique in the iot hub. If the signer name is already present in iot hub, it will raise an error."
   ]
  },
  {
   "cell_type": "code",
   "execution_count": 5,
   "metadata": {
    "scrolled": false
   },
   "outputs": [],
   "source": [
    "def execute_register_signer(b):   \n",
    "    azure_reg_signer.button_style = register_azure_signer()\n",
    "      \n",
    "azure_reg_signer = widgets.Button(description = \"Register signer\")\n",
    "azure_reg_signer.on_click(execute_register_signer)"
   ]
  },
  {
   "cell_type": "markdown",
   "metadata": {},
   "source": [
    "### 3. Register Device ID\n",
    "This step of the tutorial registers the device ID to the Azure IOT Hub."
   ]
  },
  {
   "cell_type": "code",
   "execution_count": 6,
   "metadata": {},
   "outputs": [
    {
     "data": {
      "application/vnd.jupyter.widget-view+json": {
       "model_id": "05d449eebffd47ba9f699dc1812734b2",
       "version_major": 2,
       "version_minor": 0
      },
      "text/plain": [
       "HBox(children=(Button(description='Azure login', style=ButtonStyle()), Button(description='Register signer', s…"
      ]
     },
     "metadata": {},
     "output_type": "display_data"
    }
   ],
   "source": [
    "def execute_device_register(b):\n",
    "        reg_device.button_style = register_device(device_reg_id)\n",
    "  \n",
    "reg_device = widgets.Button(description = \"Register device\")\n",
    "reg_device.on_click(execute_device_register)\n",
    "\n",
    "display(widgets.HBox((Azure_login, azure_reg_signer, reg_device)))"
   ]
  }
 ],
 "metadata": {
  "kernelspec": {
   "display_name": "Python 3",
   "language": "python",
   "name": "python3"
  },
  "language_info": {
   "codemirror_mode": {
    "name": "ipython",
    "version": 3
   },
   "file_extension": ".py",
   "mimetype": "text/x-python",
   "name": "python",
   "nbconvert_exporter": "python",
   "pygments_lexer": "ipython3",
   "version": "3.7.7"
  }
 },
 "nbformat": 4,
 "nbformat_minor": 2
}

{
 "cells": [
  {
   "cell_type": "markdown",
   "metadata": {},
   "source": [
    "# Introduction\n",
    "\n",
    "<font color = green> <strong>MUST READ:</strong></font> This Notebook tutorial will allow you to add firmware validation capability to your application using TFLXTLS device.\n",
    "\n",
    "Firmware validation support helps in avoiding the unauthorized firmware execution on a given system. The ability to securely upgrade the Microcontroller firmware starts with ensuring that the initial firmware has not been tampered with.\n",
    "\n",
    "Secureboot command assists the MCU to identify fraudulent code installed on it. When this command support is implemented, the MCU can send either the digest or signature or both to the TFLXTLS. Then, the TFLXTLS validates this information and responds to host either with Success/Fail or with MAC value.\n",
    "\n",
    "To have this functionality, once the firmware implementation is completed, it will be signed by the OEM signer to make the image authentic. On the product side, this application will be verified using OEM signers public key to ensure the authenticity. \n",
    "\n",
    "The notebook provides various steps involved to implement this using TFLXTLS device. Steps associated are,\n",
    "1. Setup Modules and Hardware\n",
    "2. Generating a Key pair (optional - If resources are already generated, this step is not required)\n",
    "    * a. Device provisioning:load the firmware validation public key into the TFLXTLS reserved slot\n",
    "3. Sign the firmware\n",
    "4. Update the firmware to product\n",
    "5. Verify the firmware\n",
    "\n",
    "Before running this Notebook,\n",
    "1. Make sure CryptoAuth Trust Platform is having factory reset program\n",
    "2. Firmware validation project is complied and its hex is ready to use\n",
    "3. Application project is moved to an offset to include Firmware validation project and its hex is ready to use"
   ]
  },
  {
   "cell_type": "markdown",
   "metadata": {},
   "source": [
    "### Prerequisites:\n",
    "This step of the tutorial will attempt to load all the necessary modules and their dependencies on your machine. If the modules are already installed you can safely step over the next Tutorial step."
   ]
  },
  {
   "cell_type": "markdown",
   "metadata": {},
   "source": [
    "<font color = orange> <strong>Note</strong></font> \n",
    "1. Installation time for prerequisites depends upon system and network speed.\n",
    "2. Installing prerequisites for the first time takes more time and watch the kernel status for progress. Following image helps to locate the Kernel status,\n",
    "<center><img src=\"../../../assets/notebook/img/kerner_status.png\" alt=\"**Check Kernel Status**\" /></center>\n",
    "\n",
    "\n",
    "3. Installing prerequisites gives the following error and it can be safely ignored. Functionality remains unaffected.\n",
    "    - <font color = orange> azure-cli 2.0.76 has requirement colorama~=0.4.1, but you'll have colorama 0.3.9 which is incompatible.</font>\n",
    "    - <font color = orange>  azure-cli 2.0.76 has requirement pytz==2019.1, but you'll have pytz 2019.3 which is incompatible. </font>"
   ]
  },
  {
   "cell_type": "code",
   "execution_count": null,
   "metadata": {
    "scrolled": true
   },
   "outputs": [],
   "source": [
    "import sys, os\n",
    "\n",
    "home_path = os.path.dirname(os.path.dirname(os.path.dirname(os.path.realpath(os.getcwd()))))\n",
    "module_path = os.path.join(home_path, 'assets', 'python')\n",
    "if not module_path in sys.path:\n",
    "    sys.path.append(module_path)\n",
    "\n",
    "from requirements_helper import requirements_installer\n",
    "obj = requirements_installer(os.path.join(home_path, 'assets', 'requirements.txt'))\n",
    "from trustplatform import program_flash, common_helper\n",
    "programmer = program_flash()"
   ]
  },
  {
   "cell_type": "markdown",
   "metadata": {},
   "source": [
    "### Setup Modules and Hardware\n",
    "This step loads the required modules and helper functions to perform the resource generation sequence. It also \n",
    "1. Initializes the interface with TFLXTLS hardware and establishes commmunication with TFLXTLS.\n",
    "2. Performs device initialization to verify the actual device attached"
   ]
  },
  {
   "cell_type": "code",
   "execution_count": null,
   "metadata": {},
   "outputs": [],
   "source": [
    "import os, fnmatch, binascii\n",
    "import ipywidgets as widgets\n",
    "from ipywidgets import FileUpload\n",
    "import cryptography\n",
    "from cryptoauthlib import *\n",
    "from common import *\n",
    "from sboot_helper import *\n",
    "from IPython.core.display import display\n",
    "import hexrec.records as hr\n",
    "import hexrec.blocks as hb\n",
    "from cryptography.hazmat.primitives import serialization, hashes\n",
    "from cryptography.hazmat.backends import default_backend\n",
    "from cryptography.hazmat.primitives.asymmetric import ec, utils\n",
    "import warnings\n",
    "warnings.filterwarnings('ignore')\n",
    "\n",
    "# Setup cryptography \n",
    "crypto_be = cryptography.hazmat.backends.default_backend()\n",
    "print(\"Importing modules - Successful\")\n",
    "\n",
    "####################################### Initialize interface\n",
    "cfg = cfg_ateccx08a_kithid_default()\n",
    "cfg.devtype = get_device_type_id('ATECC608A')\n",
    "cfg.cfg.atcahid.dev_interface = ATCAKitType.ATCA_KIT_I2C_IFACE\n",
    "cfg.cfg.atcahid.dev_identity = 0x6C #TFLXTLS device I2C address\n",
    "assert_msg = \"Check switch position on CryptoAuth Trust Platform board, verify connections\"\n",
    "if atcab_init(cfg) != ATCA_SUCCESS:\n",
    "    # Check for CryptoAuth Trust Platform connection and default factory reset image\n",
    "    status = programmer.check_for_factory_program()\n",
    "    working_dir = os.getcwd()\n",
    "    common_helper.delete_mplablog_files(working_dir)\n",
    "    assert status == 'success', status\n",
    "    assert atcab_init(cfg) == ATCA_SUCCESS, assert_msg\n",
    "\n",
    "####################################### Verify attached device\n",
    "# Get connected device type\n",
    "info = bytearray(4)\n",
    "assert_msg = \"Cannot read the TFLXTLS device information, Verify device connections on Trust Platform\"\n",
    "assert atcab_info(info) == ATCA_SUCCESS, assert_msg\n",
    "\n",
    "dev_type = get_device_type_id(get_device_name(info))\n",
    "# Checking if the connected device matches with selected device\n",
    "if dev_type != cfg.devtype:\n",
    "    print('Device is not TFLXTLS, Connect TFLXTLS device')\n",
    "    assert atcab_release() == ATCA_SUCCESS, 'atcab_release failed... Rerun Notebook'\n",
    "   \n",
    "print(\"Device initialization - Successful\")"
   ]
  },
  {
   "cell_type": "markdown",
   "metadata": {},
   "source": [
    "### Generating a firmware signing key pair\n",
    "\n",
    "The most important step for firmware validation is having an ECC P256 key pair. The key pair can be generated using many of the options available like openssl (or) python modules etc..,. The private key will sign the image, the associated public key will verify the signed image.\n",
    "\n",
    "<font color=red>This step is already perfomed part of resource generation using TFLXTLS_resource_generation\\TFLXTLS Resource Generator.ipynb. </font> This key pair will be used for sign/verify operations in the steps to come. \n",
    "\n",
    "<font color = green>The keys are generated here using python module and is stored in computer's hard disk, this is not secure and is not recommended for actual production. In actual production environment these keys need to be stored in a secure storage as depitected below.</font>"
   ]
  },
  {
   "cell_type": "markdown",
   "metadata": {},
   "source": [
    "<center><img src=\"img\\firmware_validation_1.png\" alt=\"**Get your Secure Elements here!**\" /></center>"
   ]
  },
  {
   "cell_type": "markdown",
   "metadata": {},
   "source": [
    "The following cell reads the firmware signing key pair generated and prints the associated public key"
   ]
  },
  {
   "cell_type": "code",
   "execution_count": null,
   "metadata": {
    "scrolled": true
   },
   "outputs": [],
   "source": [
    "key_file = '../../00_resource_generation/slot_15_ecc_key_pair.pem'\n",
    "with open(key_file, 'rb') as f:\n",
    "    # Load the public key from key file\n",
    "    priv_key = serialization.load_pem_private_key(\n",
    "            data=f.read(),\n",
    "            password=None,\n",
    "            backend=default_backend())\n",
    "    public_key = priv_key.public_key().public_numbers().encode_point()[1:]\n",
    "\n",
    "print(\"Public Key:\")\n",
    "print(pretty_print_hex(public_key, indent='    '))"
   ]
  },
  {
   "cell_type": "markdown",
   "metadata": {},
   "source": [
    "### a. Device Provisioning: Load the firmware signing public key into TrustFLEX device\n",
    "\n",
    "The public key generated in [section 2.2](#2.2.-Generating-a-firmware-signing-key-pair) needs to be loaded into TrustFLEX device. This public key will be used to verify the signed image in the steps to follow. \n",
    "\n",
    "The TrustFLEX device comes preconfigured. The secure boot public key is expected to be loaded into the slot #15. Please refer to TrustFLEX datasheet on www.microchip.com website for detailed slot organization. \n",
    "\n",
    "In addition, the device is configured for FullDigest secure boot operation, which means after first successful secure boot, digest is stored and on subsequent boots, the signature verification will be skipped and the device will perform only a digest comparison. Therefore, only the firmware validation public key will need to be uploaded into TrustFLEX. After this step, you will end up with a system consisting of the following cryptographic assets\n",
    "\n",
    "<font color=red>This step is already perfomed part of resource generation using TFLXTLS_resource_generation\\TFLXTLS Resource Generator.ipynb. </font>"
   ]
  },
  {
   "cell_type": "markdown",
   "metadata": {},
   "source": [
    "<center><img src=\"img/firmware_validation_2.png\" alt=\"**Get your Secure Elements here!**\" /></center>"
   ]
  },
  {
   "cell_type": "markdown",
   "metadata": {},
   "source": [
    "### Sign the firmware\n",
    "\n",
    "Once the target firmware development is complete, firmware needs to be secured by signing its digest with the private key generated.\n",
    "\n",
    "In this step the following things need to be done:\n",
    "1. Get the firmware validation and application image\n",
    "2. Combine the images and hash it with the SHA256 algorithm\n",
    "3. Sign the digest\n",
    "\n",
    "<font color=purple>slot_15_ecc_key_pair.pem file created in section [2.2](#2.2.-Generating-a-firmware-signing-key-pair) is required to run the following code.</font>\n",
    "\n",
    "The following block diagram provides the high level flow of signing operation on the OEM side."
   ]
  },
  {
   "cell_type": "markdown",
   "metadata": {},
   "source": [
    "<center><img src=\"img/firmware_validation_3.png\" alt=\"**Get your Secure Elements here!**\" /></center>"
   ]
  },
  {
   "cell_type": "markdown",
   "metadata": {},
   "source": [
    "### Load Hex files to Combine and Sign"
   ]
  },
  {
   "cell_type": "code",
   "execution_count": null,
   "metadata": {},
   "outputs": [],
   "source": [
    "firmvalid_img_object = FileUpload(description='Step1a. Load Firmware Validation Hex', accept='.hex', layout=widgets.Layout(width='auto'), multiple=False)\n",
    "app_img_object = FileUpload(description='Step1b. Load Application Hex', accept='.hex', layout=widgets.Layout(width='auto'), multiple=False)\n",
    "\n",
    "def combine_hex(b):\n",
    "    assert_msg = '''Its required both Firmware validation and \n",
    "    Application hex files are selected before running this''' \n",
    "    validity = any(firmvalid_img_object.value) & any(app_img_object.value)\n",
    "    print('Upload Firmware validation and Application Hex file')\n",
    "    display(widgets.Valid(value=validity, description='Upload'))\n",
    "    assert validity, assert_msg\n",
    "    combine_sign_hex(firmvalid_img_object, app_img_object)\n",
    "\n",
    "def flash_combine_hex(b):\n",
    "    if not os.path.isfile(\"combined_image.hex\"):\n",
    "        print(\"Combined hex file needs to be generated before running this step\")\n",
    "        flash_hex.button_style = 'danger'\n",
    "        return None\n",
    "    # Flash combine hex into CryptoAuth Trust Platform\n",
    "    if programmer.check_mplab_path() == True:\n",
    "        print(\"Programming combined hex into CryptoAuth Trust Platform board\")\n",
    "        mergehex_path = os.path.join(os.path.realpath(os.getcwd()), \"combined_image.hex\")\n",
    "        processout = programmer.flash_micro(mergehex_path)\n",
    "        working_dir = os.getcwd()\n",
    "        common_helper.delete_mplablog_files(working_dir)\n",
    "        print(processout.stdout)\n",
    "        if processout.returncode != 0:\n",
    "            flash_hex.button_style = 'danger'\n",
    "            assert processout.returncode == 0, processout.stderr\n",
    "        flash_hex.button_style = 'success'\n",
    "        print(\"Programmed hex successfully\")\n",
    "    else:\n",
    "        flash_hex.button_style = 'danger'\n",
    "        print(\"Program the CryptoAuth Trust Platform board with combined hex\")       \n",
    "\n",
    "tooltip = '''Combines both hex files and Signs the combined image,\n",
    "Should run only after loading both hex file'''\n",
    "combine_and_sign = widgets.Button(description = \"Step1c. Combine both HEX and Sign\", tooltip=tooltip, layout=widgets.Layout(width='auto'))\n",
    "combine_and_sign.on_click(combine_hex)\n",
    "\n",
    "tooltip = \"Flash the combined hex into CryptoAuth Trust Platform\"\n",
    "flash_hex = widgets.Button(description = \"Flash combine hex\", tooltip=tooltip, layout=widgets.Layout(width='auto'))\n",
    "flash_hex.on_click(flash_combine_hex)\n",
    "display(widgets.VBox((firmvalid_img_object, app_img_object, combine_and_sign)))"
   ]
  },
  {
   "cell_type": "markdown",
   "metadata": {},
   "source": [
    "### Update the firmware to product\n",
    "This step upgrades the new firmware image digest to Product secure element. The digest and signature generated in the previous step will be provided to secure element using Secure boot command.  with option set to store (Full Copy) on successful validation of the digest and signature.\n",
    "\n",
    "#### Bus obfuscation\n",
    "To ensure the digest is protected on the bus, its possible to obfuscate it while sending on the bus. <strong>IO Protection Key</strong> helps in encrypting the data.\n",
    "\n",
    "On the TrustFLEX device Slot6 is configured to hold the IO protection key. This slot is configured to Never read and option to lock after writing the key. This is a unique key on the given setup. Every host and device pair agrees on a common key during first power up. Once the pair agrees on, this slot will be locked to avoid further updates. This ensures only this host and device pair knows the key. \n",
    "\n",
    "Any compromise of this key by the host, limits the impact to only this pair. All other host and device security remains intact."
   ]
  },
  {
   "cell_type": "markdown",
   "metadata": {},
   "source": [
    "<center><img src=\"img/firmware_validation_5.png\" alt=\"**Get your Secure Elements here!**\" /></center>"
   ]
  },
  {
   "cell_type": "markdown",
   "metadata": {},
   "source": [
    "<strong>Note:</strong> A click button is provided at the end of the notebook to upgrade the image. This is done to easily access the upgrade and verify operations together."
   ]
  },
  {
   "cell_type": "markdown",
   "metadata": {},
   "source": [
    "### Verify the application image\n",
    "\n",
    "This step checks the application to execute is valid or not by issuing Secure boot command to secure element."
   ]
  },
  {
   "cell_type": "markdown",
   "metadata": {
    "scrolled": false
   },
   "source": [
    "<center><img src=\"img/firmware_validation_4.png\" alt=\"**Get your Secure Elements here!**\" /></center>"
   ]
  },
  {
   "cell_type": "markdown",
   "metadata": {},
   "source": [
    "Below code feeds required parameters for secureboot operation on TrustFLEX device. On receiving this, TrustFLEX performs digest store or comparison based on the mode."
   ]
  },
  {
   "cell_type": "code",
   "execution_count": null,
   "metadata": {},
   "outputs": [],
   "source": [
    "tooltip='Click to update digest/signature using Secureboot command'\n",
    "firmware_update = widgets.Button(description='Firmware Update',tooltip=tooltip)\n",
    "tooltip= 'Click to Verify using Secureboot command'\n",
    "firmware_verify = widgets.Button(description='Firmware Verify',tooltip=tooltip)\n",
    "\n",
    "io_prot_key = get_symmetric_key('../../00_resource_generation/slot_6_secret_key.pem')\n",
    "\n",
    "def secureboot_update(b):\n",
    "# Generating a random number to use\n",
    "    if not os.path.exists(\"combined_image.hex\"):\n",
    "        print(\"The application binary and firmware validation binary needs to be combined and signed before this step\")\n",
    "        firmware_update.button_style = 'danger'\n",
    "        return None\n",
    "    digest, signature = get_digest_signature()\n",
    "    host_random = os.urandom(32)\n",
    "    is_verified = AtcaReference(False)\n",
    "    # In real application, this step should be carried ONLY on firmware upgrade\n",
    "    print('Perform Application upgrade request... ')\n",
    "    atcab_secureboot_mac(SECUREBOOT_MODE_FULL_COPY, digest, signature, host_random, io_prot_key, is_verified)\n",
    "    if 1 == bool(is_verified.value):\n",
    "        print('Secureboot Update Success...')\n",
    "        firmware_update.button_style = 'success'\n",
    "    else:\n",
    "        firmware_update.button_style = 'danger'\n",
    "        print('Secureboot Update failed...')\n",
    "\n",
    "def secureboot_verify(b):\n",
    "    # Generating a random number to use\n",
    "    if not os.path.exists(\"combined_image.hex\"):\n",
    "        print(\"The application binary and firmware validation binary needs to be combined and signed before this step\")\n",
    "        firmware_update.button_style = 'danger'\n",
    "        return None\n",
    "    digest, signature = get_digest_signature()\n",
    "    host_random = os.urandom(32)\n",
    "    is_verified = AtcaReference(False)\n",
    "    # Perform Secureboot operation on the application file\n",
    "    print('Perform Application validation request... ')\n",
    "    assert atcab_secureboot_mac(SECUREBOOT_MODE_FULL_STORE, digest, signature, host_random, io_prot_key, is_verified) == ATCA_SUCCESS\n",
    "    if 1 == bool(is_verified.value):\n",
    "        print('Secureboot Verify Success...')\n",
    "        firmware_verify.button_style = 'success'\n",
    "    else:\n",
    "        firmware_verify.button_style = 'danger'\n",
    "        print('Secureboot Verify failed...')\n",
    "\n",
    "firmware_update.on_click(secureboot_update)\n",
    "firmware_verify.on_click(secureboot_verify)\n",
    "display(widgets.HBox((firmware_update, firmware_verify, flash_hex)))"
   ]
  }
 ],
 "metadata": {
  "kernelspec": {
   "display_name": "Python 3",
   "language": "python",
   "name": "python3"
  },
  "language_info": {
   "codemirror_mode": {
    "name": "ipython",
    "version": 3
   },
   "file_extension": ".py",
   "mimetype": "text/x-python",
   "name": "python",
   "nbconvert_exporter": "python",
   "pygments_lexer": "ipython3",
   "version": "3.7.7"
  }
 },
 "nbformat": 4,
 "nbformat_minor": 2
}

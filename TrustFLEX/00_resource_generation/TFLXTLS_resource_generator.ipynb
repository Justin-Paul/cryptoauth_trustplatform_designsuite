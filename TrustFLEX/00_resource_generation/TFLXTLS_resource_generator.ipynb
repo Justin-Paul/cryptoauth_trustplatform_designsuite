{
 "cells": [
  {
   "cell_type": "markdown",
   "metadata": {},
   "source": [
    "# Introduction\n",
    "\n",
    "<font color = green> <strong>MUST READ:</strong></font> This Notebook tutorial will allow one to create temporary key files for all applicable slots and program into the device. These keys would be used for various operations performed by various usecase Notebooks and Embedded projects provided in the DesignSuite.\n",
    "\n",
    "<font color = green>These keys are generated using python modules and is stored in computer's hard disk, this is not secure and is not recommended for actual production. In production environment these keys need to be stored in a secure storage.</font>\n",
    "\n",
    "Before running this Notebook,\n",
    "1. Make sure CryptoAuth Trust Platform is having factory reset program"
   ]
  },
  {
   "cell_type": "markdown",
   "metadata": {},
   "source": [
    "### Prerequisites:\n",
    "This step of the tutorial will attempt to load all the necessary modules and their dependencies on your machine. If the modules are already installed you can safely step over the next Tutorial step."
   ]
  },
  {
   "cell_type": "markdown",
   "metadata": {},
   "source": [
    "<font color = orange> <strong>Note</strong></font> \n",
    "1. Installation time for prerequisites depends upon system and network speed.\n",
    "2. Installing prerequisites for the first time takes more time and watch the kernel status for progress.Following image helps to locate the Kernel status,\n",
    "<center><img src=\"../../assets/notebook/img/kerner_status.png\" alt=\"**Check Kernel Status**\" /></center>\n",
    "\n",
    "\n",
    "3. Installing prerequisites gives the following error and it can be safely ignored. Functionality remains unaffected.\n",
    "    - <font color = orange> azure-cli 2.0.76 has requirement colorama~=0.4.1, but you'll have colorama 0.3.9 which is incompatible.</font>\n",
    "    - <font color = orange>  azure-cli 2.0.76 has requirement pytz==2019.1, but you'll have pytz 2019.3 which is incompatible. </font>"
   ]
  },
  {
   "cell_type": "code",
   "execution_count": 1,
   "metadata": {
    "scrolled": true
   },
   "outputs": [
    {
     "name": "stdout",
     "output_type": "stream",
     "text": [
      "Checking module (1 of 17): awscli\n",
      "-----------------------------------------\n",
      "Checking module (2 of 17): cryptoauthlib\n",
      "-----------------------------------------\n",
      "Checking module (3 of 17): cryptography\n",
      "-----------------------------------------\n",
      "Checking module (4 of 17): ipywidgets\n",
      "-----------------------------------------\n",
      "Checking module (5 of 17): pyasn1-modules\n",
      "-----------------------------------------\n",
      "Checking module (6 of 17): asn1crypto\n",
      "-----------------------------------------\n",
      "Checking module (7 of 17): pytz\n",
      "-----------------------------------------\n",
      "Checking module (8 of 17): python-jose\n",
      "-----------------------------------------\n",
      "Checking module (9 of 17): pyOpenSSL\n",
      "-----------------------------------------\n",
      "Checking module (10 of 17): boto3\n",
      "-----------------------------------------\n",
      "Checking module (11 of 17): requests-aws4auth\n",
      "-----------------------------------------\n",
      "Checking module (12 of 17): hexrec\n",
      "-----------------------------------------\n",
      "Checking module (13 of 17): hidapi\n",
      "-----------------------------------------\n",
      "Checking module (14 of 17): google-cloud-pubsub\n",
      "-----------------------------------------\n",
      "Checking module (15 of 17): google-cloud-iot\n",
      "-----------------------------------------\n",
      "Checking module (16 of 17): azure-cli\n",
      "-----------------------------------------\n",
      "Checking module (17 of 17): azure-cli-extension\n",
      "-----------------------------------------\n",
      "Completed checking/installing package dependencies\r\n",
      "\n"
     ]
    }
   ],
   "source": [
    "import sys, os\n",
    "\n",
    "home_path = os.path.dirname(os.path.dirname(os.path.realpath(os.getcwd())))\n",
    "module_path = os.path.join(home_path, 'assets', 'python')\n",
    "if not module_path in sys.path:\n",
    "    sys.path.append(module_path)\n",
    "\n",
    "from requirements_helper import requirements_installer\n",
    "obj = requirements_installer(os.path.join(home_path, 'assets', 'requirements.txt'))"
   ]
  },
  {
   "cell_type": "markdown",
   "metadata": {},
   "source": [
    "### Setup Modules and Hardware\n",
    "This step loads the required modules and helper functions to perform the resource generation sequence. It also \n",
    "1. Initializes the interface with TrustFLEX hardware and establishes commmunication with TrustFLEX.\n",
    "2. Performs device initialization to verify the actual device attached"
   ]
  },
  {
   "cell_type": "code",
   "execution_count": 2,
   "metadata": {
    "scrolled": true
   },
   "outputs": [
    {
     "name": "stdout",
     "output_type": "stream",
     "text": [
      "Importing modules - Successful\n",
      "Device initialization - Successful\n"
     ]
    }
   ],
   "source": [
    "####################################### Load Modules\n",
    "import os, fnmatch\n",
    "import cryptography\n",
    "import ipywidgets as widgets\n",
    "import warnings\n",
    "\n",
    "from helper import *\n",
    "from cryptoauthlib import *\n",
    "from certs_handler import *\n",
    "from trustplatform import *\n",
    "\n",
    "warnings.filterwarnings('ignore')\n",
    "print(\"Importing modules - Successful\")\n",
    "\n",
    "#TFLXTLS device I2C address 0x6C; #TNGTLS device I2C address 0x6A; \n",
    "common_helper.connect_to_secure_element('ATECC608A', ATCAKitType.ATCA_KIT_I2C_IFACE, 0x6C)\n",
    "print(\"Device initialization - Successful\")"
   ]
  },
  {
   "cell_type": "markdown",
   "metadata": {},
   "source": [
    "### Generate Keys\n",
    "This step of Notebook creates key files for all applicable slots and programs  into the device.\n",
    "\n",
    "<font color=green>The keys are generated here using python module and is stored in computer's hard disk, this is not secure and is not recommended for actual production. In actual production environment these keys need to be stored in a secure storage as depitected below.</font>\n",
    "\n",
    "NOTE: While writing symmetric key into secure element it has to be encrypted with IO protection key. So here, Slot 6 (IO protection key) is written before slot 5 (Symmetric key)."
   ]
  },
  {
   "cell_type": "code",
   "execution_count": 3,
   "metadata": {
    "scrolled": true
   },
   "outputs": [
    {
     "name": "stdout",
     "output_type": "stream",
     "text": [
      "\n",
      "---------------------------------------------\n",
      "Slot 0 is a private key slot, no action required\n",
      "Slot 1 is a private key slot, no action required\n",
      "Slot 2 is a private key slot, no action required\n",
      "Slot 3 is a private key slot, no action required\n",
      "Slot 4 is a private key slot, no action required\n",
      "Slot 6 is a secret key, created slot_6_secret_key.pem and programmed\n",
      "\n",
      "NOTE: While writing symmetric key into secure element it has to be encrypted with IO protection key. So here, Slot 6 (IO protection key) is written before slot 5 (Symmetric key) \n",
      "\n",
      "Slot 5 is a secret key, created slot_5_secret_key.pem and programmed\n",
      "Slot 7 is a secureboot digest slot, slot can only be written through secureboot command\n",
      "Slot 8 is a general purpose slot of size 416 bytes, no action required\n",
      "Slot 9 is a secret key, created slot_9_secret_key.pem and programmed\n",
      "Slot 10 is a certificate slot, no action required now, will be updated as part of Generate Certificates\n",
      "Slot 11 is a certificate slot, no action required now, will be updated as part of Generate Certificates\n",
      "Slot 12 is a certificate slot, no action required now, will be updated as part of Generate Certificates\n",
      "Slot 13 is a public key slot, created slot_13_ecc_key_pair.pem and programmed\n",
      "Slot 14 is a public key slot, created slot_14_ecc_key_pair.pem and programmed\n",
      "Slot 15 is a public key slot, created slot_15_ecc_key_pair.pem and programmed\n",
      "\n",
      "---------------------------------------------\n",
      "Key generation - Success\n",
      "---------------------------------------------\n",
      "\n"
     ]
    }
   ],
   "source": [
    "print('\\n\\r---------------------------------------------')\n",
    "slots = [0,1,2,3,4,6,5,7,8,9,10,11,12,13,14,15] \n",
    "for i in slots:\n",
    "    status = create_resource_and_program(i)\n",
    "    if(status != True):\n",
    "        raise ValueError(\"Resource gererator failure\")\n",
    "\n",
    "# Additional step to generate files for C-examples (ignore for Notebooks)\n",
    "create_resources_for_c_examples();\n",
    "print('\\n\\r---------------------------------------------')\n",
    "print('Key generation - Success')\n",
    "print('---------------------------------------------\\n\\r')"
   ]
  },
  {
   "cell_type": "markdown",
   "metadata": {},
   "source": [
    "### Generate Ceritificates\n",
    "This step of the Notebook generates certificates and Manifest files for the connected devices. The certificate can be MCHP standard certificate or the custom certificate in which Organization name can be User specific. \n",
    "\n",
    "This generates root CA, Signer CA as per the MCHP standard template. Manifests generated here will be signed by the log signer created in this step, Whereas Manifests downloaded from Microchip Direct will be signed by Microchip.\n",
    "\n",
    "<font color=green>The certificates are generated using python module and CA's private keys are stored in computer's hard disk, this is not secure and is not recommended for actual production. In actual production environment these keys need to be stored in a secure storage</font>"
   ]
  },
  {
   "cell_type": "code",
   "execution_count": 5,
   "metadata": {},
   "outputs": [
    {
     "name": "stdout",
     "output_type": "stream",
     "text": [
      "------------- Creating Manifest Log Signer ----------- \n",
      "Loading Manifest logger key\n",
      "Generating self-signed logging certificate\n",
      "    Saving to log_signer.crt\n",
      "------------------------------------------------------\n",
      "\n",
      "\n",
      "Select the Certificate Type to prototype\n"
     ]
    },
    {
     "data": {
      "application/vnd.jupyter.widget-view+json": {
       "model_id": "36efcf6308f44db2b461738ff4ff2f99",
       "version_major": 2,
       "version_minor": 0
      },
      "text/plain": [
       "HBox(children=(Button(description='MCHP Cert', layout=Layout(width='auto'), style=ButtonStyle(), tooltip='Atte…"
      ]
     },
     "metadata": {},
     "output_type": "display_data"
    },
    {
     "data": {
      "application/vnd.jupyter.widget-view+json": {
       "model_id": "8f90ee4fb183439cb530c54d85efc059",
       "version_major": 2,
       "version_minor": 0
      },
      "text/plain": [
       "Text(value='', description='Org Name:', style=DescriptionStyle(description_width='150px'))"
      ]
     },
     "metadata": {},
     "output_type": "display_data"
    },
    {
     "name": "stdout",
     "output_type": "stream",
     "text": [
      "Custom Certs processing...\n",
      "Device contains custom device and signer certificates\n",
      "Adjusted Orgname for size and spaces:test_org2_______________\n",
      "Read device serial number...OK (SN: 0123BCE5492A5B4701)\n",
      "Read device public key from slot 0...OK (Public Key: B3102C59A392087B27DFE7708DBA46864120D8CD7D7F764AF42A603DC204F9C684A60021EBA46C32911B96D06BE28C4DEC4ABB52E4078951CCA34D1C27D0BED2)\n",
      "Generating device certificate...OK (saved to device_0123BCE5492A5B4701.crt)\n",
      "Saving signer certificate to device...OK\n",
      "Saving device certificate to device...OK\n",
      "Thing ID 655487aaf0ef29068f90808ecf84abfd7cff213c\n",
      "\n",
      "---------------------------------------------\n",
      "Custom certificate generation and provisioning - SUCCESS\n",
      "---------------------------------------------\n",
      "\n",
      "Validate root certificate...OK\n",
      "-----BEGIN CERTIFICATE-----\n",
      "MIIB8TCCAZegAwIBAgIQV6Xd9dhCIL7lVTCY0iHk3jAKBggqhkjOPQQDAjBPMSEw\n",
      "HwYDVQQKDBh0ZXN0X29yZzJfX19fX19fX19fX19fX18xKjAoBgNVBAMMIUNyeXB0\n",
      "byBBdXRoZW50aWNhdGlvbiBSb290IENBIDAwMjAgFw0yMDAzMTAxMzEyNTRaGA8y\n",
      "MDYwMDIyOTEzMTI1NFowTzEhMB8GA1UECgwYdGVzdF9vcmcyX19fX19fX19fX19f\n",
      "X19fMSowKAYDVQQDDCFDcnlwdG8gQXV0aGVudGljYXRpb24gUm9vdCBDQSAwMDIw\n",
      "WTATBgcqhkjOPQIBBggqhkjOPQMBBwNCAAQhqHnAqHJYNb9m1eO1U4aLKfdLrhM/\n",
      "TU6tIc9tPMgV1vV3bGnHY1aXQ5wSOJJDu9nhjsghxhrYkTpfHDqO+sUqo1MwUTAd\n",
      "BgNVHQ4EFgQUE1+9VWhes3dOTL03QcUBiBZlgnwwHwYDVR0jBBgwFoAUE1+9VWhe\n",
      "s3dOTL03QcUBiBZlgnwwDwYDVR0TAQH/BAUwAwEB/zAKBggqhkjOPQQDAgNIADBF\n",
      "AiAWpqncPEKrifP53FUnVMqBkv8QGDjXXge6u5G4zC5l3AIhAIN7bqr2iJmDJEvK\n",
      "RRfFrO3nHJiiXOf/j/Dx6jUXdoY0\n",
      "-----END CERTIFICATE-----\n",
      "\n",
      "Certificate:\n",
      "    Data:\n",
      "        Version: 3 (0x2)\n",
      "        Serial Number:\n",
      "            57:a5:dd:f5:d8:42:20:be:e5:55:30:98:d2:21:e4:de\n",
      "        Signature Algorithm: ecdsa-with-SHA256\n",
      "        Issuer: O=test_org2_______________, CN=Crypto Authentication Root CA 002\n",
      "        Validity\n",
      "            Not Before: Mar 10 13:12:54 2020 GMT\n",
      "            Not After : Feb 29 13:12:54 2060 GMT\n",
      "        Subject: O=test_org2_______________, CN=Crypto Authentication Root CA 002\n",
      "        Subject Public Key Info:\n",
      "            Public Key Algorithm: id-ecPublicKey\n",
      "                Public-Key: (256 bit)\n",
      "                pub:\n",
      "                    04:21:a8:79:c0:a8:72:58:35:bf:66:d5:e3:b5:53:\n",
      "                    86:8b:29:f7:4b:ae:13:3f:4d:4e:ad:21:cf:6d:3c:\n",
      "                    c8:15:d6:f5:77:6c:69:c7:63:56:97:43:9c:12:38:\n",
      "                    92:43:bb:d9:e1:8e:c8:21:c6:1a:d8:91:3a:5f:1c:\n",
      "                    3a:8e:fa:c5:2a\n",
      "                ASN1 OID: prime256v1\n",
      "                NIST CURVE: P-256\n",
      "        X509v3 extensions:\n",
      "            X509v3 Subject Key Identifier: \n",
      "                13:5F:BD:55:68:5E:B3:77:4E:4C:BD:37:41:C5:01:88:16:65:82:7C\n",
      "            X509v3 Authority Key Identifier: \n",
      "                keyid:13:5F:BD:55:68:5E:B3:77:4E:4C:BD:37:41:C5:01:88:16:65:82:7C\n",
      "\n",
      "            X509v3 Basic Constraints: critical\n",
      "                CA:TRUE\n",
      "    Signature Algorithm: ecdsa-with-SHA256\n",
      "         30:45:02:20:16:a6:a9:dc:3c:42:ab:89:f3:f9:dc:55:27:54:\n",
      "         ca:81:92:ff:10:18:38:d7:5e:07:ba:bb:91:b8:cc:2e:65:dc:\n",
      "         02:21:00:83:7b:6e:aa:f6:88:99:83:24:4b:ca:45:17:c5:ac:\n",
      "         ed:e7:1c:98:a2:5c:e7:ff:8f:f0:f1:ea:35:17:76:86:34\n",
      "\n",
      "\n",
      "Validate signer certificate...OK\n",
      "-----BEGIN CERTIFICATE-----\n",
      "MIICBTCCAaqgAwIBAgIQTpt4OeLjjJrPFbCdPmF5AzAKBggqhkjOPQQDAjBPMSEw\n",
      "HwYDVQQKDBh0ZXN0X29yZzJfX19fX19fX19fX19fX18xKjAoBgNVBAMMIUNyeXB0\n",
      "byBBdXRoZW50aWNhdGlvbiBSb290IENBIDAwMjAgFw0yMDAzMTAxMzAwMDBaGA8y\n",
      "MDQwMDMxMDEzMDAwMFowTzEhMB8GA1UECgwYdGVzdF9vcmcyX19fX19fX19fX19f\n",
      "X19fMSowKAYDVQQDDCFDcnlwdG8gQXV0aGVudGljYXRpb24gU2lnbmVyIEZGRkYw\n",
      "WTATBgcqhkjOPQIBBggqhkjOPQMBBwNCAAQ+j6xbVfS+MZzTsb8P7k212s5Oz0gP\n",
      "fXwCTMr39P2FHBZSNJQGvaON4B/THiPzlDkiZ+o85QRE/FnuG4HZn6pJo2YwZDAO\n",
      "BgNVHQ8BAf8EBAMCAYYwEgYDVR0TAQH/BAgwBgEB/wIBADAdBgNVHQ4EFgQUnJsh\n",
      "uC2RYXxW6agiN8+n3I2cAGswHwYDVR0jBBgwFoAUE1+9VWhes3dOTL03QcUBiBZl\n",
      "gnwwCgYIKoZIzj0EAwIDSQAwRgIhALM8IyHrWgnUxISujpQjiz/5JXm01qCwRn2Q\n",
      "eLV24jCHAiEArdIn/VOQClnwX+kNK7CzuciiJyVE5trpBIDfeGJ9bmA=\n",
      "-----END CERTIFICATE-----\n",
      "\n",
      "Certificate:\n",
      "    Data:\n",
      "        Version: 3 (0x2)\n",
      "        Serial Number:\n",
      "            4e:9b:78:39:e2:e3:8c:9a:cf:15:b0:9d:3e:61:79:03\n",
      "        Signature Algorithm: ecdsa-with-SHA256\n",
      "        Issuer: O=test_org2_______________, CN=Crypto Authentication Root CA 002\n",
      "        Validity\n",
      "            Not Before: Mar 10 13:00:00 2020 GMT\n",
      "            Not After : Mar 10 13:00:00 2040 GMT\n",
      "        Subject: O=test_org2_______________, CN=Crypto Authentication Signer FFFF\n",
      "        Subject Public Key Info:\n",
      "            Public Key Algorithm: id-ecPublicKey\n",
      "                Public-Key: (256 bit)\n",
      "                pub:\n",
      "                    04:3e:8f:ac:5b:55:f4:be:31:9c:d3:b1:bf:0f:ee:\n",
      "                    4d:b5:da:ce:4e:cf:48:0f:7d:7c:02:4c:ca:f7:f4:\n",
      "                    fd:85:1c:16:52:34:94:06:bd:a3:8d:e0:1f:d3:1e:\n",
      "                    23:f3:94:39:22:67:ea:3c:e5:04:44:fc:59:ee:1b:\n",
      "                    81:d9:9f:aa:49\n",
      "                ASN1 OID: prime256v1\n",
      "                NIST CURVE: P-256\n",
      "        X509v3 extensions:\n",
      "            X509v3 Key Usage: critical\n",
      "                Digital Signature, Certificate Sign, CRL Sign\n",
      "            X509v3 Basic Constraints: critical\n",
      "                CA:TRUE, pathlen:0\n",
      "            X509v3 Subject Key Identifier: \n",
      "                9C:9B:21:B8:2D:91:61:7C:56:E9:A8:22:37:CF:A7:DC:8D:9C:00:6B\n",
      "            X509v3 Authority Key Identifier: \n",
      "                keyid:13:5F:BD:55:68:5E:B3:77:4E:4C:BD:37:41:C5:01:88:16:65:82:7C\n",
      "\n",
      "    Signature Algorithm: ecdsa-with-SHA256\n",
      "         30:46:02:21:00:b3:3c:23:21:eb:5a:09:d4:c4:84:ae:8e:94:\n",
      "         23:8b:3f:f9:25:79:b4:d6:a0:b0:46:7d:90:78:b5:76:e2:30:\n",
      "         87:02:21:00:ad:d2:27:fd:53:90:0a:59:f0:5f:e9:0d:2b:b0:\n",
      "         b3:b9:c8:a2:27:25:44:e6:da:e9:04:80:df:78:62:7d:6e:60\n",
      "\n",
      "\n",
      "Validate device certificate...OK\n",
      "-----BEGIN CERTIFICATE-----\n",
      "MIIB8DCCAZegAwIBAgIQSGjIygtdMAjF8NHxAlbmYDAKBggqhkjOPQQDAjBPMSEw\n",
      "HwYDVQQKDBh0ZXN0X29yZzJfX19fX19fX19fX19fX18xKjAoBgNVBAMMIUNyeXB0\n",
      "byBBdXRoZW50aWNhdGlvbiBTaWduZXIgRkZGRjAgFw0yMDAzMTAxMzAwMDBaGA8y\n",
      "MDQ4MDMxMDEzMDAwMFowQjEhMB8GA1UECgwYdGVzdF9vcmcyX19fX19fX19fX19f\n",
      "X19fMR0wGwYDVQQDDBRzbjAxMjNCQ0U1NDkyQTVCNDcwMTBZMBMGByqGSM49AgEG\n",
      "CCqGSM49AwEHA0IABLMQLFmjkgh7J9/ncI26RoZBINjNfX92SvQqYD3CBPnGhKYA\n",
      "IeukbDKRG5bQa+KMTexKu1LkB4lRzKNNHCfQvtKjYDBeMAwGA1UdEwEB/wQCMAAw\n",
      "DgYDVR0PAQH/BAQDAgOIMB0GA1UdDgQWBBRlVIeq8O8pBo+QgI7PhKv9fP8hPDAf\n",
      "BgNVHSMEGDAWgBScmyG4LZFhfFbpqCI3z6fcjZwAazAKBggqhkjOPQQDAgNHADBE\n",
      "AiBjAEKHowTn4A596JxZvp96ZblncB2bkCRldU5+Nj/N8QIgURCgR7MPfokCQaYU\n",
      "q1IeoBIUFD4lkz61bnZugnt+1MU=\n",
      "-----END CERTIFICATE-----\n",
      "\n",
      "Certificate:\n",
      "    Data:\n",
      "        Version: 3 (0x2)\n",
      "        Serial Number:\n",
      "            48:68:c8:ca:0b:5d:30:08:c5:f0:d1:f1:02:56:e6:60\n",
      "        Signature Algorithm: ecdsa-with-SHA256\n",
      "        Issuer: O=test_org2_______________, CN=Crypto Authentication Signer FFFF\n",
      "        Validity\n",
      "            Not Before: Mar 10 13:00:00 2020 GMT\n",
      "            Not After : Mar 10 13:00:00 2048 GMT\n",
      "        Subject: O=test_org2_______________, CN=sn0123BCE5492A5B4701\n",
      "        Subject Public Key Info:\n",
      "            Public Key Algorithm: id-ecPublicKey\n",
      "                Public-Key: (256 bit)\n",
      "                pub:\n",
      "                    04:b3:10:2c:59:a3:92:08:7b:27:df:e7:70:8d:ba:\n",
      "                    46:86:41:20:d8:cd:7d:7f:76:4a:f4:2a:60:3d:c2:\n",
      "                    04:f9:c6:84:a6:00:21:eb:a4:6c:32:91:1b:96:d0:\n",
      "                    6b:e2:8c:4d:ec:4a:bb:52:e4:07:89:51:cc:a3:4d:\n",
      "                    1c:27:d0:be:d2\n",
      "                ASN1 OID: prime256v1\n",
      "                NIST CURVE: P-256\n",
      "        X509v3 extensions:\n",
      "            X509v3 Basic Constraints: critical\n",
      "                CA:FALSE\n",
      "            X509v3 Key Usage: critical\n",
      "                Digital Signature, Key Agreement\n",
      "            X509v3 Subject Key Identifier: \n",
      "                65:54:87:AA:F0:EF:29:06:8F:90:80:8E:CF:84:AB:FD:7C:FF:21:3C\n",
      "            X509v3 Authority Key Identifier: \n",
      "                keyid:9C:9B:21:B8:2D:91:61:7C:56:E9:A8:22:37:CF:A7:DC:8D:9C:00:6B\n",
      "\n",
      "    Signature Algorithm: ecdsa-with-SHA256\n",
      "         30:44:02:20:63:00:42:87:a3:04:e7:e0:0e:7d:e8:9c:59:be:\n",
      "         9f:7a:65:b9:67:70:1d:9b:90:24:65:75:4e:7e:36:3f:cd:f1:\n",
      "         02:20:51:10:a0:47:b3:0f:7e:89:02:41:a6:14:ab:52:1e:a0:\n",
      "         12:14:14:3e:25:93:3e:b5:6e:76:6e:82:7b:7e:d4:c5\n",
      "\n",
      "\n",
      "Generating manifest file...OK (saved to 0123BCE5492A5B4701_manifest.json)\n",
      "--------------------------------------------\n"
     ]
    }
   ],
   "source": [
    "def generate_mchp_cert(b):\n",
    "    print('--------------------------------------------')\n",
    "    print('MCHP Certs processing...')\n",
    "    mchp_cert()\n",
    "    print('MCHP Certificate processing completed successfully')\n",
    "    print('--------------------------------------------')\n",
    "def get_org_name(b):\n",
    "    text = widgets.Text(value='', description='Org Name:', style={'description_width': '150px'})\n",
    "    text.on_submit(generate_cust_cert)\n",
    "    display(text)\n",
    "def generate_cust_cert(b):\n",
    "    print('Custom Certs processing...')\n",
    "    custom_cert(b.value)\n",
    "    print('--------------------------------------------')\n",
    "tooltip = 'Attemps to restore MCHP certs'\n",
    "mchp_cert_button = widgets.Button(description = \"MCHP Cert\", tooltip=tooltip, layout=widgets.Layout(width='auto'))\n",
    "mchp_cert_button.on_click(generate_mchp_cert)\n",
    "tooltip = 'Attemps to load Custom certs'\n",
    "cust_cert_button = widgets.Button(description = \"Custom Cert\", tooltip=tooltip, layout=widgets.Layout(width='auto'))\n",
    "cust_cert_button.on_click(get_org_name)\n",
    "\n",
    "certs_handler.create_manifest_log_signer()\n",
    "print('\\n\\nSelect the Certificate Type to prototype')\n",
    "display(widgets.HBox((mchp_cert_button, cust_cert_button)))"
   ]
  },
  {
   "cell_type": "markdown",
   "metadata": {},
   "source": [
    "Keys are generated and stored in the device, the same key will be available in the the same directory as .pem files. For certificates the tool will generate keys, certificates and associated .c and .h files. \n",
    "    \n",
    "<font color=green> This text marks the end of this tool, after this you can run the usecase examples."
   ]
  }
 ],
 "metadata": {
  "kernelspec": {
   "display_name": "Python 3",
   "language": "python",
   "name": "python3"
  },
  "language_info": {
   "codemirror_mode": {
    "name": "ipython",
    "version": 3
   },
   "file_extension": ".py",
   "mimetype": "text/x-python",
   "name": "python",
   "nbconvert_exporter": "python",
   "pygments_lexer": "ipython3",
   "version": "3.8.1"
  }
 },
 "nbformat": 4,
 "nbformat_minor": 2
}

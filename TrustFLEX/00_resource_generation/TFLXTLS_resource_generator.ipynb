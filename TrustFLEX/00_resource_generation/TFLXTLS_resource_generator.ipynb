{
 "cells": [
  {
   "cell_type": "markdown",
   "metadata": {},
   "source": [
    "# Introduction\n",
    "\n",
    "<font color = green> <strong>MUST READ:</strong></font> This Notebook tutorial will allow one to create temporary key files for all applicable slots and program into the device. These keys would be used for various operations performed by various usecase Notebooks and Embedded projects provided in the DesignSuite.\n",
    "\n",
    "<font color = green>These keys are generated using python modules and is stored in computer's hard disk, this is not secure and is not recommended for actual production. In production environment these keys need to be stored in a secure storage.</font>\n",
    "\n",
    "Before running this Notebook,\n",
    "1. Make sure CryptoAuth Trust Platform is having factory reset program"
   ]
  },
  {
   "cell_type": "markdown",
   "metadata": {},
   "source": [
    "### Prerequisites:\n",
    "This step of the tutorial will attempt to load all the necessary modules and their dependencies on your machine. If the modules are already installed you can safely step over the next Tutorial step."
   ]
  },
  {
   "cell_type": "markdown",
   "metadata": {},
   "source": [
    "<font color = orange> <strong>Note</strong></font> \n",
    "1. Installation time for prerequisites depends upon system and network speed.\n",
    "2. Installing prerequisites for the first time takes more time and watch the kernel status for progress.Following image helps to locate the Kernel status,\n",
    "<center><img src=\"../../assets/notebook/img/kerner_status.png\" alt=\"**Check Kernel Status**\" /></center>\n",
    "\n",
    "\n",
    "3. Installing prerequisites gives the following error and it can be safely ignored. Functionality remains unaffected.\n",
    "    - <font color = orange> azure-cli 2.0.76 has requirement colorama~=0.4.1, but you'll have colorama 0.3.9 which is incompatible.</font>\n",
    "    - <font color = orange>  azure-cli 2.0.76 has requirement pytz==2019.1, but you'll have pytz 2019.3 which is incompatible. </font>"
   ]
  },
  {
   "cell_type": "code",
   "execution_count": null,
   "metadata": {
    "scrolled": true
   },
   "outputs": [],
   "source": [
    "import sys, os\n",
    "\n",
    "home_path = os.path.dirname(os.path.dirname(os.path.realpath(os.getcwd())))\n",
    "module_path = os.path.join(home_path, 'assets', 'python')\n",
    "if not module_path in sys.path:\n",
    "    sys.path.append(module_path)\n",
    "\n",
    "from requirements_helper import requirements_installer\n",
    "obj = requirements_installer(os.path.join(home_path, 'assets', 'requirements.txt'))"
   ]
  },
  {
   "cell_type": "markdown",
   "metadata": {},
   "source": [
    "### Setup Modules and Hardware\n",
    "This step loads the required modules and helper functions to perform the resource generation sequence. It also \n",
    "1. Initializes the interface with TrustFLEX hardware and establishes commmunication with TrustFLEX.\n",
    "2. Performs device initialization to verify the actual device attached"
   ]
  },
  {
   "cell_type": "code",
   "execution_count": null,
   "metadata": {
    "scrolled": true
   },
   "outputs": [],
   "source": [
    "####################################### Load Modules\n",
    "import os, fnmatch\n",
    "import cryptography\n",
    "import ipywidgets as widgets\n",
    "import warnings\n",
    "\n",
    "from helper import *\n",
    "from tflx_manifest_generation_helper import *\n",
    "from cryptoauthlib import *\n",
    "from certs_handler import *\n",
    "from trustplatform import *\n",
    "\n",
    "warnings.filterwarnings('ignore')\n",
    "print(\"Importing modules - Successful\")\n",
    "\n",
    "#TFLXTLS device I2C address 0x6C; #TNGTLS device I2C address 0x6A; \n",
    "common_helper.connect_to_secure_element('ATECC608A', ATCAKitType.ATCA_KIT_I2C_IFACE, 0x6C)\n",
    "print(\"Device initialization - Successful\")"
   ]
  },
  {
   "cell_type": "markdown",
   "metadata": {},
   "source": [
    "### Generate Keys\n",
    "This step of Notebook creates key files for all applicable slots and programs  into the device.\n",
    "\n",
    "<font color=green>The keys are generated here using python module and is stored in computer's hard disk, this is not secure and is not recommended for actual production. In actual production environment these keys need to be stored in a secure storage as depitected below.</font>\n",
    "\n",
    "NOTE: While writing symmetric key into secure element it has to be encrypted with IO protection key. So here, Slot 6 (IO protection key) is written before slot 5 (Symmetric key)."
   ]
  },
  {
   "cell_type": "code",
   "execution_count": null,
   "metadata": {
    "scrolled": true
   },
   "outputs": [],
   "source": [
    "def generate_resources(b):\n",
    "    print('\\n\\r---------------------------------------------')\n",
    "    slots = [0,1,2,3,4,6,5,7,8,9,10,11,12,13,14,15] \n",
    "    for i in slots:\n",
    "        status = create_resource_and_program(i)\n",
    "        if(status != True):\n",
    "            generate_resources_button.button_style = 'danger'\n",
    "            raise ValueError(\"Resource gererator failure\")\n",
    "\n",
    "    # Additional step to generate files for C-examples (ignore for Notebooks)\n",
    "    create_resources_for_c_examples();\n",
    "    print('\\n\\r---------------------------------------------')\n",
    "    print('Key generation - Success')\n",
    "    print('---------------------------------------------\\n\\r')\n",
    "    generate_resources_button.button_style = 'success'"
   ]
  },
  {
   "cell_type": "markdown",
   "metadata": {},
   "source": [
    "### Generate Ceritificates\n",
    "This step of the Notebook generates certificates and Manifest files for the connected devices. The certificate can be MCHP standard certificate or the custom certificate in which Organization name can be User specific. \n",
    "\n",
    "This generates root CA, Signer CA as per the MCHP standard template. Manifests generated here will be signed by the log signer created in this step, Whereas Manifests downloaded from Microchip Direct will be signed by Microchip.\n",
    "\n",
    "<font color=green>The certificates are generated using python module and CA's private keys are stored in computer's hard disk, this is not secure and is not recommended for actual production. In actual production environment these keys need to be stored in a secure storage</font>"
   ]
  },
  {
   "cell_type": "code",
   "execution_count": null,
   "metadata": {
    "scrolled": false
   },
   "outputs": [],
   "source": [
    "def generate_mchp_cert(b):\n",
    "    print('--------------------------------------------')\n",
    "    print('MCHP Certs processing...')\n",
    "    mchp_cert_button.button_style = mchp_cert()\n",
    "    print('MCHP Certificate processing completed successfully')\n",
    "    print('--------------------------------------------')\n",
    "\n",
    "def get_org_name(b):\n",
    "    text = widgets.Text(value='', description='Org Name:', style={'description_width': '150px'})\n",
    "    text.on_submit(generate_cust_cert)\n",
    "    display(text)\n",
    "\n",
    "def generate_cust_cert(b):\n",
    "    print('Custom Certs processing...')\n",
    "    cust_cert_button.button_style = custom_cert(b.value)\n",
    "        \n",
    "def generate_manifest(b):\n",
    "    generate_manifest_button.button_style = generate_tflxtls_manifest()\n",
    "\n",
    "tooltip = 'Generate resources'\n",
    "generate_resources_button = widgets.Button(description = \"Generate_Resources\", tooltip=tooltip, layout=widgets.Layout(width='auto'))\n",
    "generate_resources_button.on_click(generate_resources)\n",
    "tooltip = 'Restore MCHP certs'\n",
    "mchp_cert_button = widgets.Button(description = \"MCHP Cert\", tooltip=tooltip, layout=widgets.Layout(width='auto'))\n",
    "mchp_cert_button.on_click(generate_mchp_cert)\n",
    "tooltip = 'Generate and load Custom certs... Enter Org Name in the text box'\n",
    "cust_cert_button = widgets.Button(description = \"Custom Cert\", tooltip=tooltip, layout=widgets.Layout(width='auto'))\n",
    "cust_cert_button.on_click(get_org_name)\n",
    "tooltip = 'Generate manifest file'\n",
    "generate_manifest_button = widgets.Button(description = \"Generate_Manifest\", tooltip=tooltip, layout=widgets.Layout(width='auto'))\n",
    "generate_manifest_button.on_click(generate_manifest)\n",
    "\n",
    "print('--------------------------------------')\n",
    "print('1. Generate resources - generate keys and provision to device')\n",
    "print('2. Select the Certificate Type to prototype')\n",
    "print('3. Generate manifest - generate securesigned element object and store it in manifest file')\n",
    "print('--------------------------------------')\n",
    "\n",
    "certs = widgets.VBox((mchp_cert_button, cust_cert_button))\n",
    "display(widgets.HBox((generate_resources_button, certs, generate_manifest_button)))"
   ]
  },
  {
   "cell_type": "markdown",
   "metadata": {},
   "source": [
    "Keys are generated and stored in the device, the same key will be available in the the same directory as .pem files. For certificates the tool will generate keys, certificates and associated .c and .h files. \n",
    "    \n",
    "<font color=green> This text marks the end of this tool, after this you can run the usecase examples."
   ]
  }
 ],
 "metadata": {
  "kernelspec": {
   "display_name": "Python 3",
   "language": "python",
   "name": "python3"
  },
  "language_info": {
   "codemirror_mode": {
    "name": "ipython",
    "version": 3
   },
   "file_extension": ".py",
   "mimetype": "text/x-python",
   "name": "python",
   "nbconvert_exporter": "python",
   "pygments_lexer": "ipython3",
   "version": "3.7.7"
  }
 },
 "nbformat": 4,
 "nbformat_minor": 2
}

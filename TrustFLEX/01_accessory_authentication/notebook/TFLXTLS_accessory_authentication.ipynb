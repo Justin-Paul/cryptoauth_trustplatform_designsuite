{
 "cells": [
  {
   "cell_type": "markdown",
   "metadata": {},
   "source": [
    "# Introduction\n",
    "<font color = green> <strong>MUST READ:</strong></font> This Notebook tutorial will allow you to perform Accessory authentication with TFLXTLS device. \n",
    "\n",
    "The CryptoAuthentication device supports different modes of operation with MAC command. The mode used here is “Move the Challenge to TempKey” where the host sends a random seed to the device and the device generates a nonce (number used once) which incorporates it. The generated nonce here is the challenge. The application sends the MAC command to the device to generate response with the challenge and the symmetric key in it. The generated response is sent to the application and the application performs the same operation done on the device side to generate the response. Finally, the application compares the response from the device and its own calculated response to authenticate. \n",
    "\n",
    "Before running this Notebook,\n",
    "1. Make sure CryptoAuth Trust Platform is having factory reset program"
   ]
  },
  {
   "cell_type": "markdown",
   "metadata": {},
   "source": [
    "### Prerequisites:\n",
    "This step of the tutorial will attempt to load all the necessary modules and their dependencies on your machine. If the modules are already installed you can safely step over the next Tutorial step."
   ]
  },
  {
   "cell_type": "markdown",
   "metadata": {},
   "source": [
    "<font color = orange> <strong>Note</strong></font> \n",
    "1. Installation time for prerequisites depends upon system and network speed.\n",
    "2. Installing prerequisites for the first time takes more time and watch the kernel status for progress. Following image helps to locate the Kernel status,\n",
    "<center><img src=\"../../../assets/notebook/img/kerner_status.png\" alt=\"**Check Kernel Status**\" /></center>\n",
    "\n",
    "\n",
    "3. Installing prerequisites gives the following error and it can be safely ignored. Functionality remains unaffected.\n",
    "    - <font color = orange> azure-cli 2.0.76 has requirement colorama~=0.4.1, but you'll have colorama 0.3.9 which is incompatible.</font>\n",
    "    - <font color = orange>  azure-cli 2.0.76 has requirement pytz==2019.1, but you'll have pytz 2019.3 which is incompatible. </font>"
   ]
  },
  {
   "cell_type": "code",
   "execution_count": null,
   "metadata": {
    "scrolled": true
   },
   "outputs": [],
   "source": [
    "import sys, os\n",
    "\n",
    "home_path = os.path.dirname(os.path.dirname(os.path.dirname(os.path.realpath(os.getcwd()))))\n",
    "module_path = os.path.join(home_path, 'assets', 'python')\n",
    "if not module_path in sys.path:\n",
    "    sys.path.append(module_path)\n",
    "\n",
    "from requirements_helper import requirements_installer\n",
    "obj = requirements_installer(os.path.join(home_path, 'assets', 'requirements.txt'))"
   ]
  },
  {
   "cell_type": "markdown",
   "metadata": {},
   "source": [
    "### Setup Modules and Hardware\n",
    "This step loads the required modules and helper functions to perform the resource generation sequence. It also \n",
    "1. Initializes the interface with TFLXTLS hardware and establishes commmunication with TFLXTLS.\n",
    "2. Performs device initialization to verify the actual device attached"
   ]
  },
  {
   "cell_type": "code",
   "execution_count": null,
   "metadata": {},
   "outputs": [],
   "source": [
    "import argparse,time\n",
    "import warnings\n",
    "\n",
    "from cryptoauthlib import *\n",
    "from cryptography.hazmat.backends import default_backend\n",
    "from cryptography.hazmat.primitives import hashes\n",
    "from asn1crypto import pem\n",
    "from ipywidgets import widgets\n",
    "\n",
    "from trustplatform import *\n",
    "\n",
    "SHARED_SECRET_SLOT = 5 #The slot which contains the symmetric key\n",
    "MAC_MODE = 0x41\n",
    "\n",
    "warnings.filterwarnings('ignore')\n",
    "print(\"Importing modules - Successful\")\n",
    "\n",
    "#TFLXTLS device I2C address 0x6C; #TNGTLS device I2C address 0x6A; \n",
    "common_helper.connect_to_secure_element('ATECC608A', ATCAKitType.ATCA_KIT_I2C_IFACE, 0x6C)\n",
    "print(\"Device initialization - Successful\")"
   ]
  },
  {
   "cell_type": "markdown",
   "metadata": {},
   "source": [
    "### Generate MAC from TFLXTLS part\n",
    "Generate the MAC with ECC608A device.The MAC is generated with the symmetric key in slot, Random number and with device serial number.The MAC generated from the device uses the Random number generator and the generated MAC is unique and will not repeat in future."
   ]
  },
  {
   "cell_type": "markdown",
   "metadata": {},
   "source": [
    "<center><img src=\"img/accessory_auth_image_source1.png\" alt=\"**Get your Secure Elements here!**\" /></center>"
   ]
  },
  {
   "cell_type": "code",
   "execution_count": null,
   "metadata": {},
   "outputs": [],
   "source": [
    "seed_in = bytearray(20)\n",
    "rand_out = bytearray(32)\n",
    "nonce = bytearray()\n",
    "device_mac = bytearray(32)\n",
    "\n",
    "# Generate the nonce in device and return the random number\n",
    "assert atcab_nonce_rand(seed_in,rand_out) == Status.ATCA_SUCCESS, \"Random nonce from device failed\"\n",
    "\n",
    "# Calculate the nonce value on the host side\n",
    "nonce.extend(rand_out[0:32])\n",
    "nonce.extend(seed_in[0:20])\n",
    "nonce.append(0x16)\n",
    "nonce.append(0)\n",
    "nonce.append(0)\n",
    "digest = hashes.Hash(hashes.SHA256(), backend=default_backend())\n",
    "digest.update(bytes(nonce))\n",
    "nonce = digest.finalize()\n",
    "\n",
    "# Calculate the mac in device with its symmetric diversified key in slot\n",
    "assert atcab_mac(MAC_MODE, SHARED_SECRET_SLOT, 0, device_mac) == Status.ATCA_SUCCESS, \"MAC from Accessory device failed\"\n",
    "print(\"MAC Received from Accessory device:\")\n",
    "print(common_helper.pretty_print_hex(device_mac, indent='    '))"
   ]
  },
  {
   "cell_type": "markdown",
   "metadata": {},
   "source": [
    "### Verify Expected MAC on Host\n",
    "Calculate the MAC on the host side.The host with the help of the symmetric key, random nonce and with the TFLXTLS serial number generates the Expected MAC. It then compares the Expected MAC with the MAC sent from TFLXTLS device and executes application after successfull authentication."
   ]
  },
  {
   "cell_type": "markdown",
   "metadata": {},
   "source": [
    "<center><img src=\"img/accessory_auth_image_source2.png\" alt=\"**Get your Secure Elements here!**\" /></center>"
   ]
  },
  {
   "cell_type": "code",
   "execution_count": null,
   "metadata": {},
   "outputs": [],
   "source": [
    "def mac_mac_resp_verify(b):\n",
    "    serial_number = bytearray(9)\n",
    "    host_mac = bytearray()\n",
    "    \n",
    "    # Symmetric key to be used host mac calculation\n",
    "    Symmetric_key = bytearray()\n",
    "    with open(os.path.join(home_path, 'TrustFLEX', '00_resource_generation', 'slot_5_secret_key.pem'), 'rb') as f:\n",
    "        pem_bytes = f.read()\n",
    "    type_name, headers, Symmetric_key = pem.unarmor(pem_bytes)\n",
    "    Symmetric_key = Symmetric_key[17: len(Symmetric_key)]\n",
    "\n",
    "    #Read the serial number from device\n",
    "    assert atcab_read_serial_number(serial_number) == Status.ATCA_SUCCESS, \"Serial number read from device failed\"\n",
    "\n",
    "    # Calculate the mac on the host side\n",
    "    host_mac.extend(Symmetric_key[0:32])\n",
    "    host_mac.extend(nonce[0:32])\n",
    "    host_mac.append(8)\n",
    "    host_mac.append(MAC_MODE)\n",
    "    host_mac.append(SHARED_SECRET_SLOT)\n",
    "    host_mac.append(0)\n",
    "    host_mac.extend([0 for i in range(11)])\n",
    "    host_mac.append(serial_number[8])\n",
    "    host_mac.extend(serial_number[4:8])\n",
    "    host_mac.extend(serial_number[0:2])\n",
    "    host_mac.extend(serial_number[2:4])\n",
    "    digest = hashes.Hash(hashes.SHA256(), backend=default_backend())\n",
    "    digest.update(bytes(host_mac))\n",
    "    host_mac = digest.finalize()\n",
    "    \n",
    "    #uncomment following line to try wrong mac\n",
    "    #host_mac = bytes(b'00000000000000000000000000000000')\n",
    "\n",
    "    print('MAC calculated on host:')\n",
    "    print(common_helper.pretty_print_hex(host_mac, indent='    '))\n",
    "\n",
    "    if (device_mac == host_mac):\n",
    "        print('\\nAccessory device authenticated successfully!')\n",
    "        mac_verify.button_style = 'success'\n",
    "    else:\n",
    "        mac_verify.button_style = 'danger'\n",
    "        print('\\Accessory device not authenticated...')\n",
    "\n",
    "tooltip = 'Click to perform MAC-Response Verify'\n",
    "mac_verify = widgets.Button(description = 'Verify MAC', tooltip=tooltip)\n",
    "mac_verify.on_click(mac_mac_resp_verify)\n",
    "display(mac_verify)"
   ]
  }
 ],
 "metadata": {
  "kernelspec": {
   "display_name": "Python 3",
   "language": "python",
   "name": "python3"
  },
  "language_info": {
   "codemirror_mode": {
    "name": "ipython",
    "version": 3
   },
   "file_extension": ".py",
   "mimetype": "text/x-python",
   "name": "python",
   "nbconvert_exporter": "python",
   "pygments_lexer": "ipython3",
   "version": "3.7.4"
  }
 },
 "nbformat": 4,
 "nbformat_minor": 2
}

{
 "cells": [
  {
   "cell_type": "markdown",
   "metadata": {},
   "source": [
    "The following code segment creates key files for all applicable slots and programs it into the device."
   ]
  },
  {
   "cell_type": "markdown",
   "metadata": {},
   "source": [
    " # TrustFLEX device resource generator/programmer"
   ]
  },
  {
   "cell_type": "markdown",
   "metadata": {},
   "source": [
    "### Prerequisites:\n",
    "The following code is runs on python 3.x environment. The folowing modules are also needed to run the example\n",
    "\n",
    "1. cryptoauthlib\n",
    "2. cryptography\n",
    "\n",
    "The next step of the tutorial with attempt to load all the necessary modules and their dependencies on your machine. If the above modules are already installed you can safely step over the next Tutorial step.\n",
    "\n",
    "> <font color = green>pip install -U module_name</font>"
   ]
  },
  {
   "cell_type": "code",
   "execution_count": null,
   "metadata": {
    "scrolled": true
   },
   "outputs": [],
   "source": [
    "!python -m pip install -r ../requirements.txt"
   ]
  },
  {
   "cell_type": "markdown",
   "metadata": {},
   "source": [
    "### Load the necessary modules and helper functions\n",
    "\n",
    "This Tutorial uses a number of python helper functions that are loaded by the following cell.\n",
    "The below code does the following things:\n",
    "1. Setup of cryptography module\n",
    "2. Adds helper functions to get device name and device type"
   ]
  },
  {
   "cell_type": "code",
   "execution_count": null,
   "metadata": {
    "scrolled": true
   },
   "outputs": [],
   "source": [
    "from common import *\n",
    "from helper import *\n",
    "from manifest_signing_helper import *\n",
    "import os, fnmatch\n",
    "import cryptography\n",
    "from cryptoauthlib import *\n",
    "import ipywidgets as widgets\n",
    "import warnings\n",
    "warnings.filterwarnings('ignore')\n",
    "print(\"Importing modules - Successfull\")"
   ]
  },
  {
   "cell_type": "markdown",
   "metadata": {},
   "source": [
    "### Establish the communication between host (PC) and TrustFLEX\n",
    "1. Initialize the library which also loads it\n",
    "2. Check if the correct device is connected to the PC. If the wrong device is connected, a ValueError excpetion will be raised."
   ]
  },
  {
   "cell_type": "code",
   "execution_count": null,
   "metadata": {
    "scrolled": true
   },
   "outputs": [],
   "source": [
    "ATCA_KIT_I2C_IFACE = 1\n",
    "cfg = cfg_ateccx08a_kithid_default()\n",
    "cfg.devtype = get_device_type_id('ATECC608A')\n",
    "cfg.cfg.atcahid.dev_interface = ATCA_KIT_I2C_IFACE\n",
    "cfg.cfg.atcahid.dev_identity = 0x6C #TFLXTLS device I2C address\n",
    "ATCA_SUCCESS = 0"
   ]
  },
  {
   "cell_type": "markdown",
   "metadata": {},
   "source": [
    "Establish the connection with the ECC608A-TLXTLS device on the USB dongle and check its type\n",
    "<font color=red>If the next Tutorial step yields an exception, the ECC608A is not correctly connected or of the wrong type.</font>"
   ]
  },
  {
   "cell_type": "code",
   "execution_count": null,
   "metadata": {
    "scrolled": true
   },
   "outputs": [],
   "source": [
    "# Initialize interface\n",
    "assert atcab_init(cfg) == ATCA_SUCCESS, \"Can't connect to the USB dongle\"\n",
    "\n",
    "# Get connected device type\n",
    "info = bytearray(4)\n",
    "assert atcab_info(info) == ATCA_SUCCESS, \"Can't read the ECC608A device information\"\n",
    "dev_type = get_device_type_id(get_device_name(info))\n",
    "\n",
    "\n",
    "# Checking if the connected device matches with selected device\n",
    "if dev_type != cfg.devtype:\n",
    "    assert atcab_release() == ATCA_SUCCESS\n",
    "    raise ValueError('Device not supported')\n",
    "    \n",
    "print(\"Device initialization - Successfull\")"
   ]
  },
  {
   "cell_type": "markdown",
   "metadata": {},
   "source": [
    "The following code segment creates key files for all applicable slots and programs it into the device. \n",
    "\n",
    "<font color=green>The keys are generated here using python module and is stored in computer's hard disk, this is not secure and is not recommended for actual production. In actual production environment these keys need to be stored in a secure storage as depitected below.</font>"
   ]
  },
  {
   "cell_type": "code",
   "execution_count": null,
   "metadata": {
    "scrolled": true
   },
   "outputs": [],
   "source": [
    "print('\\n\\r---------------------------------------------\\n\\r')\n",
    "slots = [0,1,2,3,4,6,5,7,8,9,10,11,12,13,14,15] \n",
    "for i in slots:\n",
    "    status = create_resource_and_program(i)\n",
    "    if(status != True):\n",
    "        raise ValueError(\"Resource gererator failure\")\n",
    "\n",
    "# Additional step to generate files for C-examples (ignore for Notebooks)\n",
    "create_resources_for_c_examples();\n",
    "\n",
    "print('\\n\\r---------------------------------------------\\n\\r')\n",
    "print('Key generation - Success')\n",
    "print('\\n\\r---------------------------------------------\\n\\r')"
   ]
  },
  {
   "cell_type": "markdown",
   "metadata": {},
   "source": [
    "The following code creates a signing key and certificate that will be used to sign entries in a manifest. Manifests downloaded from Microchip Direct will be signed by Microchip"
   ]
  },
  {
   "cell_type": "code",
   "execution_count": null,
   "metadata": {},
   "outputs": [],
   "source": [
    "create_log_signer()"
   ]
  },
  {
   "cell_type": "markdown",
   "metadata": {},
   "source": [
    "The following code segment manages to insert customer parameters for common name and organization name into certificate templates"
   ]
  },
  {
   "cell_type": "code",
   "execution_count": null,
   "metadata": {
    "scrolled": true
   },
   "outputs": [],
   "source": [
    "#Get cert type\n",
    "print ('Choose certificate type\\n\\r')\n",
    "print ('\\t1 - MCHP standard certificate\\n\\r')\n",
    "print ('\\t2 - Custom certificate\\n\\r')\n",
    "cert_type = input('Enter certificate type\\n\\r')\n",
    "\n",
    "if (cert_type == '1'):\n",
    "    print ('\\n\\r---------------------------------------------\\n\\r')\n",
    "    print ('MCHP certificate related files are pre-generated')\n",
    "    print ('\\n\\r---------------------------------------------\\n\\r')\n",
    "    mchp_cert()\n",
    "elif (cert_type == '2'):\n",
    "    custom_cert()\n",
    "else:\n",
    "    raise ValueError(\"Invalid cert_type entry\")\n",
    "    \n",
    "print('\\n\\r---------------------------------------------\\n\\r')\n",
    "print('Certificate related steps completed successfully')\n",
    "print('\\n\\r---------------------------------------------\\n\\r')"
   ]
  },
  {
   "cell_type": "markdown",
   "metadata": {},
   "source": [
    "After executing the above code successfully you will find resources generated for all slots. \n",
    "\n",
    "Keys are generated and stored in the device, the same key will be available in the the same directory as .pem files. For certificates the tool will generate keys, certificates and associated .c and .h files. \n",
    "    \n",
    "<font color=green> This text marks the end of this tool, after this you can run the usecase examples."
   ]
  }
 ],
 "metadata": {
  "kernelspec": {
   "display_name": "Python 3",
   "language": "python",
   "name": "python3"
  },
  "language_info": {
   "codemirror_mode": {
    "name": "ipython",
    "version": 3
   },
   "file_extension": ".py",
   "mimetype": "text/x-python",
   "name": "python",
   "nbconvert_exporter": "python",
   "pygments_lexer": "ipython3",
   "version": "3.7.0"
  }
 },
 "nbformat": 4,
 "nbformat_minor": 2
}
